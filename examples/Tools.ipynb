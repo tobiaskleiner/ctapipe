{
 "cells": [
  {
   "cell_type": "markdown",
   "metadata": {},
   "source": [
    "# Creating command-line Tools"
   ]
  },
  {
   "cell_type": "code",
   "execution_count": 1,
   "metadata": {
    "execution": {
     "iopub.execute_input": "2021-02-23T12:33:45.837424Z",
     "iopub.status.busy": "2021-02-23T12:33:45.836846Z",
     "iopub.status.idle": "2021-02-23T12:33:46.630964Z",
     "shell.execute_reply": "2021-02-23T12:33:46.630158Z"
    }
   },
   "outputs": [],
   "source": [
    "from ctapipe.core import Tool, Component, TelescopeComponent\n",
    "from ctapipe.core.traits import (\n",
    "    Integer, Float, List, Dict, Unicode,\n",
    "    TraitError, observe, FloatTelescopeParameter,\n",
    "    Path,\n",
    ")\n",
    "import logging\n",
    "from time import sleep\n",
    "from astropy import units as u\n",
    "from ctapipe.utils import get_dataset_path"
   ]
  },
  {
   "cell_type": "code",
   "execution_count": 2,
   "metadata": {
    "execution": {
     "iopub.execute_input": "2021-02-23T12:33:46.636396Z",
     "iopub.status.busy": "2021-02-23T12:33:46.634780Z",
     "iopub.status.idle": "2021-02-23T12:33:49.047691Z",
     "shell.execute_reply": "2021-02-23T12:33:49.047197Z"
    }
   },
   "outputs": [
    {
     "name": "stderr",
     "output_type": "stream",
     "text": [
      "\r",
      "Downloading gamma_test.simtel.gz:   0%|          | 0.00/14.4M [00:00<?, ?B/s]"
     ]
    },
    {
     "name": "stderr",
     "output_type": "stream",
     "text": [
      "\r",
      "Downloading gamma_test.simtel.gz:   0%|          | 20.5k/14.4M [00:00<01:49, 131kB/s]"
     ]
    },
    {
     "name": "stderr",
     "output_type": "stream",
     "text": [
      "\r",
      "Downloading gamma_test.simtel.gz:   0%|          | 51.2k/14.4M [00:00<01:25, 167kB/s]"
     ]
    },
    {
     "name": "stderr",
     "output_type": "stream",
     "text": [
      "\r",
      "Downloading gamma_test.simtel.gz:   1%|          | 92.2k/14.4M [00:00<01:08, 208kB/s]"
     ]
    },
    {
     "name": "stderr",
     "output_type": "stream",
     "text": [
      "\r",
      "Downloading gamma_test.simtel.gz:   1%|▏         | 195k/14.4M [00:00<00:37, 380kB/s] "
     ]
    },
    {
     "name": "stderr",
     "output_type": "stream",
     "text": [
      "\r",
      "Downloading gamma_test.simtel.gz:   3%|▎         | 379k/14.4M [00:00<00:21, 660kB/s]"
     ]
    },
    {
     "name": "stderr",
     "output_type": "stream",
     "text": [
      "\r",
      "Downloading gamma_test.simtel.gz:   5%|▍         | 707k/14.4M [00:00<00:12, 1.13MB/s]"
     ]
    },
    {
     "name": "stderr",
     "output_type": "stream",
     "text": [
      "\r",
      "Downloading gamma_test.simtel.gz:  10%|▉         | 1.43M/14.4M [00:01<00:05, 2.25MB/s]"
     ]
    },
    {
     "name": "stderr",
     "output_type": "stream",
     "text": [
      "\r",
      "Downloading gamma_test.simtel.gz:  20%|█▉        | 2.87M/14.4M [00:01<00:02, 4.39MB/s]"
     ]
    },
    {
     "name": "stderr",
     "output_type": "stream",
     "text": [
      "\r",
      "Downloading gamma_test.simtel.gz:  39%|███▉      | 5.69M/14.4M [00:01<00:01, 8.50MB/s]"
     ]
    },
    {
     "name": "stderr",
     "output_type": "stream",
     "text": [
      "\r",
      "Downloading gamma_test.simtel.gz:  59%|█████▉    | 8.58M/14.4M [00:01<00:00, 11.4MB/s]"
     ]
    },
    {
     "name": "stderr",
     "output_type": "stream",
     "text": [
      "\r",
      "Downloading gamma_test.simtel.gz:  79%|███████▉  | 11.5M/14.4M [00:01<00:00, 13.3MB/s]"
     ]
    },
    {
     "name": "stderr",
     "output_type": "stream",
     "text": [
      "\r",
      "Downloading gamma_test.simtel.gz:  99%|█████████▉| 14.3M/14.4M [00:01<00:00, 14.7MB/s]"
     ]
    }
   ],
   "source": [
    "GAMMA_FILE = get_dataset_path('gamma_test.simtel.gz')"
   ]
  },
  {
   "cell_type": "markdown",
   "metadata": {},
   "source": [
    "see https://github.com/ipython/traitlets/blob/master/examples/myapp.py"
   ]
  },
  {
   "cell_type": "markdown",
   "metadata": {},
   "source": [
    "## Setup:\n",
    "\n",
    "Create a few `Component`s that we will use later in a `Tool`:"
   ]
  },
  {
   "cell_type": "code",
   "execution_count": 3,
   "metadata": {
    "execution": {
     "iopub.execute_input": "2021-02-23T12:33:49.057541Z",
     "iopub.status.busy": "2021-02-23T12:33:49.055498Z",
     "iopub.status.idle": "2021-02-23T12:33:49.060288Z",
     "shell.execute_reply": "2021-02-23T12:33:49.059756Z"
    }
   },
   "outputs": [],
   "source": [
    "class MyComponent(Component):\n",
    "    \"\"\" A Component that does stuff \"\"\"\n",
    "\n",
    "    value = Integer(default_value=-1, help=\"Value to use\").tag(config=True)\n",
    "\n",
    "    def do_thing(self):\n",
    "        self.log.debug(\"Did thing\")\n",
    "\n",
    "\n",
    "# in order to have 2 of the same components at once\n",
    "class SecondaryMyComponent(MyComponent):\n",
    "    pass\n",
    "\n",
    "\n",
    "class AdvancedComponent(Component):\n",
    "    \"\"\" An advanced technique \"\"\"\n",
    "\n",
    "    value1 = Integer(default_value=-1, help=\"Value to use\").tag(config=True)\n",
    "    infile = Path(\n",
    "        help=\"input file name\", \n",
    "        exists=None,  # set to True to require existing, False for requiring non-existing\n",
    "        directory_ok=False,\n",
    "    ).tag(config=True)\n",
    "    outfile = Path(\n",
    "        help=\"output file name\",\n",
    "        exists=False, directory_ok=False\n",
    "    ).tag(config=True)\n",
    "    \n",
    "    def __init__(self, config=None, parent=None, **kwargs):\n",
    "        super().__init__(config=config, parent=parent, **kwargs)\n",
    "        # components can have sub components, but these must have \n",
    "        # then parent=self as argument and be assigned as member\n",
    "        # so the full config can be received later\n",
    "        self.subcompent = MyComponent(parent=self)\n",
    "\n",
    "    @observe(\"outfile\")\n",
    "    def on_outfile_changed(self, change):\n",
    "        self.log.warning(\"Outfile was changed to '{}'\".format(change))\n",
    "\n",
    "\n",
    "class TelescopeWiseComponent(TelescopeComponent):\n",
    "    \"\"\" a component that contains parameters that are per-telescope configurable \"\"\"\n",
    "\n",
    "    param = FloatTelescopeParameter(\n",
    "        help=\"Something configurable with telescope patterns\", default_value=5.0\n",
    "    ).tag(config=True)"
   ]
  },
  {
   "cell_type": "code",
   "execution_count": 4,
   "metadata": {
    "execution": {
     "iopub.execute_input": "2021-02-23T12:33:49.070539Z",
     "iopub.status.busy": "2021-02-23T12:33:49.067807Z",
     "iopub.status.idle": "2021-02-23T12:33:49.072912Z",
     "shell.execute_reply": "2021-02-23T12:33:49.073342Z"
    }
   },
   "outputs": [
    {
     "data": {
      "text/html": [
       "<b>MyComponent</b>\n",
       "<p>  A Component that does stuff  </p>\n",
       "<table>\n",
       "<tr><th>value</th>\n",
       "<td>-1</td>\n",
       "<td style=\"text-align:left\"><i>Value to use (default: -1)</i></td></tr>\n",
       "</table>"
      ],
      "text/plain": [
       "<__main__.MyComponent at 0x7f108d2b3ac0>"
      ]
     },
     "execution_count": 1,
     "metadata": {},
     "output_type": "execute_result"
    }
   ],
   "source": [
    "MyComponent()"
   ]
  },
  {
   "cell_type": "code",
   "execution_count": 5,
   "metadata": {
    "execution": {
     "iopub.execute_input": "2021-02-23T12:33:49.079224Z",
     "iopub.status.busy": "2021-02-23T12:33:49.078284Z",
     "iopub.status.idle": "2021-02-23T12:33:49.080936Z",
     "shell.execute_reply": "2021-02-23T12:33:49.081385Z"
    }
   },
   "outputs": [
    {
     "data": {
      "text/html": [
       "<b>AdvancedComponent</b>\n",
       "<p>  An advanced technique  </p>\n",
       "<table>\n",
       "<tr><th>infile</th>\n",
       "<td>None</td>\n",
       "<td style=\"text-align:left\"><i>input file name (default: None)</i></td></tr>\n",
       "<tr><th>outfile</th>\n",
       "<td>None</td>\n",
       "<td style=\"text-align:left\"><i>output file name (default: None)</i></td></tr>\n",
       "<tr><th>value1</th>\n",
       "<td>-1</td>\n",
       "<td style=\"text-align:left\"><i>Value to use (default: -1)</i></td></tr>\n",
       "</table>"
      ],
      "text/plain": [
       "<__main__.AdvancedComponent at 0x7f108d2b3a60>"
      ]
     },
     "execution_count": 1,
     "metadata": {},
     "output_type": "execute_result"
    }
   ],
   "source": [
    "AdvancedComponent()"
   ]
  },
  {
   "cell_type": "markdown",
   "metadata": {},
   "source": [
    "`TelescopeComponents` need to have a subarray given to them in order to work (since they need one to turn a `TelescopeParameter` into a concrete list of values for each telescope.  Here we will give a dummy one:"
   ]
  },
  {
   "cell_type": "code",
   "execution_count": 6,
   "metadata": {
    "execution": {
     "iopub.execute_input": "2021-02-23T12:33:49.086305Z",
     "iopub.status.busy": "2021-02-23T12:33:49.085759Z",
     "iopub.status.idle": "2021-02-23T12:33:52.137519Z",
     "shell.execute_reply": "2021-02-23T12:33:52.136978Z"
    }
   },
   "outputs": [
    {
     "name": "stderr",
     "output_type": "stream",
     "text": [
      "\r",
      "Downloading gamma_test.simtel.gz: 100%|██████████| 14.4M/14.4M [00:01<00:00, 7.24MB/s]"
     ]
    },
    {
     "name": "stderr",
     "output_type": "stream",
     "text": [
      "\n"
     ]
    },
    {
     "name": "stderr",
     "output_type": "stream",
     "text": [
      "\r",
      "Downloading LSTCam.camreadout.fits.gz:   0%|          | 0.00/2.79k [00:00<?, ?B/s]"
     ]
    },
    {
     "name": "stderr",
     "output_type": "stream",
     "text": [
      "\n"
     ]
    },
    {
     "name": "stderr",
     "output_type": "stream",
     "text": [
      "\r",
      "Downloading optics.ecsv.txt:   0%|          | 0.00/1.04k [00:00<?, ?B/s]"
     ]
    },
    {
     "name": "stderr",
     "output_type": "stream",
     "text": [
      "\u001b[A"
     ]
    },
    {
     "name": "stderr",
     "output_type": "stream",
     "text": [
      "\r",
      "Downloading LSTCam.camreadout.fits.gz: 100%|██████████| 2.79k/2.79k [00:01<00:00, 2.12kB/s]"
     ]
    },
    {
     "name": "stderr",
     "output_type": "stream",
     "text": [
      "\n",
      "\r",
      "Downloading optics.ecsv.txt: 100%|██████████| 1.04k/1.04k [00:00<00:00, 144kB/s]"
     ]
    },
    {
     "name": "stderr",
     "output_type": "stream",
     "text": [
      "\n"
     ]
    },
    {
     "name": "stderr",
     "output_type": "stream",
     "text": [
      "\r",
      "Downloading NectarCam.camgeom.fits.gz:   0%|          | 0.00/23.1k [00:00<?, ?B/s]"
     ]
    },
    {
     "name": "stderr",
     "output_type": "stream",
     "text": [
      "\r",
      "Downloading NectarCam.camgeom.fits.gz:  89%|████████▊ | 20.5k/23.1k [00:00<00:00, 130kB/s]"
     ]
    },
    {
     "name": "stderr",
     "output_type": "stream",
     "text": [
      "\r",
      "Downloading NectarCam.camgeom.fits.gz: 100%|██████████| 23.1k/23.1k [00:00<00:00, 136kB/s]"
     ]
    },
    {
     "name": "stderr",
     "output_type": "stream",
     "text": [
      "\n"
     ]
    },
    {
     "name": "stderr",
     "output_type": "stream",
     "text": [
      "\r",
      "Downloading NectarCam.camreadout.fits.gz:   0%|          | 0.00/2.80k [00:00<?, ?B/s]"
     ]
    },
    {
     "name": "stdout",
     "output_type": "stream",
     "text": [
      "Subarray : Junk\n",
      "Num Tels : 2\n",
      "Footprint: 0.00 km2\n",
      "\n",
      "       Type       Count Tel IDs\n",
      "----------------- ----- -------\n",
      "   LST_LST_LSTCam     1 1      \n",
      "MST_MST_NectarCam     1 2      \n"
     ]
    }
   ],
   "source": [
    "from ctapipe.instrument import SubarrayDescription, TelescopeDescription\n",
    "\n",
    "subarray = SubarrayDescription(\n",
    "    \"Junk\",\n",
    "    tel_positions={1: (0.0, 0.0, 0.0) * u.m, 2: (1.0, 1.0, 0.0) * u.m},\n",
    "    tel_descriptions={\n",
    "        1: TelescopeDescription.from_name(\"LST\", \"LSTCam\"),\n",
    "        2: TelescopeDescription.from_name(\"MST\", \"NectarCam\"),\n",
    "    },\n",
    ")\n",
    "subarray.info()"
   ]
  },
  {
   "cell_type": "code",
   "execution_count": 7,
   "metadata": {
    "execution": {
     "iopub.execute_input": "2021-02-23T12:33:52.144119Z",
     "iopub.status.busy": "2021-02-23T12:33:52.143584Z",
     "iopub.status.idle": "2021-02-23T12:33:52.150827Z",
     "shell.execute_reply": "2021-02-23T12:33:52.150366Z"
    }
   },
   "outputs": [
    {
     "data": {
      "text/html": [
       "<b>TelescopeWiseComponent</b>\n",
       "<p>  a component that contains parameters that are per-telescope configurable  </p>\n",
       "<table>\n",
       "<tr><th>param</th>\n",
       "<td><span style='color:blue'>[('type', '*', 5.0)]</span></td>\n",
       "<td style=\"text-align:left\"><i>Something configurable with telescope patterns (default: traitlets.Undefined)</i></td></tr>\n",
       "</table>"
      ],
      "text/plain": [
       "<__main__.TelescopeWiseComponent at 0x7f108ca4f520>"
      ]
     },
     "execution_count": 1,
     "metadata": {},
     "output_type": "execute_result"
    }
   ],
   "source": [
    "TelescopeWiseComponent(subarray=subarray)"
   ]
  },
  {
   "cell_type": "markdown",
   "metadata": {},
   "source": [
    "This TelescopeParameters can then be set using a list of patterns like:\n",
    "```python\n",
    "component.param = [ \n",
    "    (\"type\", \"LST*\",3.0), \n",
    "    (\"type\", \"MST*\", 2.0), \n",
    "    (id, 25, 4.0) \n",
    "]\n",
    "```\n",
    "\n",
    "These get translated into per-telescope-id values once the subarray is registered.  After that one acccess the per-telescope id values via:\n",
    "```python\n",
    "component.param.tel[tel_id]\n",
    "```"
   ]
  },
  {
   "cell_type": "markdown",
   "metadata": {},
   "source": [
    "## Now create an executable Tool that contains the Components"
   ]
  },
  {
   "cell_type": "code",
   "execution_count": 8,
   "metadata": {
    "execution": {
     "iopub.execute_input": "2021-02-23T12:33:52.155679Z",
     "iopub.status.busy": "2021-02-23T12:33:52.155123Z",
     "iopub.status.idle": "2021-02-23T12:33:52.162379Z",
     "shell.execute_reply": "2021-02-23T12:33:52.162831Z"
    }
   },
   "outputs": [
    {
     "name": "stderr",
     "output_type": "stream",
     "text": [
      "\r",
      "Downloading NectarCam.camreadout.fits.gz: 100%|██████████| 2.80k/2.80k [00:00<00:00, 62.4kB/s]"
     ]
    },
    {
     "name": "stderr",
     "output_type": "stream",
     "text": [
      "\n"
     ]
    }
   ],
   "source": [
    "class MyTool(Tool):\n",
    "    name=\"mytool\"\n",
    "    description=\"do some things and stuff\"\n",
    "    aliases = dict(\n",
    "        infile='AdvancedComponent.infile',\n",
    "        iterations='MyTool.iterations'\n",
    "    )\n",
    "\n",
    "    # Which classes are registered for configuration\n",
    "    classes = [MyComponent, AdvancedComponent, SecondaryMyComponent, TelescopeWiseComponent]\n",
    "\n",
    "    # local configuration parameters\n",
    "    iterations = Integer(5,help=\"Number of times to run\",allow_none=False).tag(config=True)\n",
    "\n",
    "    def setup(self):\n",
    "        self.comp = MyComponent(parent=self)\n",
    "        self.comp2 = SecondaryMyComponent(parent=self)\n",
    "        self.comp3 = TelescopeWiseComponent(parent=self, subarray=subarray)\n",
    "        self.advanced = AdvancedComponent(parent=self)\n",
    "\n",
    "\n",
    "    def start(self):\n",
    "        self.log.info(\"Performing {} iterations...\".format(self.iterations))\n",
    "        for ii in range(self.iterations):\n",
    "            self.log.info(\"ITERATION {}\".format(ii))\n",
    "            self.comp.do_thing()\n",
    "            self.comp2.do_thing()\n",
    "            sleep(0.1)\n",
    "            \n",
    "    def finish(self):\n",
    "        self.log.warning(\"Shutting down.\")\n",
    "    "
   ]
  },
  {
   "cell_type": "markdown",
   "metadata": {},
   "source": [
    "## Get Help info\n",
    "\n",
    "The following allows you to print the help info within a Jupyter notebook, but this same inforamtion would be displayed if the user types:\n",
    "```\n",
    "  mytool --help\n",
    "```"
   ]
  },
  {
   "cell_type": "code",
   "execution_count": 9,
   "metadata": {
    "execution": {
     "iopub.execute_input": "2021-02-23T12:33:52.167624Z",
     "iopub.status.busy": "2021-02-23T12:33:52.167064Z",
     "iopub.status.idle": "2021-02-23T12:33:52.171717Z",
     "shell.execute_reply": "2021-02-23T12:33:52.171225Z"
    }
   },
   "outputs": [],
   "source": [
    "tool=MyTool()"
   ]
  },
  {
   "cell_type": "code",
   "execution_count": 10,
   "metadata": {
    "execution": {
     "iopub.execute_input": "2021-02-23T12:33:52.179115Z",
     "iopub.status.busy": "2021-02-23T12:33:52.177905Z",
     "iopub.status.idle": "2021-02-23T12:33:52.180981Z",
     "shell.execute_reply": "2021-02-23T12:33:52.180496Z"
    }
   },
   "outputs": [
    {
     "name": "stdout",
     "output_type": "stream",
     "text": [
      "do some things and stuff\n",
      "\n",
      "Options\n",
      "=======\n",
      "The options below are convenience aliases to configurable class-options,\n",
      "as listed in the \"Equivalent to\" description-line of the aliases.\n",
      "To see all configurable class-options for some <cmd>, use:\n",
      "    <cmd> --help-all\n",
      "\n",
      "--debug\n",
      "    Set log-level to debug, for the most verbose logging.\n",
      "    Equivalent to: [--Application.log_level=10]\n",
      "--show-config\n",
      "    Show the application's configuration (human-readable format)\n",
      "    Equivalent to: [--Application.show_config=True]\n",
      "--show-config-json\n",
      "    Show the application's configuration (json format)\n",
      "    Equivalent to: [--Application.show_config_json=True]\n",
      "-q, --quiet\n",
      "    Disable console logging.\n",
      "    Equivalent to: [--Tool.quiet=True]\n",
      "--infile=<Path>\n",
      "    input file name\n",
      "    Default: None\n",
      "    Equivalent to: [--AdvancedComponent.infile]\n",
      "--iterations=<Int>\n",
      "    Number of times to run\n",
      "    Default: 5\n",
      "    Equivalent to: [--MyTool.iterations]\n",
      "--config=<Path>\n",
      "    name of a configuration file with parameters to load in addition to command-\n",
      "    line parameters\n",
      "    Default: None\n",
      "    Equivalent to: [--Tool.config_file]\n",
      "--log-level=<Enum>\n",
      "    Set the log level by value or name.\n",
      "    Choices: any of [0, 10, 20, 30, 40, 50, 'DEBUG', 'INFO', 'WARN', 'ERROR', 'CRITICAL']\n",
      "    Default: 30\n",
      "    Equivalent to: [--Tool.log_level]\n",
      "-l, --log-file=<Path>\n",
      "    Filename for the log\n",
      "    Default: None\n",
      "    Equivalent to: [--Tool.log_file]\n",
      "--log-file-level=<Enum>\n",
      "    Logging Level for File Logging\n",
      "    Choices: any of [0, 10, 20, 30, 40, 50, 'DEBUG', 'INFO', 'WARN', 'ERROR', 'CRITICAL']\n",
      "    Default: 'INFO'\n",
      "    Equivalent to: [--Tool.log_file_level]\n",
      "\n",
      "To see all available configurables, use `--help-all`.\n",
      "\n"
     ]
    }
   ],
   "source": [
    "tool.print_help()"
   ]
  },
  {
   "cell_type": "markdown",
   "metadata": {},
   "source": [
    "The following  is equivalant to the user typing `mytool --help-all`"
   ]
  },
  {
   "cell_type": "code",
   "execution_count": 11,
   "metadata": {
    "execution": {
     "iopub.execute_input": "2021-02-23T12:33:52.191806Z",
     "iopub.status.busy": "2021-02-23T12:33:52.190588Z",
     "iopub.status.idle": "2021-02-23T12:33:52.193780Z",
     "shell.execute_reply": "2021-02-23T12:33:52.193268Z"
    }
   },
   "outputs": [
    {
     "name": "stdout",
     "output_type": "stream",
     "text": [
      "do some things and stuff\n",
      "\n",
      "Options\n",
      "=======\n",
      "The options below are convenience aliases to configurable class-options,\n",
      "as listed in the \"Equivalent to\" description-line of the aliases.\n",
      "To see all configurable class-options for some <cmd>, use:\n",
      "    <cmd> --help-all\n",
      "\n",
      "--debug\n",
      "    Set log-level to debug, for the most verbose logging.\n",
      "    Equivalent to: [--Application.log_level=10]\n",
      "--show-config\n",
      "    Show the application's configuration (human-readable format)\n",
      "    Equivalent to: [--Application.show_config=True]\n",
      "--show-config-json\n",
      "    Show the application's configuration (json format)\n",
      "    Equivalent to: [--Application.show_config_json=True]\n",
      "-q, --quiet\n",
      "    Disable console logging.\n",
      "    Equivalent to: [--Tool.quiet=True]\n",
      "--infile=<Path>\n",
      "    input file name\n",
      "    Default: None\n",
      "    Equivalent to: [--AdvancedComponent.infile]\n",
      "--iterations=<Int>\n",
      "    Number of times to run\n",
      "    Default: 5\n",
      "    Equivalent to: [--MyTool.iterations]\n",
      "--config=<Path>\n",
      "    name of a configuration file with parameters to load in addition to command-\n",
      "    line parameters\n",
      "    Default: None\n",
      "    Equivalent to: [--Tool.config_file]\n",
      "--log-level=<Enum>\n",
      "    Set the log level by value or name.\n",
      "    Choices: any of [0, 10, 20, 30, 40, 50, 'DEBUG', 'INFO', 'WARN', 'ERROR', 'CRITICAL']\n",
      "    Default: 30\n",
      "    Equivalent to: [--Tool.log_level]\n",
      "-l, --log-file=<Path>\n",
      "    Filename for the log\n",
      "    Default: None\n",
      "    Equivalent to: [--Tool.log_file]\n",
      "--log-file-level=<Enum>\n",
      "    Logging Level for File Logging\n",
      "    Choices: any of [0, 10, 20, 30, 40, 50, 'DEBUG', 'INFO', 'WARN', 'ERROR', 'CRITICAL']\n",
      "    Default: 'INFO'\n",
      "    Equivalent to: [--Tool.log_file_level]\n",
      "\n",
      "Class options\n",
      "=============\n",
      "The command-line option below sets the respective configurable class-parameter:\n",
      "    --Class.parameter=value\n",
      "This line is evaluated in Python, so simple expressions are allowed.\n",
      "For instance, to set `C.a=[0,1,2]`, you may type this:\n",
      "    --C.a='range(3)'\n",
      "\n",
      "Application(SingletonConfigurable) options\n",
      "------------------------------------------\n",
      "--Application.log_datefmt=<Unicode>\n",
      "    The date format used by logging formatters for %(asctime)s\n",
      "    Default: '%Y-%m-%d %H:%M:%S'\n",
      "--Application.log_format=<Unicode>\n",
      "    The Logging format template\n",
      "    Default: '[%(name)s]%(highlevel)s %(message)s'\n",
      "--Application.log_level=<Enum>\n",
      "    Set the log level by value or name.\n",
      "    Choices: any of [0, 10, 20, 30, 40, 50, 'DEBUG', 'INFO', 'WARN', 'ERROR', 'CRITICAL']\n",
      "    Default: 30\n",
      "--Application.show_config=<Bool>\n",
      "    Instead of starting the Application, dump configuration to stdout\n",
      "    Default: False\n",
      "--Application.show_config_json=<Bool>\n",
      "    Instead of starting the Application, dump configuration to stdout (as JSON)\n",
      "    Default: False\n",
      "\n",
      "Tool(Application) options\n",
      "-------------------------\n",
      "--Tool.config_file=<Path>\n",
      "    name of a configuration file with parameters to load in addition to command-\n",
      "    line parameters\n",
      "    Default: None\n",
      "--Tool.log_config=<key-1>=<value-1>...\n",
      "    Default: {'version': 1, 'disable_existing_loggers': False, 'formatters...\n",
      "--Tool.log_datefmt=<Unicode>\n",
      "    The date format used by logging formatters for %(asctime)s\n",
      "    Default: '%Y-%m-%d %H:%M:%S'\n",
      "--Tool.log_file=<Path>\n",
      "    Filename for the log\n",
      "    Default: None\n",
      "--Tool.log_file_level=<Enum>\n",
      "    Logging Level for File Logging\n",
      "    Choices: any of [0, 10, 20, 30, 40, 50, 'DEBUG', 'INFO', 'WARN', 'ERROR', 'CRITICAL']\n",
      "    Default: 'INFO'\n",
      "--Tool.log_format=<Unicode>\n",
      "    The Logging format template\n",
      "    Default: '[%(name)s]%(highlevel)s %(message)s'\n",
      "--Tool.log_level=<Enum>\n",
      "    Set the log level by value or name.\n",
      "    Choices: any of [0, 10, 20, 30, 40, 50, 'DEBUG', 'INFO', 'WARN', 'ERROR', 'CRITICAL']\n",
      "    Default: 30\n",
      "--Tool.provenance_log=<Path>\n",
      "    Default: None\n",
      "--Tool.quiet=<Bool>\n",
      "    Default: False\n",
      "--Tool.show_config=<Bool>\n",
      "    Instead of starting the Application, dump configuration to stdout\n",
      "    Default: False\n",
      "--Tool.show_config_json=<Bool>\n",
      "    Instead of starting the Application, dump configuration to stdout (as JSON)\n",
      "    Default: False\n",
      "\n",
      "MyTool(Tool) options\n",
      "--------------------\n",
      "--MyTool.config_file=<Path>\n",
      "    name of a configuration file with parameters to load in addition to command-\n",
      "    line parameters\n",
      "    Default: None\n",
      "--MyTool.iterations=<Int>\n",
      "    Number of times to run\n",
      "    Default: 5\n",
      "--MyTool.log_config=<key-1>=<value-1>...\n",
      "    Default: {'version': 1, 'disable_existing_loggers': False, 'formatters...\n",
      "--MyTool.log_datefmt=<Unicode>\n",
      "    The date format used by logging formatters for %(asctime)s\n",
      "    Default: '%Y-%m-%d %H:%M:%S'\n",
      "--MyTool.log_file=<Path>\n",
      "    Filename for the log\n",
      "    Default: None\n",
      "--MyTool.log_file_level=<Enum>\n",
      "    Logging Level for File Logging\n",
      "    Choices: any of [0, 10, 20, 30, 40, 50, 'DEBUG', 'INFO', 'WARN', 'ERROR', 'CRITICAL']\n",
      "    Default: 'INFO'\n",
      "--MyTool.log_format=<Unicode>\n",
      "    The Logging format template\n",
      "    Default: '[%(name)s]%(highlevel)s %(message)s'\n",
      "--MyTool.log_level=<Enum>\n",
      "    Set the log level by value or name.\n",
      "    Choices: any of [0, 10, 20, 30, 40, 50, 'DEBUG', 'INFO', 'WARN', 'ERROR', 'CRITICAL']\n",
      "    Default: 30\n",
      "--MyTool.provenance_log=<Path>\n",
      "    Default: None\n",
      "--MyTool.quiet=<Bool>\n",
      "    Default: False\n",
      "--MyTool.show_config=<Bool>\n",
      "    Instead of starting the Application, dump configuration to stdout\n",
      "    Default: False\n",
      "--MyTool.show_config_json=<Bool>\n",
      "    Instead of starting the Application, dump configuration to stdout (as JSON)\n",
      "    Default: False\n",
      "\n",
      "MyComponent(Component) options\n",
      "------------------------------\n",
      "--MyComponent.value=<Int>\n",
      "    Value to use\n",
      "    Default: -1\n",
      "\n",
      "AdvancedComponent(Component) options\n",
      "------------------------------------\n",
      "--AdvancedComponent.infile=<Path>\n",
      "    input file name\n",
      "    Default: None\n",
      "--AdvancedComponent.outfile=<Path>\n",
      "    output file name\n",
      "    Default: None\n",
      "--AdvancedComponent.value1=<Int>\n",
      "    Value to use\n",
      "    Default: -1\n",
      "\n",
      "SecondaryMyComponent(MyComponent) options\n",
      "-----------------------------------------\n",
      "--SecondaryMyComponent.value=<Int>\n",
      "    Value to use\n",
      "    Default: -1\n",
      "\n",
      "TelescopeWiseComponent(TelescopeComponent) options\n",
      "--------------------------------------------------\n",
      "--TelescopeWiseComponent.param=<floattelescopeparameter-item-1>...\n",
      "    Something configurable with telescope patterns\n",
      "    Default: [('type', '*', 5.0)]\n",
      "\n"
     ]
    }
   ],
   "source": [
    "tool.print_help(classes=True)"
   ]
  },
  {
   "cell_type": "markdown",
   "metadata": {},
   "source": [
    "## Run the tool\n",
    "\n",
    "here we pass in argv since it is a Notebook, but if argv is not specified it's read from `sys.argv`, so the following is the same as running:\n",
    "\n",
    "```sh\n",
    "mytool --log_level=INFO --infile gamma_test.simtel.gz --iterations=3\n",
    "```\n",
    "\n",
    "As Tools are intended to be exectutables, they are raising `SystemExit` on exit.\n",
    "Here, we use them to demonstrate how it would work, so we catch the `SystemExit`."
   ]
  },
  {
   "cell_type": "code",
   "execution_count": 12,
   "metadata": {
    "execution": {
     "iopub.execute_input": "2021-02-23T12:33:52.199718Z",
     "iopub.status.busy": "2021-02-23T12:33:52.199158Z",
     "iopub.status.idle": "2021-02-23T12:33:52.727492Z",
     "shell.execute_reply": "2021-02-23T12:33:52.726432Z"
    },
    "scrolled": false
   },
   "outputs": [
    {
     "name": "stderr",
     "output_type": "stream",
     "text": [
      "2021-02-23 12:33:52,715 \u001b[1;33mWARNING\u001b[0m [ctapipe.mytool] (<ipython-input-1-95ab3180bb34>.finish): Shutting down.\n"
     ]
    }
   ],
   "source": [
    "try:\n",
    "    tool.run(argv=['--infile',  str(GAMMA_FILE)])\n",
    "except SystemExit as e:\n",
    "    assert e.code == 0, f'Tool returned with error status {e}'"
   ]
  },
  {
   "cell_type": "code",
   "execution_count": 13,
   "metadata": {
    "execution": {
     "iopub.execute_input": "2021-02-23T12:33:52.732459Z",
     "iopub.status.busy": "2021-02-23T12:33:52.731659Z",
     "iopub.status.idle": "2021-02-23T12:33:53.076105Z",
     "shell.execute_reply": "2021-02-23T12:33:53.076594Z"
    }
   },
   "outputs": [
    {
     "name": "stderr",
     "output_type": "stream",
     "text": [
      "/usr/local/lib/python3.8/site-packages/traitlets/config/application.py:204: RuntimeWarning: No Handler found on <Logger ctapipe.mytool (WARNING)>, setting log_format will have no effect\n",
      "  warnings.warn(\n"
     ]
    },
    {
     "name": "stderr",
     "output_type": "stream",
     "text": [
      "2021-02-23 12:33:52,741 \u001b[1;32mINFO\u001b[0m [ctapipe.mytool] (tool.initialize): ctapipe version 0.10.4.dev6+g833cd994\n"
     ]
    },
    {
     "name": "stderr",
     "output_type": "stream",
     "text": [
      "2021-02-23 12:33:52,742 \u001b[1;32mINFO\u001b[0m [ctapipe.mytool] (tool.run): Starting: mytool\n"
     ]
    },
    {
     "name": "stderr",
     "output_type": "stream",
     "text": [
      "2021-02-23 12:33:52,756 \u001b[1;32mINFO\u001b[0m [ctapipe.mytool] (<ipython-input-1-95ab3180bb34>.start): Performing 3 iterations...\n"
     ]
    },
    {
     "name": "stderr",
     "output_type": "stream",
     "text": [
      "2021-02-23 12:33:52,757 \u001b[1;32mINFO\u001b[0m [ctapipe.mytool] (<ipython-input-1-95ab3180bb34>.start): ITERATION 0\n"
     ]
    },
    {
     "name": "stderr",
     "output_type": "stream",
     "text": [
      "2021-02-23 12:33:52,860 \u001b[1;32mINFO\u001b[0m [ctapipe.mytool] (<ipython-input-1-95ab3180bb34>.start): ITERATION 1\n"
     ]
    },
    {
     "name": "stderr",
     "output_type": "stream",
     "text": [
      "2021-02-23 12:33:52,962 \u001b[1;32mINFO\u001b[0m [ctapipe.mytool] (<ipython-input-1-95ab3180bb34>.start): ITERATION 2\n"
     ]
    },
    {
     "name": "stderr",
     "output_type": "stream",
     "text": [
      "2021-02-23 12:33:53,063 \u001b[1;33mWARNING\u001b[0m [ctapipe.mytool] (<ipython-input-1-95ab3180bb34>.finish): Shutting down.\n"
     ]
    },
    {
     "name": "stderr",
     "output_type": "stream",
     "text": [
      "2021-02-23 12:33:53,064 \u001b[1;32mINFO\u001b[0m [ctapipe.mytool] (tool.run): Finished: mytool\n"
     ]
    },
    {
     "name": "stderr",
     "output_type": "stream",
     "text": [
      "2021-02-23 12:33:53,067 \u001b[1;32mINFO\u001b[0m [ctapipe.mytool] (tool.write_provenance): Output: \n"
     ]
    },
    {
     "name": "stderr",
     "output_type": "stream",
     "text": [
      "2021-02-23 12:33:53,068 \u001b[1;32mINFO\u001b[0m [ctapipe.mytool] (tool.write_provenance): Output: \n"
     ]
    }
   ],
   "source": [
    "tool.log_format = \"%(asctime)s : %(levelname)s [%(name)s %(funcName)s] %(message)s\" \n",
    "\n",
    "\n",
    "try:\n",
    "    tool.run(argv=['--log-level','INFO','--infile', str(GAMMA_FILE), '--iterations','3'])\n",
    "except SystemExit as e:\n",
    "    assert e.code == 0, f'Tool returned with error status {e}'"
   ]
  },
  {
   "cell_type": "markdown",
   "metadata": {},
   "source": [
    "here we change the log-level to DEBUG:"
   ]
  },
  {
   "cell_type": "code",
   "execution_count": 14,
   "metadata": {
    "execution": {
     "iopub.execute_input": "2021-02-23T12:33:53.086596Z",
     "iopub.status.busy": "2021-02-23T12:33:53.086043Z",
     "iopub.status.idle": "2021-02-23T12:33:53.443295Z",
     "shell.execute_reply": "2021-02-23T12:33:53.443739Z"
    },
    "scrolled": false
   },
   "outputs": [
    {
     "name": "stderr",
     "output_type": "stream",
     "text": [
      "2021-02-23 12:33:53,088 \u001b[1;34mDEBUG\u001b[0m [ctapipe.mytool] (application._config_changed): Config changed: {'AdvancedComponent': {'infile': '/github/home/.cache/ctapipe/cccta-dataserver.in2p3.fr/data/ctapipe-extra/v0.3.3/gamma_test.simtel.gz'}, 'attach_subarray': <LazyConfigValue {}>, 'MyTool': {'log_level': '\u001b[1;34mDEBUG\u001b[0m', 'iterations': 3}}\n"
     ]
    },
    {
     "name": "stderr",
     "output_type": "stream",
     "text": [
      "2021-02-23 12:33:53,092 \u001b[1;32mINFO\u001b[0m [ctapipe.mytool] (tool.initialize): ctapipe version 0.10.4.dev6+g833cd994\n"
     ]
    },
    {
     "name": "stderr",
     "output_type": "stream",
     "text": [
      "2021-02-23 12:33:53,093 \u001b[1;32mINFO\u001b[0m [ctapipe.mytool] (tool.run): Starting: mytool\n"
     ]
    },
    {
     "name": "stderr",
     "output_type": "stream",
     "text": [
      "2021-02-23 12:33:53,101 \u001b[1;34mDEBUG\u001b[0m [ctapipe.core.provenance] (provenance.start_activity): started activity: mytool\n"
     ]
    },
    {
     "name": "stderr",
     "output_type": "stream",
     "text": [
      "2021-02-23 12:33:53,104 \u001b[1;34mDEBUG\u001b[0m [ctapipe.core.traits] (traits.attach_subarray): argument '*' matched: ['LST_LST_LSTCam', 'MST_MST_NectarCam']\n"
     ]
    },
    {
     "name": "stderr",
     "output_type": "stream",
     "text": [
      "2021-02-23 12:33:53,108 \u001b[1;34mDEBUG\u001b[0m [ctapipe.mytool] (tool.run): CONFIG: {'MyTool': {'config_file': None, 'iterations': 3, 'log_config': {'version': 1, 'disable_existing_loggers': False, 'formatters': {'file': {'()': <class 'ctapipe.core.logging.PlainFormatter'>, 'fmt': '%(asctime)s %(levelname)s [%(name)s] (%(module)s.%(funcName)s): %(message)s'}, 'console': {'()': <class 'ctapipe.core.logging.ColoredFormatter'>, 'fmt': '%(asctime)s %(levelname)s [%(name)s] (%(module)s.%(funcName)s): %(message)s'}}, 'handlers': {'ctapipe-console': {'class': 'logging.StreamHandler', 'formatter': 'console', 'stream': 'ext://sys.stderr', 'level': 10}, 'console': {'class': 'logging.StreamHandler', 'formatter': 'console', 'stream': 'ext://sys.stderr', 'level': 'NOTSET'}}, 'loggers': {'ctapipe': {'level': 10, 'handlers': ['ctapipe-console'], 'propagate': False}}}, 'log_datefmt': '%Y-%m-%d %H:%M:%S', 'log_file': None, 'log_file_level': 'INFO', 'log_format': '%(asctime)s : %(levelname)s [%(name)s %(funcName)s] %(message)s', 'log_level': 10, 'provenance_log': PosixPath('/github/workspace/docs/examples/mytool.provenance.log'), 'quiet': False, 'show_config': False, 'show_config_json': False, 'MyComponent': {'value': -1}, 'SecondaryMyComponent': {'value': -1}, 'TelescopeWiseComponent': {'param': [('type', '*', 5.0)]}, 'AdvancedComponent': {'infile': PosixPath('/github/home/.cache/ctapipe/cccta-dataserver.in2p3.fr/data/ctapipe-extra/v0.3.3/gamma_test.simtel.gz'), 'outfile': None, 'value1': -1, 'MyComponent': {'value': -1}}}}\n"
     ]
    },
    {
     "name": "stderr",
     "output_type": "stream",
     "text": [
      "2021-02-23 12:33:53,109 \u001b[1;32mINFO\u001b[0m [ctapipe.mytool] (<ipython-input-1-95ab3180bb34>.start): Performing 3 iterations...\n"
     ]
    },
    {
     "name": "stderr",
     "output_type": "stream",
     "text": [
      "2021-02-23 12:33:53,111 \u001b[1;32mINFO\u001b[0m [ctapipe.mytool] (<ipython-input-1-95ab3180bb34>.start): ITERATION 0\n"
     ]
    },
    {
     "name": "stderr",
     "output_type": "stream",
     "text": [
      "2021-02-23 12:33:53,112 \u001b[1;34mDEBUG\u001b[0m [ctapipe.mytool.MyComponent] (<ipython-input-1-a087b1827cdf>.do_thing): Did thing\n"
     ]
    },
    {
     "name": "stderr",
     "output_type": "stream",
     "text": [
      "2021-02-23 12:33:53,114 \u001b[1;34mDEBUG\u001b[0m [ctapipe.mytool.SecondaryMyComponent] (<ipython-input-1-a087b1827cdf>.do_thing): Did thing\n"
     ]
    },
    {
     "name": "stderr",
     "output_type": "stream",
     "text": [
      "2021-02-23 12:33:53,215 \u001b[1;32mINFO\u001b[0m [ctapipe.mytool] (<ipython-input-1-95ab3180bb34>.start): ITERATION 1\n"
     ]
    },
    {
     "name": "stderr",
     "output_type": "stream",
     "text": [
      "2021-02-23 12:33:53,216 \u001b[1;34mDEBUG\u001b[0m [ctapipe.mytool.MyComponent] (<ipython-input-1-a087b1827cdf>.do_thing): Did thing\n"
     ]
    },
    {
     "name": "stderr",
     "output_type": "stream",
     "text": [
      "2021-02-23 12:33:53,217 \u001b[1;34mDEBUG\u001b[0m [ctapipe.mytool.SecondaryMyComponent] (<ipython-input-1-a087b1827cdf>.do_thing): Did thing\n"
     ]
    },
    {
     "name": "stderr",
     "output_type": "stream",
     "text": [
      "2021-02-23 12:33:53,318 \u001b[1;32mINFO\u001b[0m [ctapipe.mytool] (<ipython-input-1-95ab3180bb34>.start): ITERATION 2\n"
     ]
    },
    {
     "name": "stderr",
     "output_type": "stream",
     "text": [
      "2021-02-23 12:33:53,319 \u001b[1;34mDEBUG\u001b[0m [ctapipe.mytool.MyComponent] (<ipython-input-1-a087b1827cdf>.do_thing): Did thing\n"
     ]
    },
    {
     "name": "stderr",
     "output_type": "stream",
     "text": [
      "2021-02-23 12:33:53,320 \u001b[1;34mDEBUG\u001b[0m [ctapipe.mytool.SecondaryMyComponent] (<ipython-input-1-a087b1827cdf>.do_thing): Did thing\n"
     ]
    },
    {
     "name": "stderr",
     "output_type": "stream",
     "text": [
      "2021-02-23 12:33:53,422 \u001b[1;33mWARNING\u001b[0m [ctapipe.mytool] (<ipython-input-1-95ab3180bb34>.finish): Shutting down.\n"
     ]
    },
    {
     "name": "stderr",
     "output_type": "stream",
     "text": [
      "2021-02-23 12:33:53,424 \u001b[1;32mINFO\u001b[0m [ctapipe.mytool] (tool.run): Finished: mytool\n"
     ]
    },
    {
     "name": "stderr",
     "output_type": "stream",
     "text": [
      "2021-02-23 12:33:53,428 \u001b[1;34mDEBUG\u001b[0m [ctapipe.core.provenance] (provenance.finish_activity): finished activity: mytool\n"
     ]
    },
    {
     "name": "stderr",
     "output_type": "stream",
     "text": [
      "2021-02-23 12:33:53,428 \u001b[1;32mINFO\u001b[0m [ctapipe.mytool] (tool.write_provenance): Output: \n"
     ]
    },
    {
     "name": "stderr",
     "output_type": "stream",
     "text": [
      "2021-02-23 12:33:53,430 \u001b[1;32mINFO\u001b[0m [ctapipe.mytool] (tool.write_provenance): Output: \n"
     ]
    },
    {
     "name": "stderr",
     "output_type": "stream",
     "text": [
      "2021-02-23 12:33:53,432 \u001b[1;32mINFO\u001b[0m [ctapipe.mytool] (tool.write_provenance): Output: \n"
     ]
    },
    {
     "name": "stderr",
     "output_type": "stream",
     "text": [
      "2021-02-23 12:33:53,434 \u001b[1;34mDEBUG\u001b[0m [ctapipe.mytool] (tool.write_provenance): PROVENANCE: '[\n",
      "   {\n",
      "      \"activity_name\": \"mytool\",\n",
      "      \"activity_uuid\": \"87aeca95-d943-423d-aa66-d29d4b62bc07\",\n",
      "      \"start\": {\n",
      "         \"time_utc\": \"2021-02-23T12:33:52.203\"\n",
      "      },\n",
      "      \"stop\": {\n",
      "         \"time_utc\": \"2021-02-23T12:33:52.720\"\n",
      "      },\n",
      "      \"system\": {\n",
      "         \"ctapipe_version\": \"0.10.4.dev6+g833cd994\",\n",
      "         \"ctapipe_resources_version\": \"not installed\",\n",
      "         \"eventio_version\": \"1.5.1\",\n",
      "         \"ctapipe_svc_path\": null,\n",
      "         \"executable\": \"/usr/local/bin/python3\",\n",
      "         \"platform\": {\n",
      "            \"architecture_bits\": \"64bit\",\n",
      "            \"architecture_linkage\": \"\",\n",
      "            \"machine\": \"x86_64\",\n",
      "            \"processor\": \"\",\n",
      "            \"node\": \"87b2ba7cd546\",\n",
      "            \"version\": \"#41~18.04.1-Ubuntu SMP Mon Jan 18 14:00:01 UTC 2021\",\n",
      "            \"system\": \"Linux\",\n",
      "            \"release\": \"5.4.0-1039-azure\",\n",
      "            \"libcver\": [\n",
      "               \"glibc\",\n",
      "               \"2.28\"\n",
      "            ],\n",
      "            \"num_cpus\": 2,\n",
      "            \"boot_time\": \"2021-02-23T12:29:25.000\"\n",
      "         },\n",
      "         \"python\": {\n",
      "            \"version_string\": \"3.8.2 (default, Feb 26 2020, 15:09:34) \\n[GCC 8.3.0]\",\n",
      "            \"version\": [\n",
      "               \"3\",\n",
      "               \"8\",\n",
      "               \"2\"\n",
      "            ],\n",
      "            \"compiler\": \"GCC 8.3.0\",\n",
      "            \"implementation\": \"CPython\"\n",
      "         },\n",
      "         \"environment\": {\n",
      "            \"CONDA_DEFAULT_ENV\": null,\n",
      "            \"CONDA_PREFIX\": null,\n",
      "            \"CONDA_PYTHON_EXE\": null,\n",
      "            \"CONDA_EXE\": null,\n",
      "            \"CONDA_PROMPT_MODIFIER\": null,\n",
      "            \"CONDA_SHLVL\": null,\n",
      "            \"PATH\": \"/usr/local/bin:/usr/local/sbin:/usr/local/bin:/usr/sbin:/usr/bin:/sbin:/bin\",\n",
      "            \"LD_LIBRARY_PATH\": null,\n",
      "            \"DYLD_LIBRARY_PATH\": null,\n",
      "            \"USER\": null,\n",
      "            \"HOME\": \"/github/home\",\n",
      "            \"SHELL\": null\n",
      "         },\n",
      "         \"arguments\": [\n",
      "            \"/usr/local/lib/python3.8/site-packages/ipykernel_launcher.py\",\n",
      "            \"-f\",\n",
      "            \"/tmp/tmp0p5r20fe.json\",\n",
      "            \"--HistoryManager.hist_file=:memory:\"\n",
      "         ],\n",
      "         \"start_time_utc\": \"2021-02-23T12:33:52.209\"\n",
      "      },\n",
      "      \"input\": [],\n",
      "      \"output\": [],\n",
      "      \"config\": {\n",
      "         \"MyTool\": {\n",
      "            \"config_file\": null,\n",
      "            \"iterations\": 5,\n",
      "            \"log_config\": {\n",
      "               \"version\": 1,\n",
      "               \"disable_existing_loggers\": false,\n",
      "               \"formatters\": {\n",
      "                  \"file\": {\n",
      "                     \"()\": null,\n",
      "                     \"fmt\": \"%(asctime)s %(levelname)s [%(name)s] (%(module)s.%(funcName)s): %(message)s\"\n",
      "                  },\n",
      "                  \"console\": {\n",
      "                     \"()\": null,\n",
      "                     \"fmt\": \"%(asctime)s %(levelname)s [%(name)s] (%(module)s.%(funcName)s): %(message)s\"\n",
      "                  }\n",
      "               },\n",
      "               \"handlers\": {\n",
      "                  \"ctapipe-console\": {\n",
      "                     \"class\": \"logging.StreamHandler\",\n",
      "                     \"formatter\": \"console\",\n",
      "                     \"stream\": \"ext://sys.stderr\",\n",
      "                     \"level\": 10\n",
      "                  },\n",
      "                  \"console\": {\n",
      "                     \"class\": \"logging.StreamHandler\",\n",
      "                     \"formatter\": \"console\",\n",
      "                     \"stream\": \"ext://sys.stderr\",\n",
      "                     \"level\": \"NOTSET\"\n",
      "                  }\n",
      "               },\n",
      "               \"loggers\": {\n",
      "                  \"ctapipe\": {\n",
      "                     \"level\": 10,\n",
      "                     \"handlers\": [\n",
      "                        \"ctapipe-console\"\n",
      "                     ],\n",
      "                     \"propagate\": false\n",
      "                  }\n",
      "               }\n",
      "            },\n",
      "            \"log_datefmt\": \"%Y-%m-%d %H:%M:%S\",\n",
      "            \"log_file\": null,\n",
      "            \"log_file_level\": \"INFO\",\n",
      "            \"log_format\": \"[%(name)s]%(highlevel)s %(message)s\",\n",
      "            \"log_level\": 30,\n",
      "            \"provenance_log\": \"/github/workspace/docs/examples/mytool.provenance.log\",\n",
      "            \"quiet\": false,\n",
      "            \"show_config\": false,\n",
      "            \"show_config_json\": false,\n",
      "            \"MyComponent\": {\n",
      "               \"value\": -1\n",
      "            },\n",
      "            \"SecondaryMyComponent\": {\n",
      "               \"value\": -1\n",
      "            },\n",
      "            \"TelescopeWiseComponent\": {\n",
      "               \"param\": [\n",
      "                  [\n",
      "                     \"type\",\n",
      "                     \"*\",\n",
      "                     5.0\n",
      "                  ]\n",
      "               ]\n",
      "            },\n",
      "            \"AdvancedComponent\": {\n",
      "               \"infile\": \"/github/home/.cache/ctapipe/cccta-dataserver.in2p3.fr/data/ctapipe-extra/v0.3.3/gamma_test.simtel.gz\",\n",
      "               \"outfile\": null,\n",
      "               \"value1\": -1,\n",
      "               \"MyComponent\": {\n",
      "                  \"value\": -1\n",
      "               }\n",
      "            }\n",
      "         }\n",
      "      },\n",
      "      \"status\": \"completed\",\n",
      "      \"duration_min\": 0.0086166666667431\n",
      "   },\n",
      "   {\n",
      "      \"activity_name\": \"mytool\",\n",
      "      \"activity_uuid\": \"a80ef772-18dc-4179-9e0e-3f3bf71e4f53\",\n",
      "      \"start\": {\n",
      "         \"time_utc\": \"2021-02-23T12:33:52.743\"\n",
      "      },\n",
      "      \"stop\": {\n",
      "         \"time_utc\": \"2021-02-23T12:33:53.066\"\n",
      "      },\n",
      "      \"system\": {\n",
      "         \"ctapipe_version\": \"0.10.4.dev6+g833cd994\",\n",
      "         \"ctapipe_resources_version\": \"not installed\",\n",
      "         \"eventio_version\": \"1.5.1\",\n",
      "         \"ctapipe_svc_path\": null,\n",
      "         \"executable\": \"/usr/local/bin/python3\",\n",
      "         \"platform\": {\n",
      "            \"architecture_bits\": \"64bit\",\n",
      "            \"architecture_linkage\": \"\",\n",
      "            \"machine\": \"x86_64\",\n",
      "            \"processor\": \"\",\n",
      "            \"node\": \"87b2ba7cd546\",\n",
      "            \"version\": \"#41~18.04.1-Ubuntu SMP Mon Jan 18 14:00:01 UTC 2021\",\n",
      "            \"system\": \"Linux\",\n",
      "            \"release\": \"5.4.0-1039-azure\",\n",
      "            \"libcver\": [\n",
      "               \"glibc\",\n",
      "               \"2.28\"\n",
      "            ],\n",
      "            \"num_cpus\": 2,\n",
      "            \"boot_time\": \"2021-02-23T12:29:25.000\"\n",
      "         },\n",
      "         \"python\": {\n",
      "            \"version_string\": \"3.8.2 (default, Feb 26 2020, 15:09:34) \\n[GCC 8.3.0]\",\n",
      "            \"version\": [\n",
      "               \"3\",\n",
      "               \"8\",\n",
      "               \"2\"\n",
      "            ],\n",
      "            \"compiler\": \"GCC 8.3.0\",\n",
      "            \"implementation\": \"CPython\"\n",
      "         },\n",
      "         \"environment\": {\n",
      "            \"CONDA_DEFAULT_ENV\": null,\n",
      "            \"CONDA_PREFIX\": null,\n",
      "            \"CONDA_PYTHON_EXE\": null,\n",
      "            \"CONDA_EXE\": null,\n",
      "            \"CONDA_PROMPT_MODIFIER\": null,\n",
      "            \"CONDA_SHLVL\": null,\n",
      "            \"PATH\": \"/usr/local/bin:/usr/local/sbin:/usr/local/bin:/usr/sbin:/usr/bin:/sbin:/bin\",\n",
      "            \"LD_LIBRARY_PATH\": null,\n",
      "            \"DYLD_LIBRARY_PATH\": null,\n",
      "            \"USER\": null,\n",
      "            \"HOME\": \"/github/home\",\n",
      "            \"SHELL\": null\n",
      "         },\n",
      "         \"arguments\": [\n",
      "            \"/usr/local/lib/python3.8/site-packages/ipykernel_launcher.py\",\n",
      "            \"-f\",\n",
      "            \"/tmp/tmp0p5r20fe.json\",\n",
      "            \"--HistoryManager.hist_file=:memory:\"\n",
      "         ],\n",
      "         \"start_time_utc\": \"2021-02-23T12:33:52.752\"\n",
      "      },\n",
      "      \"input\": [],\n",
      "      \"output\": [],\n",
      "      \"config\": {\n",
      "         \"MyTool\": {\n",
      "            \"config_file\": null,\n",
      "            \"iterations\": 3,\n",
      "            \"log_config\": {\n",
      "               \"version\": 1,\n",
      "               \"disable_existing_loggers\": false,\n",
      "               \"formatters\": {\n",
      "                  \"file\": {\n",
      "                     \"()\": null,\n",
      "                     \"fmt\": \"%(asctime)s %(levelname)s [%(name)s] (%(module)s.%(funcName)s): %(message)s\"\n",
      "                  },\n",
      "                  \"console\": {\n",
      "                     \"()\": null,\n",
      "                     \"fmt\": \"%(asctime)s %(levelname)s [%(name)s] (%(module)s.%(funcName)s): %(message)s\"\n",
      "                  }\n",
      "               },\n",
      "               \"handlers\": {\n",
      "                  \"ctapipe-console\": {\n",
      "                     \"class\": \"logging.StreamHandler\",\n",
      "                     \"formatter\": \"console\",\n",
      "                     \"stream\": \"ext://sys.stderr\",\n",
      "                     \"level\": 10\n",
      "                  },\n",
      "                  \"console\": {\n",
      "                     \"class\": \"logging.StreamHandler\",\n",
      "                     \"formatter\": \"console\",\n",
      "                     \"stream\": \"ext://sys.stderr\",\n",
      "                     \"level\": \"NOTSET\"\n",
      "                  }\n",
      "               },\n",
      "               \"loggers\": {\n",
      "                  \"ctapipe\": {\n",
      "                     \"level\": 10,\n",
      "                     \"handlers\": [\n",
      "                        \"ctapipe-console\"\n",
      "                     ],\n",
      "                     \"propagate\": false\n",
      "                  }\n",
      "               }\n",
      "            },\n",
      "            \"log_datefmt\": \"%Y-%m-%d %H:%M:%S\",\n",
      "            \"log_file\": null,\n",
      "            \"log_file_level\": \"INFO\",\n",
      "            \"log_format\": \"%(asctime)s : %(levelname)s [%(name)s %(funcName)s] %(message)s\",\n",
      "            \"log_level\": 20,\n",
      "            \"provenance_log\": \"/github/workspace/docs/examples/mytool.provenance.log\",\n",
      "            \"quiet\": false,\n",
      "            \"show_config\": false,\n",
      "            \"show_config_json\": false,\n",
      "            \"MyComponent\": {\n",
      "               \"value\": -1\n",
      "            },\n",
      "            \"SecondaryMyComponent\": {\n",
      "               \"value\": -1\n",
      "            },\n",
      "            \"TelescopeWiseComponent\": {\n",
      "               \"param\": [\n",
      "                  [\n",
      "                     \"type\",\n",
      "                     \"*\",\n",
      "                     5.0\n",
      "                  ]\n",
      "               ]\n",
      "            },\n",
      "            \"AdvancedComponent\": {\n",
      "               \"infile\": \"/github/home/.cache/ctapipe/cccta-dataserver.in2p3.fr/data/ctapipe-extra/v0.3.3/gamma_test.simtel.gz\",\n",
      "               \"outfile\": null,\n",
      "               \"value1\": -1,\n",
      "               \"MyComponent\": {\n",
      "                  \"value\": -1\n",
      "               }\n",
      "            }\n",
      "         }\n",
      "      },\n",
      "      \"status\": \"completed\",\n",
      "      \"duration_min\": 0.0053833333331887445\n",
      "   },\n",
      "   {\n",
      "      \"activity_name\": \"mytool\",\n",
      "      \"activity_uuid\": \"ac0569f8-b2ae-4bea-b521-00d7a08d6132\",\n",
      "      \"start\": {\n",
      "         \"time_utc\": \"2021-02-23T12:33:53.094\"\n",
      "      },\n",
      "      \"stop\": {\n",
      "         \"time_utc\": \"2021-02-23T12:33:53.425\"\n",
      "      },\n",
      "      \"system\": {\n",
      "         \"ctapipe_version\": \"0.10.4.dev6+g833cd994\",\n",
      "         \"ctapipe_resources_version\": \"not installed\",\n",
      "         \"eventio_version\": \"1.5.1\",\n",
      "         \"ctapipe_svc_path\": null,\n",
      "         \"executable\": \"/usr/local/bin/python3\",\n",
      "         \"platform\": {\n",
      "            \"architecture_bits\": \"64bit\",\n",
      "            \"architecture_linkage\": \"\",\n",
      "            \"machine\": \"x86_64\",\n",
      "            \"processor\": \"\",\n",
      "            \"node\": \"87b2ba7cd546\",\n",
      "            \"version\": \"#41~18.04.1-Ubuntu SMP Mon Jan 18 14:00:01 UTC 2021\",\n",
      "            \"system\": \"Linux\",\n",
      "            \"release\": \"5.4.0-1039-azure\",\n",
      "            \"libcver\": [\n",
      "               \"glibc\",\n",
      "               \"2.28\"\n",
      "            ],\n",
      "            \"num_cpus\": 2,\n",
      "            \"boot_time\": \"2021-02-23T12:29:25.000\"\n",
      "         },\n",
      "         \"python\": {\n",
      "            \"version_string\": \"3.8.2 (default, Feb 26 2020, 15:09:34) \\n[GCC 8.3.0]\",\n",
      "            \"version\": [\n",
      "               \"3\",\n",
      "               \"8\",\n",
      "               \"2\"\n",
      "            ],\n",
      "            \"compiler\": \"GCC 8.3.0\",\n",
      "            \"implementation\": \"CPython\"\n",
      "         },\n",
      "         \"environment\": {\n",
      "            \"CONDA_DEFAULT_ENV\": null,\n",
      "            \"CONDA_PREFIX\": null,\n",
      "            \"CONDA_PYTHON_EXE\": null,\n",
      "            \"CONDA_EXE\": null,\n",
      "            \"CONDA_PROMPT_MODIFIER\": null,\n",
      "            \"CONDA_SHLVL\": null,\n",
      "            \"PATH\": \"/usr/local/bin:/usr/local/sbin:/usr/local/bin:/usr/sbin:/usr/bin:/sbin:/bin\",\n",
      "            \"LD_LIBRARY_PATH\": null,\n",
      "            \"DYLD_LIBRARY_PATH\": null,\n",
      "            \"USER\": null,\n",
      "            \"HOME\": \"/github/home\",\n",
      "            \"SHELL\": null\n",
      "         },\n",
      "         \"arguments\": [\n",
      "            \"/usr/local/lib/python3.8/site-packages/ipykernel_launcher.py\",\n",
      "            \"-f\",\n",
      "            \"/tmp/tmp0p5r20fe.json\",\n",
      "            \"--HistoryManager.hist_file=:memory:\"\n",
      "         ],\n",
      "         \"start_time_utc\": \"2021-02-23T12:33:53.101\"\n",
      "      },\n",
      "      \"input\": [],\n",
      "      \"output\": [],\n",
      "      \"config\": {\n",
      "         \"MyTool\": {\n",
      "            \"config_file\": null,\n",
      "            \"iterations\": 3,\n",
      "            \"log_config\": {\n",
      "               \"version\": 1,\n",
      "               \"disable_existing_loggers\": false,\n",
      "               \"formatters\": {\n",
      "                  \"file\": {\n",
      "                     \"()\": null,\n",
      "                     \"fmt\": \"%(asctime)s %(levelname)s [%(name)s] (%(module)s.%(funcName)s): %(message)s\"\n",
      "                  },\n",
      "                  \"console\": {\n",
      "                     \"()\": null,\n",
      "                     \"fmt\": \"%(asctime)s %(levelname)s [%(name)s] (%(module)s.%(funcName)s): %(message)s\"\n",
      "                  }\n",
      "               },\n",
      "               \"handlers\": {\n",
      "                  \"ctapipe-console\": {\n",
      "                     \"class\": \"logging.StreamHandler\",\n",
      "                     \"formatter\": \"console\",\n",
      "                     \"stream\": \"ext://sys.stderr\",\n",
      "                     \"level\": 10\n",
      "                  },\n",
      "                  \"console\": {\n",
      "                     \"class\": \"logging.StreamHandler\",\n",
      "                     \"formatter\": \"console\",\n",
      "                     \"stream\": \"ext://sys.stderr\",\n",
      "                     \"level\": \"NOTSET\"\n",
      "                  }\n",
      "               },\n",
      "               \"loggers\": {\n",
      "                  \"ctapipe\": {\n",
      "                     \"level\": 10,\n",
      "                     \"handlers\": [\n",
      "                        \"ctapipe-console\"\n",
      "                     ],\n",
      "                     \"propagate\": false\n",
      "                  }\n",
      "               }\n",
      "            },\n",
      "            \"log_datefmt\": \"%Y-%m-%d %H:%M:%S\",\n",
      "            \"log_file\": null,\n",
      "            \"log_file_level\": \"INFO\",\n",
      "            \"log_format\": \"%(asctime)s : %(levelname)s [%(name)s %(funcName)s] %(message)s\",\n",
      "            \"log_level\": 10,\n",
      "            \"provenance_log\": \"/github/workspace/docs/examples/mytool.provenance.log\",\n",
      "            \"quiet\": false,\n",
      "            \"show_config\": false,\n",
      "            \"show_config_json\": false,\n",
      "            \"MyComponent\": {\n",
      "               \"value\": -1\n",
      "            },\n",
      "            \"SecondaryMyComponent\": {\n",
      "               \"value\": -1\n",
      "            },\n",
      "            \"TelescopeWiseComponent\": {\n",
      "               \"param\": [\n",
      "                  [\n",
      "                     \"type\",\n",
      "                     \"*\",\n",
      "                     5.0\n",
      "                  ]\n",
      "               ]\n",
      "            },\n",
      "            \"AdvancedComponent\": {\n",
      "               \"infile\": \"/github/home/.cache/ctapipe/cccta-dataserver.in2p3.fr/data/ctapipe-extra/v0.3.3/gamma_test.simtel.gz\",\n",
      "               \"outfile\": null,\n",
      "               \"value1\": -1,\n",
      "               \"MyComponent\": {\n",
      "                  \"value\": -1\n",
      "               }\n",
      "            }\n",
      "         }\n",
      "      },\n",
      "      \"status\": \"completed\",\n",
      "      \"duration_min\": 0.005516666666842696\n",
      "   }\n",
      "]'\n"
     ]
    },
    {
     "name": "stderr",
     "output_type": "stream",
     "text": [
      "2021-02-23 12:33:53,438 \u001b[1;34mDEBUG\u001b[0m [ctapipe.mytool] (application.exit): Exiting application: mytool\n"
     ]
    }
   ],
   "source": [
    "try:\n",
    "    tool.run(argv=['--log-level','DEBUG','--infile', str(GAMMA_FILE)])\n",
    "except SystemExit as e:\n",
    "    assert e.code == 0, f'Tool returned with error status {e}'"
   ]
  },
  {
   "cell_type": "markdown",
   "metadata": {},
   "source": [
    "you can also set parameters directly in the class, rather than using the argument/configfile parser. This is useful if you are calling the Tool from a script rather than the command-line"
   ]
  },
  {
   "cell_type": "code",
   "execution_count": 15,
   "metadata": {
    "execution": {
     "iopub.execute_input": "2021-02-23T12:33:53.453257Z",
     "iopub.status.busy": "2021-02-23T12:33:53.449847Z",
     "iopub.status.idle": "2021-02-23T12:33:53.809227Z",
     "shell.execute_reply": "2021-02-23T12:33:53.808763Z"
    },
    "scrolled": false
   },
   "outputs": [
    {
     "name": "stderr",
     "output_type": "stream",
     "text": [
      "2021-02-23 12:33:53,452 \u001b[1;34mDEBUG\u001b[0m [ctapipe.mytool] (application._config_changed): Config changed: {'AdvancedComponent': {'infile': '/github/home/.cache/ctapipe/cccta-dataserver.in2p3.fr/data/ctapipe-extra/v0.3.3/gamma_test.simtel.gz'}, 'attach_subarray': <LazyConfigValue {}>, 'MyTool': {'log_level': '\u001b[1;34mDEBUG\u001b[0m', 'iterations': 3}}\n"
     ]
    },
    {
     "name": "stderr",
     "output_type": "stream",
     "text": [
      "2021-02-23 12:33:53,454 \u001b[1;34mDEBUG\u001b[0m [ctapipe.mytool] (application._config_changed): Config changed: {'AdvancedComponent': {'infile': '/github/home/.cache/ctapipe/cccta-dataserver.in2p3.fr/data/ctapipe-extra/v0.3.3/gamma_test.simtel.gz'}, 'attach_subarray': <LazyConfigValue {}>, 'MyTool': {'log_level': '\u001b[1;34mDEBUG\u001b[0m', 'iterations': 3}}\n"
     ]
    },
    {
     "name": "stderr",
     "output_type": "stream",
     "text": [
      "2021-02-23 12:33:53,457 \u001b[1;32mINFO\u001b[0m [ctapipe.mytool] (tool.initialize): ctapipe version 0.10.4.dev6+g833cd994\n"
     ]
    },
    {
     "name": "stderr",
     "output_type": "stream",
     "text": [
      "2021-02-23 12:33:53,458 \u001b[1;32mINFO\u001b[0m [ctapipe.mytool] (tool.run): Starting: mytool\n"
     ]
    },
    {
     "name": "stderr",
     "output_type": "stream",
     "text": [
      "2021-02-23 12:33:53,467 \u001b[1;34mDEBUG\u001b[0m [ctapipe.core.provenance] (provenance.start_activity): started activity: mytool\n"
     ]
    },
    {
     "name": "stderr",
     "output_type": "stream",
     "text": [
      "2021-02-23 12:33:53,470 \u001b[1;34mDEBUG\u001b[0m [ctapipe.core.traits] (traits.attach_subarray): argument '*' matched: ['LST_LST_LSTCam', 'MST_MST_NectarCam']\n"
     ]
    },
    {
     "name": "stderr",
     "output_type": "stream",
     "text": [
      "2021-02-23 12:33:53,475 \u001b[1;34mDEBUG\u001b[0m [ctapipe.mytool] (tool.run): CONFIG: {'MyTool': {'config_file': None, 'iterations': 3, 'log_config': {'version': 1, 'disable_existing_loggers': False, 'formatters': {'file': {'()': <class 'ctapipe.core.logging.PlainFormatter'>, 'fmt': '%(asctime)s %(levelname)s [%(name)s] (%(module)s.%(funcName)s): %(message)s'}, 'console': {'()': <class 'ctapipe.core.logging.ColoredFormatter'>, 'fmt': '%(asctime)s %(levelname)s [%(name)s] (%(module)s.%(funcName)s): %(message)s'}}, 'handlers': {'ctapipe-console': {'class': 'logging.StreamHandler', 'formatter': 'console', 'stream': 'ext://sys.stderr', 'level': 10}, 'console': {'class': 'logging.StreamHandler', 'formatter': 'console', 'stream': 'ext://sys.stderr', 'level': 'NOTSET'}}, 'loggers': {'ctapipe': {'level': 10, 'handlers': ['ctapipe-console'], 'propagate': False}}}, 'log_datefmt': '%Y-%m-%d %H:%M:%S', 'log_file': None, 'log_file_level': 'INFO', 'log_format': '%(asctime)s : %(levelname)s [%(name)s %(funcName)s] %(message)s', 'log_level': 10, 'provenance_log': PosixPath('/github/workspace/docs/examples/mytool.provenance.log'), 'quiet': False, 'show_config': False, 'show_config_json': False, 'MyComponent': {'value': -1}, 'SecondaryMyComponent': {'value': -1}, 'TelescopeWiseComponent': {'param': [('type', '*', 5.0)]}, 'AdvancedComponent': {'infile': PosixPath('/github/home/.cache/ctapipe/cccta-dataserver.in2p3.fr/data/ctapipe-extra/v0.3.3/gamma_test.simtel.gz'), 'outfile': None, 'value1': -1, 'MyComponent': {'value': -1}}}}\n"
     ]
    },
    {
     "name": "stderr",
     "output_type": "stream",
     "text": [
      "2021-02-23 12:33:53,476 \u001b[1;32mINFO\u001b[0m [ctapipe.mytool] (<ipython-input-1-95ab3180bb34>.start): Performing 3 iterations...\n"
     ]
    },
    {
     "name": "stderr",
     "output_type": "stream",
     "text": [
      "2021-02-23 12:33:53,478 \u001b[1;32mINFO\u001b[0m [ctapipe.mytool] (<ipython-input-1-95ab3180bb34>.start): ITERATION 0\n"
     ]
    },
    {
     "name": "stderr",
     "output_type": "stream",
     "text": [
      "2021-02-23 12:33:53,479 \u001b[1;34mDEBUG\u001b[0m [ctapipe.mytool.MyComponent] (<ipython-input-1-a087b1827cdf>.do_thing): Did thing\n"
     ]
    },
    {
     "name": "stderr",
     "output_type": "stream",
     "text": [
      "2021-02-23 12:33:53,480 \u001b[1;34mDEBUG\u001b[0m [ctapipe.mytool.SecondaryMyComponent] (<ipython-input-1-a087b1827cdf>.do_thing): Did thing\n"
     ]
    },
    {
     "name": "stderr",
     "output_type": "stream",
     "text": [
      "2021-02-23 12:33:53,581 \u001b[1;32mINFO\u001b[0m [ctapipe.mytool] (<ipython-input-1-95ab3180bb34>.start): ITERATION 1\n"
     ]
    },
    {
     "name": "stderr",
     "output_type": "stream",
     "text": [
      "2021-02-23 12:33:53,583 \u001b[1;34mDEBUG\u001b[0m [ctapipe.mytool.MyComponent] (<ipython-input-1-a087b1827cdf>.do_thing): Did thing\n"
     ]
    },
    {
     "name": "stderr",
     "output_type": "stream",
     "text": [
      "2021-02-23 12:33:53,584 \u001b[1;34mDEBUG\u001b[0m [ctapipe.mytool.SecondaryMyComponent] (<ipython-input-1-a087b1827cdf>.do_thing): Did thing\n"
     ]
    },
    {
     "name": "stderr",
     "output_type": "stream",
     "text": [
      "2021-02-23 12:33:53,685 \u001b[1;32mINFO\u001b[0m [ctapipe.mytool] (<ipython-input-1-95ab3180bb34>.start): ITERATION 2\n"
     ]
    },
    {
     "name": "stderr",
     "output_type": "stream",
     "text": [
      "2021-02-23 12:33:53,686 \u001b[1;34mDEBUG\u001b[0m [ctapipe.mytool.MyComponent] (<ipython-input-1-a087b1827cdf>.do_thing): Did thing\n"
     ]
    },
    {
     "name": "stderr",
     "output_type": "stream",
     "text": [
      "2021-02-23 12:33:53,687 \u001b[1;34mDEBUG\u001b[0m [ctapipe.mytool.SecondaryMyComponent] (<ipython-input-1-a087b1827cdf>.do_thing): Did thing\n"
     ]
    },
    {
     "name": "stderr",
     "output_type": "stream",
     "text": [
      "2021-02-23 12:33:53,789 \u001b[1;33mWARNING\u001b[0m [ctapipe.mytool] (<ipython-input-1-95ab3180bb34>.finish): Shutting down.\n"
     ]
    },
    {
     "name": "stderr",
     "output_type": "stream",
     "text": [
      "2021-02-23 12:33:53,790 \u001b[1;32mINFO\u001b[0m [ctapipe.mytool] (tool.run): Finished: mytool\n"
     ]
    },
    {
     "name": "stderr",
     "output_type": "stream",
     "text": [
      "2021-02-23 12:33:53,795 \u001b[1;34mDEBUG\u001b[0m [ctapipe.core.provenance] (provenance.finish_activity): finished activity: mytool\n"
     ]
    },
    {
     "name": "stderr",
     "output_type": "stream",
     "text": [
      "2021-02-23 12:33:53,795 \u001b[1;32mINFO\u001b[0m [ctapipe.mytool] (tool.write_provenance): Output: \n"
     ]
    },
    {
     "name": "stderr",
     "output_type": "stream",
     "text": [
      "2021-02-23 12:33:53,797 \u001b[1;32mINFO\u001b[0m [ctapipe.mytool] (tool.write_provenance): Output: \n"
     ]
    },
    {
     "name": "stderr",
     "output_type": "stream",
     "text": [
      "2021-02-23 12:33:53,797 \u001b[1;32mINFO\u001b[0m [ctapipe.mytool] (tool.write_provenance): Output: \n"
     ]
    },
    {
     "name": "stderr",
     "output_type": "stream",
     "text": [
      "2021-02-23 12:33:53,798 \u001b[1;32mINFO\u001b[0m [ctapipe.mytool] (tool.write_provenance): Output: \n"
     ]
    },
    {
     "name": "stderr",
     "output_type": "stream",
     "text": [
      "2021-02-23 12:33:53,801 \u001b[1;34mDEBUG\u001b[0m [ctapipe.mytool] (tool.write_provenance): PROVENANCE: '[\n",
      "   {\n",
      "      \"activity_name\": \"mytool\",\n",
      "      \"activity_uuid\": \"87aeca95-d943-423d-aa66-d29d4b62bc07\",\n",
      "      \"start\": {\n",
      "         \"time_utc\": \"2021-02-23T12:33:52.203\"\n",
      "      },\n",
      "      \"stop\": {\n",
      "         \"time_utc\": \"2021-02-23T12:33:52.720\"\n",
      "      },\n",
      "      \"system\": {\n",
      "         \"ctapipe_version\": \"0.10.4.dev6+g833cd994\",\n",
      "         \"ctapipe_resources_version\": \"not installed\",\n",
      "         \"eventio_version\": \"1.5.1\",\n",
      "         \"ctapipe_svc_path\": null,\n",
      "         \"executable\": \"/usr/local/bin/python3\",\n",
      "         \"platform\": {\n",
      "            \"architecture_bits\": \"64bit\",\n",
      "            \"architecture_linkage\": \"\",\n",
      "            \"machine\": \"x86_64\",\n",
      "            \"processor\": \"\",\n",
      "            \"node\": \"87b2ba7cd546\",\n",
      "            \"version\": \"#41~18.04.1-Ubuntu SMP Mon Jan 18 14:00:01 UTC 2021\",\n",
      "            \"system\": \"Linux\",\n",
      "            \"release\": \"5.4.0-1039-azure\",\n",
      "            \"libcver\": [\n",
      "               \"glibc\",\n",
      "               \"2.28\"\n",
      "            ],\n",
      "            \"num_cpus\": 2,\n",
      "            \"boot_time\": \"2021-02-23T12:29:25.000\"\n",
      "         },\n",
      "         \"python\": {\n",
      "            \"version_string\": \"3.8.2 (default, Feb 26 2020, 15:09:34) \\n[GCC 8.3.0]\",\n",
      "            \"version\": [\n",
      "               \"3\",\n",
      "               \"8\",\n",
      "               \"2\"\n",
      "            ],\n",
      "            \"compiler\": \"GCC 8.3.0\",\n",
      "            \"implementation\": \"CPython\"\n",
      "         },\n",
      "         \"environment\": {\n",
      "            \"CONDA_DEFAULT_ENV\": null,\n",
      "            \"CONDA_PREFIX\": null,\n",
      "            \"CONDA_PYTHON_EXE\": null,\n",
      "            \"CONDA_EXE\": null,\n",
      "            \"CONDA_PROMPT_MODIFIER\": null,\n",
      "            \"CONDA_SHLVL\": null,\n",
      "            \"PATH\": \"/usr/local/bin:/usr/local/sbin:/usr/local/bin:/usr/sbin:/usr/bin:/sbin:/bin\",\n",
      "            \"LD_LIBRARY_PATH\": null,\n",
      "            \"DYLD_LIBRARY_PATH\": null,\n",
      "            \"USER\": null,\n",
      "            \"HOME\": \"/github/home\",\n",
      "            \"SHELL\": null\n",
      "         },\n",
      "         \"arguments\": [\n",
      "            \"/usr/local/lib/python3.8/site-packages/ipykernel_launcher.py\",\n",
      "            \"-f\",\n",
      "            \"/tmp/tmp0p5r20fe.json\",\n",
      "            \"--HistoryManager.hist_file=:memory:\"\n",
      "         ],\n",
      "         \"start_time_utc\": \"2021-02-23T12:33:52.209\"\n",
      "      },\n",
      "      \"input\": [],\n",
      "      \"output\": [],\n",
      "      \"config\": {\n",
      "         \"MyTool\": {\n",
      "            \"config_file\": null,\n",
      "            \"iterations\": 5,\n",
      "            \"log_config\": {\n",
      "               \"version\": 1,\n",
      "               \"disable_existing_loggers\": false,\n",
      "               \"formatters\": {\n",
      "                  \"file\": {\n",
      "                     \"()\": null,\n",
      "                     \"fmt\": \"%(asctime)s %(levelname)s [%(name)s] (%(module)s.%(funcName)s): %(message)s\"\n",
      "                  },\n",
      "                  \"console\": {\n",
      "                     \"()\": null,\n",
      "                     \"fmt\": \"%(asctime)s %(levelname)s [%(name)s] (%(module)s.%(funcName)s): %(message)s\"\n",
      "                  }\n",
      "               },\n",
      "               \"handlers\": {\n",
      "                  \"ctapipe-console\": {\n",
      "                     \"class\": \"logging.StreamHandler\",\n",
      "                     \"formatter\": \"console\",\n",
      "                     \"stream\": \"ext://sys.stderr\",\n",
      "                     \"level\": 10\n",
      "                  },\n",
      "                  \"console\": {\n",
      "                     \"class\": \"logging.StreamHandler\",\n",
      "                     \"formatter\": \"console\",\n",
      "                     \"stream\": \"ext://sys.stderr\",\n",
      "                     \"level\": \"NOTSET\"\n",
      "                  }\n",
      "               },\n",
      "               \"loggers\": {\n",
      "                  \"ctapipe\": {\n",
      "                     \"level\": 10,\n",
      "                     \"handlers\": [\n",
      "                        \"ctapipe-console\"\n",
      "                     ],\n",
      "                     \"propagate\": false\n",
      "                  }\n",
      "               }\n",
      "            },\n",
      "            \"log_datefmt\": \"%Y-%m-%d %H:%M:%S\",\n",
      "            \"log_file\": null,\n",
      "            \"log_file_level\": \"INFO\",\n",
      "            \"log_format\": \"[%(name)s]%(highlevel)s %(message)s\",\n",
      "            \"log_level\": 30,\n",
      "            \"provenance_log\": \"/github/workspace/docs/examples/mytool.provenance.log\",\n",
      "            \"quiet\": false,\n",
      "            \"show_config\": false,\n",
      "            \"show_config_json\": false,\n",
      "            \"MyComponent\": {\n",
      "               \"value\": -1\n",
      "            },\n",
      "            \"SecondaryMyComponent\": {\n",
      "               \"value\": -1\n",
      "            },\n",
      "            \"TelescopeWiseComponent\": {\n",
      "               \"param\": [\n",
      "                  [\n",
      "                     \"type\",\n",
      "                     \"*\",\n",
      "                     5.0\n",
      "                  ]\n",
      "               ]\n",
      "            },\n",
      "            \"AdvancedComponent\": {\n",
      "               \"infile\": \"/github/home/.cache/ctapipe/cccta-dataserver.in2p3.fr/data/ctapipe-extra/v0.3.3/gamma_test.simtel.gz\",\n",
      "               \"outfile\": null,\n",
      "               \"value1\": -1,\n",
      "               \"MyComponent\": {\n",
      "                  \"value\": -1\n",
      "               }\n",
      "            }\n",
      "         }\n",
      "      },\n",
      "      \"status\": \"completed\",\n",
      "      \"duration_min\": 0.0086166666667431\n",
      "   },\n",
      "   {\n",
      "      \"activity_name\": \"mytool\",\n",
      "      \"activity_uuid\": \"a80ef772-18dc-4179-9e0e-3f3bf71e4f53\",\n",
      "      \"start\": {\n",
      "         \"time_utc\": \"2021-02-23T12:33:52.743\"\n",
      "      },\n",
      "      \"stop\": {\n",
      "         \"time_utc\": \"2021-02-23T12:33:53.066\"\n",
      "      },\n",
      "      \"system\": {\n",
      "         \"ctapipe_version\": \"0.10.4.dev6+g833cd994\",\n",
      "         \"ctapipe_resources_version\": \"not installed\",\n",
      "         \"eventio_version\": \"1.5.1\",\n",
      "         \"ctapipe_svc_path\": null,\n",
      "         \"executable\": \"/usr/local/bin/python3\",\n",
      "         \"platform\": {\n",
      "            \"architecture_bits\": \"64bit\",\n",
      "            \"architecture_linkage\": \"\",\n",
      "            \"machine\": \"x86_64\",\n",
      "            \"processor\": \"\",\n",
      "            \"node\": \"87b2ba7cd546\",\n",
      "            \"version\": \"#41~18.04.1-Ubuntu SMP Mon Jan 18 14:00:01 UTC 2021\",\n",
      "            \"system\": \"Linux\",\n",
      "            \"release\": \"5.4.0-1039-azure\",\n",
      "            \"libcver\": [\n",
      "               \"glibc\",\n",
      "               \"2.28\"\n",
      "            ],\n",
      "            \"num_cpus\": 2,\n",
      "            \"boot_time\": \"2021-02-23T12:29:25.000\"\n",
      "         },\n",
      "         \"python\": {\n",
      "            \"version_string\": \"3.8.2 (default, Feb 26 2020, 15:09:34) \\n[GCC 8.3.0]\",\n",
      "            \"version\": [\n",
      "               \"3\",\n",
      "               \"8\",\n",
      "               \"2\"\n",
      "            ],\n",
      "            \"compiler\": \"GCC 8.3.0\",\n",
      "            \"implementation\": \"CPython\"\n",
      "         },\n",
      "         \"environment\": {\n",
      "            \"CONDA_DEFAULT_ENV\": null,\n",
      "            \"CONDA_PREFIX\": null,\n",
      "            \"CONDA_PYTHON_EXE\": null,\n",
      "            \"CONDA_EXE\": null,\n",
      "            \"CONDA_PROMPT_MODIFIER\": null,\n",
      "            \"CONDA_SHLVL\": null,\n",
      "            \"PATH\": \"/usr/local/bin:/usr/local/sbin:/usr/local/bin:/usr/sbin:/usr/bin:/sbin:/bin\",\n",
      "            \"LD_LIBRARY_PATH\": null,\n",
      "            \"DYLD_LIBRARY_PATH\": null,\n",
      "            \"USER\": null,\n",
      "            \"HOME\": \"/github/home\",\n",
      "            \"SHELL\": null\n",
      "         },\n",
      "         \"arguments\": [\n",
      "            \"/usr/local/lib/python3.8/site-packages/ipykernel_launcher.py\",\n",
      "            \"-f\",\n",
      "            \"/tmp/tmp0p5r20fe.json\",\n",
      "            \"--HistoryManager.hist_file=:memory:\"\n",
      "         ],\n",
      "         \"start_time_utc\": \"2021-02-23T12:33:52.752\"\n",
      "      },\n",
      "      \"input\": [],\n",
      "      \"output\": [],\n",
      "      \"config\": {\n",
      "         \"MyTool\": {\n",
      "            \"config_file\": null,\n",
      "            \"iterations\": 3,\n",
      "            \"log_config\": {\n",
      "               \"version\": 1,\n",
      "               \"disable_existing_loggers\": false,\n",
      "               \"formatters\": {\n",
      "                  \"file\": {\n",
      "                     \"()\": null,\n",
      "                     \"fmt\": \"%(asctime)s %(levelname)s [%(name)s] (%(module)s.%(funcName)s): %(message)s\"\n",
      "                  },\n",
      "                  \"console\": {\n",
      "                     \"()\": null,\n",
      "                     \"fmt\": \"%(asctime)s %(levelname)s [%(name)s] (%(module)s.%(funcName)s): %(message)s\"\n",
      "                  }\n",
      "               },\n",
      "               \"handlers\": {\n",
      "                  \"ctapipe-console\": {\n",
      "                     \"class\": \"logging.StreamHandler\",\n",
      "                     \"formatter\": \"console\",\n",
      "                     \"stream\": \"ext://sys.stderr\",\n",
      "                     \"level\": 10\n",
      "                  },\n",
      "                  \"console\": {\n",
      "                     \"class\": \"logging.StreamHandler\",\n",
      "                     \"formatter\": \"console\",\n",
      "                     \"stream\": \"ext://sys.stderr\",\n",
      "                     \"level\": \"NOTSET\"\n",
      "                  }\n",
      "               },\n",
      "               \"loggers\": {\n",
      "                  \"ctapipe\": {\n",
      "                     \"level\": 10,\n",
      "                     \"handlers\": [\n",
      "                        \"ctapipe-console\"\n",
      "                     ],\n",
      "                     \"propagate\": false\n",
      "                  }\n",
      "               }\n",
      "            },\n",
      "            \"log_datefmt\": \"%Y-%m-%d %H:%M:%S\",\n",
      "            \"log_file\": null,\n",
      "            \"log_file_level\": \"INFO\",\n",
      "            \"log_format\": \"%(asctime)s : %(levelname)s [%(name)s %(funcName)s] %(message)s\",\n",
      "            \"log_level\": 20,\n",
      "            \"provenance_log\": \"/github/workspace/docs/examples/mytool.provenance.log\",\n",
      "            \"quiet\": false,\n",
      "            \"show_config\": false,\n",
      "            \"show_config_json\": false,\n",
      "            \"MyComponent\": {\n",
      "               \"value\": -1\n",
      "            },\n",
      "            \"SecondaryMyComponent\": {\n",
      "               \"value\": -1\n",
      "            },\n",
      "            \"TelescopeWiseComponent\": {\n",
      "               \"param\": [\n",
      "                  [\n",
      "                     \"type\",\n",
      "                     \"*\",\n",
      "                     5.0\n",
      "                  ]\n",
      "               ]\n",
      "            },\n",
      "            \"AdvancedComponent\": {\n",
      "               \"infile\": \"/github/home/.cache/ctapipe/cccta-dataserver.in2p3.fr/data/ctapipe-extra/v0.3.3/gamma_test.simtel.gz\",\n",
      "               \"outfile\": null,\n",
      "               \"value1\": -1,\n",
      "               \"MyComponent\": {\n",
      "                  \"value\": -1\n",
      "               }\n",
      "            }\n",
      "         }\n",
      "      },\n",
      "      \"status\": \"completed\",\n",
      "      \"duration_min\": 0.0053833333331887445\n",
      "   },\n",
      "   {\n",
      "      \"activity_name\": \"mytool\",\n",
      "      \"activity_uuid\": \"ac0569f8-b2ae-4bea-b521-00d7a08d6132\",\n",
      "      \"start\": {\n",
      "         \"time_utc\": \"2021-02-23T12:33:53.094\"\n",
      "      },\n",
      "      \"stop\": {\n",
      "         \"time_utc\": \"2021-02-23T12:33:53.425\"\n",
      "      },\n",
      "      \"system\": {\n",
      "         \"ctapipe_version\": \"0.10.4.dev6+g833cd994\",\n",
      "         \"ctapipe_resources_version\": \"not installed\",\n",
      "         \"eventio_version\": \"1.5.1\",\n",
      "         \"ctapipe_svc_path\": null,\n",
      "         \"executable\": \"/usr/local/bin/python3\",\n",
      "         \"platform\": {\n",
      "            \"architecture_bits\": \"64bit\",\n",
      "            \"architecture_linkage\": \"\",\n",
      "            \"machine\": \"x86_64\",\n",
      "            \"processor\": \"\",\n",
      "            \"node\": \"87b2ba7cd546\",\n",
      "            \"version\": \"#41~18.04.1-Ubuntu SMP Mon Jan 18 14:00:01 UTC 2021\",\n",
      "            \"system\": \"Linux\",\n",
      "            \"release\": \"5.4.0-1039-azure\",\n",
      "            \"libcver\": [\n",
      "               \"glibc\",\n",
      "               \"2.28\"\n",
      "            ],\n",
      "            \"num_cpus\": 2,\n",
      "            \"boot_time\": \"2021-02-23T12:29:25.000\"\n",
      "         },\n",
      "         \"python\": {\n",
      "            \"version_string\": \"3.8.2 (default, Feb 26 2020, 15:09:34) \\n[GCC 8.3.0]\",\n",
      "            \"version\": [\n",
      "               \"3\",\n",
      "               \"8\",\n",
      "               \"2\"\n",
      "            ],\n",
      "            \"compiler\": \"GCC 8.3.0\",\n",
      "            \"implementation\": \"CPython\"\n",
      "         },\n",
      "         \"environment\": {\n",
      "            \"CONDA_DEFAULT_ENV\": null,\n",
      "            \"CONDA_PREFIX\": null,\n",
      "            \"CONDA_PYTHON_EXE\": null,\n",
      "            \"CONDA_EXE\": null,\n",
      "            \"CONDA_PROMPT_MODIFIER\": null,\n",
      "            \"CONDA_SHLVL\": null,\n",
      "            \"PATH\": \"/usr/local/bin:/usr/local/sbin:/usr/local/bin:/usr/sbin:/usr/bin:/sbin:/bin\",\n",
      "            \"LD_LIBRARY_PATH\": null,\n",
      "            \"DYLD_LIBRARY_PATH\": null,\n",
      "            \"USER\": null,\n",
      "            \"HOME\": \"/github/home\",\n",
      "            \"SHELL\": null\n",
      "         },\n",
      "         \"arguments\": [\n",
      "            \"/usr/local/lib/python3.8/site-packages/ipykernel_launcher.py\",\n",
      "            \"-f\",\n",
      "            \"/tmp/tmp0p5r20fe.json\",\n",
      "            \"--HistoryManager.hist_file=:memory:\"\n",
      "         ],\n",
      "         \"start_time_utc\": \"2021-02-23T12:33:53.101\"\n",
      "      },\n",
      "      \"input\": [],\n",
      "      \"output\": [],\n",
      "      \"config\": {\n",
      "         \"MyTool\": {\n",
      "            \"config_file\": null,\n",
      "            \"iterations\": 3,\n",
      "            \"log_config\": {\n",
      "               \"version\": 1,\n",
      "               \"disable_existing_loggers\": false,\n",
      "               \"formatters\": {\n",
      "                  \"file\": {\n",
      "                     \"()\": null,\n",
      "                     \"fmt\": \"%(asctime)s %(levelname)s [%(name)s] (%(module)s.%(funcName)s): %(message)s\"\n",
      "                  },\n",
      "                  \"console\": {\n",
      "                     \"()\": null,\n",
      "                     \"fmt\": \"%(asctime)s %(levelname)s [%(name)s] (%(module)s.%(funcName)s): %(message)s\"\n",
      "                  }\n",
      "               },\n",
      "               \"handlers\": {\n",
      "                  \"ctapipe-console\": {\n",
      "                     \"class\": \"logging.StreamHandler\",\n",
      "                     \"formatter\": \"console\",\n",
      "                     \"stream\": \"ext://sys.stderr\",\n",
      "                     \"level\": 10\n",
      "                  },\n",
      "                  \"console\": {\n",
      "                     \"class\": \"logging.StreamHandler\",\n",
      "                     \"formatter\": \"console\",\n",
      "                     \"stream\": \"ext://sys.stderr\",\n",
      "                     \"level\": \"NOTSET\"\n",
      "                  }\n",
      "               },\n",
      "               \"loggers\": {\n",
      "                  \"ctapipe\": {\n",
      "                     \"level\": 10,\n",
      "                     \"handlers\": [\n",
      "                        \"ctapipe-console\"\n",
      "                     ],\n",
      "                     \"propagate\": false\n",
      "                  }\n",
      "               }\n",
      "            },\n",
      "            \"log_datefmt\": \"%Y-%m-%d %H:%M:%S\",\n",
      "            \"log_file\": null,\n",
      "            \"log_file_level\": \"INFO\",\n",
      "            \"log_format\": \"%(asctime)s : %(levelname)s [%(name)s %(funcName)s] %(message)s\",\n",
      "            \"log_level\": 10,\n",
      "            \"provenance_log\": \"/github/workspace/docs/examples/mytool.provenance.log\",\n",
      "            \"quiet\": false,\n",
      "            \"show_config\": false,\n",
      "            \"show_config_json\": false,\n",
      "            \"MyComponent\": {\n",
      "               \"value\": -1\n",
      "            },\n",
      "            \"SecondaryMyComponent\": {\n",
      "               \"value\": -1\n",
      "            },\n",
      "            \"TelescopeWiseComponent\": {\n",
      "               \"param\": [\n",
      "                  [\n",
      "                     \"type\",\n",
      "                     \"*\",\n",
      "                     5.0\n",
      "                  ]\n",
      "               ]\n",
      "            },\n",
      "            \"AdvancedComponent\": {\n",
      "               \"infile\": \"/github/home/.cache/ctapipe/cccta-dataserver.in2p3.fr/data/ctapipe-extra/v0.3.3/gamma_test.simtel.gz\",\n",
      "               \"outfile\": null,\n",
      "               \"value1\": -1,\n",
      "               \"MyComponent\": {\n",
      "                  \"value\": -1\n",
      "               }\n",
      "            }\n",
      "         }\n",
      "      },\n",
      "      \"status\": \"completed\",\n",
      "      \"duration_min\": 0.005516666666842696\n",
      "   },\n",
      "   {\n",
      "      \"activity_name\": \"mytool\",\n",
      "      \"activity_uuid\": \"275bda36-b84a-454d-a991-9fd7372ff057\",\n",
      "      \"start\": {\n",
      "         \"time_utc\": \"2021-02-23T12:33:53.460\"\n",
      "      },\n",
      "      \"stop\": {\n",
      "         \"time_utc\": \"2021-02-23T12:33:53.792\"\n",
      "      },\n",
      "      \"system\": {\n",
      "         \"ctapipe_version\": \"0.10.4.dev6+g833cd994\",\n",
      "         \"ctapipe_resources_version\": \"not installed\",\n",
      "         \"eventio_version\": \"1.5.1\",\n",
      "         \"ctapipe_svc_path\": null,\n",
      "         \"executable\": \"/usr/local/bin/python3\",\n",
      "         \"platform\": {\n",
      "            \"architecture_bits\": \"64bit\",\n",
      "            \"architecture_linkage\": \"\",\n",
      "            \"machine\": \"x86_64\",\n",
      "            \"processor\": \"\",\n",
      "            \"node\": \"87b2ba7cd546\",\n",
      "            \"version\": \"#41~18.04.1-Ubuntu SMP Mon Jan 18 14:00:01 UTC 2021\",\n",
      "            \"system\": \"Linux\",\n",
      "            \"release\": \"5.4.0-1039-azure\",\n",
      "            \"libcver\": [\n",
      "               \"glibc\",\n",
      "               \"2.28\"\n",
      "            ],\n",
      "            \"num_cpus\": 2,\n",
      "            \"boot_time\": \"2021-02-23T12:29:25.000\"\n",
      "         },\n",
      "         \"python\": {\n",
      "            \"version_string\": \"3.8.2 (default, Feb 26 2020, 15:09:34) \\n[GCC 8.3.0]\",\n",
      "            \"version\": [\n",
      "               \"3\",\n",
      "               \"8\",\n",
      "               \"2\"\n",
      "            ],\n",
      "            \"compiler\": \"GCC 8.3.0\",\n",
      "            \"implementation\": \"CPython\"\n",
      "         },\n",
      "         \"environment\": {\n",
      "            \"CONDA_DEFAULT_ENV\": null,\n",
      "            \"CONDA_PREFIX\": null,\n",
      "            \"CONDA_PYTHON_EXE\": null,\n",
      "            \"CONDA_EXE\": null,\n",
      "            \"CONDA_PROMPT_MODIFIER\": null,\n",
      "            \"CONDA_SHLVL\": null,\n",
      "            \"PATH\": \"/usr/local/bin:/usr/local/sbin:/usr/local/bin:/usr/sbin:/usr/bin:/sbin:/bin\",\n",
      "            \"LD_LIBRARY_PATH\": null,\n",
      "            \"DYLD_LIBRARY_PATH\": null,\n",
      "            \"USER\": null,\n",
      "            \"HOME\": \"/github/home\",\n",
      "            \"SHELL\": null\n",
      "         },\n",
      "         \"arguments\": [\n",
      "            \"/usr/local/lib/python3.8/site-packages/ipykernel_launcher.py\",\n",
      "            \"-f\",\n",
      "            \"/tmp/tmp0p5r20fe.json\",\n",
      "            \"--HistoryManager.hist_file=:memory:\"\n",
      "         ],\n",
      "         \"start_time_utc\": \"2021-02-23T12:33:53.467\"\n",
      "      },\n",
      "      \"input\": [],\n",
      "      \"output\": [],\n",
      "      \"config\": {\n",
      "         \"MyTool\": {\n",
      "            \"config_file\": null,\n",
      "            \"iterations\": 3,\n",
      "            \"log_config\": {\n",
      "               \"version\": 1,\n",
      "               \"disable_existing_loggers\": false,\n",
      "               \"formatters\": {\n",
      "                  \"file\": {\n",
      "                     \"()\": null,\n",
      "                     \"fmt\": \"%(asctime)s %(levelname)s [%(name)s] (%(module)s.%(funcName)s): %(message)s\"\n",
      "                  },\n",
      "                  \"console\": {\n",
      "                     \"()\": null,\n",
      "                     \"fmt\": \"%(asctime)s %(levelname)s [%(name)s] (%(module)s.%(funcName)s): %(message)s\"\n",
      "                  }\n",
      "               },\n",
      "               \"handlers\": {\n",
      "                  \"ctapipe-console\": {\n",
      "                     \"class\": \"logging.StreamHandler\",\n",
      "                     \"formatter\": \"console\",\n",
      "                     \"stream\": \"ext://sys.stderr\",\n",
      "                     \"level\": 10\n",
      "                  },\n",
      "                  \"console\": {\n",
      "                     \"class\": \"logging.StreamHandler\",\n",
      "                     \"formatter\": \"console\",\n",
      "                     \"stream\": \"ext://sys.stderr\",\n",
      "                     \"level\": \"NOTSET\"\n",
      "                  }\n",
      "               },\n",
      "               \"loggers\": {\n",
      "                  \"ctapipe\": {\n",
      "                     \"level\": 10,\n",
      "                     \"handlers\": [\n",
      "                        \"ctapipe-console\"\n",
      "                     ],\n",
      "                     \"propagate\": false\n",
      "                  }\n",
      "               }\n",
      "            },\n",
      "            \"log_datefmt\": \"%Y-%m-%d %H:%M:%S\",\n",
      "            \"log_file\": null,\n",
      "            \"log_file_level\": \"INFO\",\n",
      "            \"log_format\": \"%(asctime)s : %(levelname)s [%(name)s %(funcName)s] %(message)s\",\n",
      "            \"log_level\": 10,\n",
      "            \"provenance_log\": \"/github/workspace/docs/examples/mytool.provenance.log\",\n",
      "            \"quiet\": false,\n",
      "            \"show_config\": false,\n",
      "            \"show_config_json\": false,\n",
      "            \"MyComponent\": {\n",
      "               \"value\": -1\n",
      "            },\n",
      "            \"SecondaryMyComponent\": {\n",
      "               \"value\": -1\n",
      "            },\n",
      "            \"TelescopeWiseComponent\": {\n",
      "               \"param\": [\n",
      "                  [\n",
      "                     \"type\",\n",
      "                     \"*\",\n",
      "                     5.0\n",
      "                  ]\n",
      "               ]\n",
      "            },\n",
      "            \"AdvancedComponent\": {\n",
      "               \"infile\": \"/github/home/.cache/ctapipe/cccta-dataserver.in2p3.fr/data/ctapipe-extra/v0.3.3/gamma_test.simtel.gz\",\n",
      "               \"outfile\": null,\n",
      "               \"value1\": -1,\n",
      "               \"MyComponent\": {\n",
      "                  \"value\": -1\n",
      "               }\n",
      "            }\n",
      "         }\n",
      "      },\n",
      "      \"status\": \"completed\",\n",
      "      \"duration_min\": 0.005533333333289647\n",
      "   }\n",
      "]'\n"
     ]
    },
    {
     "name": "stderr",
     "output_type": "stream",
     "text": [
      "2021-02-23 12:33:53,804 \u001b[1;34mDEBUG\u001b[0m [ctapipe.mytool] (application.exit): Exiting application: mytool\n"
     ]
    }
   ],
   "source": [
    "tool.iterations = 1\n",
    "tool.log_level = 0\n",
    "\n",
    "try:\n",
    "    tool.run(['--infile', str(GAMMA_FILE)])\n",
    "except SystemExit as e:\n",
    "    assert e.code == 0, f'Tool returned with error status {e}'"
   ]
  },
  {
   "cell_type": "markdown",
   "metadata": {},
   "source": [
    "see what happens when a value is set that is not of the correct type:"
   ]
  },
  {
   "cell_type": "code",
   "execution_count": 16,
   "metadata": {
    "execution": {
     "iopub.execute_input": "2021-02-23T12:33:53.815538Z",
     "iopub.status.busy": "2021-02-23T12:33:53.814333Z",
     "iopub.status.idle": "2021-02-23T12:33:53.817274Z",
     "shell.execute_reply": "2021-02-23T12:33:53.816807Z"
    }
   },
   "outputs": [
    {
     "name": "stdout",
     "output_type": "stream",
     "text": [
      "bad value: The 'iterations' trait of a MyTool instance expected an int, not the str 'badval'.\n"
     ]
    }
   ],
   "source": [
    "try:\n",
    "    tool.iterations = \"badval\"\n",
    "except TraitError as E:\n",
    "    print(\"bad value:\",E)\n",
    "except SystemExit as e:\n",
    "    assert e.code == 0, f'Tool returned with error status {e}'"
   ]
  },
  {
   "cell_type": "markdown",
   "metadata": {},
   "source": [
    "Example of what happens when you change a parameter that is being \"observed\" in a class. It's handler is called:"
   ]
  },
  {
   "cell_type": "code",
   "execution_count": 17,
   "metadata": {
    "execution": {
     "iopub.execute_input": "2021-02-23T12:33:53.822307Z",
     "iopub.status.busy": "2021-02-23T12:33:53.821755Z",
     "iopub.status.idle": "2021-02-23T12:33:53.824226Z",
     "shell.execute_reply": "2021-02-23T12:33:53.824667Z"
    }
   },
   "outputs": [
    {
     "name": "stderr",
     "output_type": "stream",
     "text": [
      "2021-02-23 12:33:53,819 \u001b[1;33mWARNING\u001b[0m [ctapipe.mytool.AdvancedComponent] (<ipython-input-1-a087b1827cdf>.on_outfile_changed): Outfile was changed to '{'name': 'outfile', 'old': None, 'new': PosixPath('/github/workspace/docs/examples/Another.txt'), 'owner': <__main__.AdvancedComponent object at 0x7f1080a7c790>, 'type': 'change'}'\n"
     ]
    }
   ],
   "source": [
    "tool.advanced.outfile = \"Another.txt\""
   ]
  },
  {
   "cell_type": "markdown",
   "metadata": {},
   "source": [
    "we see that the handler for `outfile` was called, and it receive a change dict that shows the old and new values."
   ]
  },
  {
   "cell_type": "markdown",
   "metadata": {},
   "source": [
    "create a tool using a config file:"
   ]
  },
  {
   "cell_type": "code",
   "execution_count": 18,
   "metadata": {
    "execution": {
     "iopub.execute_input": "2021-02-23T12:33:53.829770Z",
     "iopub.status.busy": "2021-02-23T12:33:53.828801Z",
     "iopub.status.idle": "2021-02-23T12:33:53.832278Z",
     "shell.execute_reply": "2021-02-23T12:33:53.831804Z"
    }
   },
   "outputs": [],
   "source": [
    "tool2 = MyTool()"
   ]
  },
  {
   "cell_type": "code",
   "execution_count": 19,
   "metadata": {
    "execution": {
     "iopub.execute_input": "2021-02-23T12:33:53.837959Z",
     "iopub.status.busy": "2021-02-23T12:33:53.837376Z",
     "iopub.status.idle": "2021-02-23T12:33:54.401882Z",
     "shell.execute_reply": "2021-02-23T12:33:54.401279Z"
    },
    "scrolled": false
   },
   "outputs": [
    {
     "name": "stderr",
     "output_type": "stream",
     "text": [
      "2021-02-23 12:33:53,842 \u001b[1;32mINFO\u001b[0m [ctapipe.mytool] (tool.initialize): ctapipe version 0.10.4.dev6+g833cd994\n"
     ]
    },
    {
     "name": "stderr",
     "output_type": "stream",
     "text": [
      "2021-02-23 12:33:53,842 \u001b[1;32mINFO\u001b[0m [ctapipe.mytool] (tool.run): Starting: mytool\n"
     ]
    },
    {
     "name": "stderr",
     "output_type": "stream",
     "text": [
      "2021-02-23 12:33:53,850 \u001b[1;34mDEBUG\u001b[0m [ctapipe.core.provenance] (provenance.start_activity): started activity: mytool\n"
     ]
    },
    {
     "name": "stderr",
     "output_type": "stream",
     "text": [
      "2021-02-23 12:33:53,854 \u001b[1;34mDEBUG\u001b[0m [ctapipe.core.traits] (traits.attach_subarray): argument '*' matched: ['LST_LST_LSTCam', 'MST_MST_NectarCam']\n"
     ]
    },
    {
     "name": "stderr",
     "output_type": "stream",
     "text": [
      "2021-02-23 12:33:53,856 \u001b[1;34mDEBUG\u001b[0m [ctapipe.mytool] (tool.run): CONFIG: {'MyTool': {'config_file': PosixPath('/github/workspace/docs/examples/Tools.json'), 'iterations': 5, 'log_config': {'version': 1, 'disable_existing_loggers': False, 'formatters': {'file': {'()': <class 'ctapipe.core.logging.PlainFormatter'>, 'fmt': '%(asctime)s %(levelname)s [%(name)s] (%(module)s.%(funcName)s): %(message)s'}, 'console': {'()': <class 'ctapipe.core.logging.ColoredFormatter'>, 'fmt': '%(asctime)s %(levelname)s [%(name)s] (%(module)s.%(funcName)s): %(message)s'}}, 'handlers': {'ctapipe-console': {'class': 'logging.StreamHandler', 'formatter': 'console', 'stream': 'ext://sys.stderr', 'level': 10}, 'console': {'class': 'logging.StreamHandler', 'formatter': 'console', 'stream': 'ext://sys.stderr', 'level': 'NOTSET'}}, 'loggers': {'ctapipe': {'level': 10, 'handlers': ['ctapipe-console'], 'propagate': False}}}, 'log_datefmt': '%Y-%m-%d %H:%M:%S', 'log_file': None, 'log_file_level': 'INFO', 'log_format': '[%(name)s]%(highlevel)s %(message)s', 'log_level': 10, 'provenance_log': PosixPath('/github/workspace/docs/examples/mytool.provenance.log'), 'quiet': False, 'show_config': False, 'show_config_json': False, 'MyComponent': {'value': -1}, 'SecondaryMyComponent': {'value': -1}, 'TelescopeWiseComponent': {'param': [('type', '*', 5.0)]}, 'AdvancedComponent': {'infile': PosixPath('/github/workspace/docs/examples/something.txt'), 'outfile': None, 'value1': -1, 'MyComponent': {'value': -1}}}}\n"
     ]
    },
    {
     "name": "stderr",
     "output_type": "stream",
     "text": [
      "2021-02-23 12:33:53,857 \u001b[1;32mINFO\u001b[0m [ctapipe.mytool] (<ipython-input-1-95ab3180bb34>.start): Performing 5 iterations...\n"
     ]
    },
    {
     "name": "stderr",
     "output_type": "stream",
     "text": [
      "2021-02-23 12:33:53,858 \u001b[1;32mINFO\u001b[0m [ctapipe.mytool] (<ipython-input-1-95ab3180bb34>.start): ITERATION 0\n"
     ]
    },
    {
     "name": "stderr",
     "output_type": "stream",
     "text": [
      "2021-02-23 12:33:53,860 \u001b[1;34mDEBUG\u001b[0m [ctapipe.mytool.MyComponent] (<ipython-input-1-a087b1827cdf>.do_thing): Did thing\n"
     ]
    },
    {
     "name": "stderr",
     "output_type": "stream",
     "text": [
      "2021-02-23 12:33:53,861 \u001b[1;34mDEBUG\u001b[0m [ctapipe.mytool.SecondaryMyComponent] (<ipython-input-1-a087b1827cdf>.do_thing): Did thing\n"
     ]
    },
    {
     "name": "stderr",
     "output_type": "stream",
     "text": [
      "2021-02-23 12:33:53,963 \u001b[1;32mINFO\u001b[0m [ctapipe.mytool] (<ipython-input-1-95ab3180bb34>.start): ITERATION 1\n"
     ]
    },
    {
     "name": "stderr",
     "output_type": "stream",
     "text": [
      "2021-02-23 12:33:53,964 \u001b[1;34mDEBUG\u001b[0m [ctapipe.mytool.MyComponent] (<ipython-input-1-a087b1827cdf>.do_thing): Did thing\n"
     ]
    },
    {
     "name": "stderr",
     "output_type": "stream",
     "text": [
      "2021-02-23 12:33:53,965 \u001b[1;34mDEBUG\u001b[0m [ctapipe.mytool.SecondaryMyComponent] (<ipython-input-1-a087b1827cdf>.do_thing): Did thing\n"
     ]
    },
    {
     "name": "stderr",
     "output_type": "stream",
     "text": [
      "2021-02-23 12:33:54,066 \u001b[1;32mINFO\u001b[0m [ctapipe.mytool] (<ipython-input-1-95ab3180bb34>.start): ITERATION 2\n"
     ]
    },
    {
     "name": "stderr",
     "output_type": "stream",
     "text": [
      "2021-02-23 12:33:54,067 \u001b[1;34mDEBUG\u001b[0m [ctapipe.mytool.MyComponent] (<ipython-input-1-a087b1827cdf>.do_thing): Did thing\n"
     ]
    },
    {
     "name": "stderr",
     "output_type": "stream",
     "text": [
      "2021-02-23 12:33:54,069 \u001b[1;34mDEBUG\u001b[0m [ctapipe.mytool.SecondaryMyComponent] (<ipython-input-1-a087b1827cdf>.do_thing): Did thing\n"
     ]
    },
    {
     "name": "stderr",
     "output_type": "stream",
     "text": [
      "2021-02-23 12:33:54,171 \u001b[1;32mINFO\u001b[0m [ctapipe.mytool] (<ipython-input-1-95ab3180bb34>.start): ITERATION 3\n"
     ]
    },
    {
     "name": "stderr",
     "output_type": "stream",
     "text": [
      "2021-02-23 12:33:54,172 \u001b[1;34mDEBUG\u001b[0m [ctapipe.mytool.MyComponent] (<ipython-input-1-a087b1827cdf>.do_thing): Did thing\n"
     ]
    },
    {
     "name": "stderr",
     "output_type": "stream",
     "text": [
      "2021-02-23 12:33:54,175 \u001b[1;34mDEBUG\u001b[0m [ctapipe.mytool.SecondaryMyComponent] (<ipython-input-1-a087b1827cdf>.do_thing): Did thing\n"
     ]
    },
    {
     "name": "stderr",
     "output_type": "stream",
     "text": [
      "2021-02-23 12:33:54,276 \u001b[1;32mINFO\u001b[0m [ctapipe.mytool] (<ipython-input-1-95ab3180bb34>.start): ITERATION 4\n"
     ]
    },
    {
     "name": "stderr",
     "output_type": "stream",
     "text": [
      "2021-02-23 12:33:54,277 \u001b[1;34mDEBUG\u001b[0m [ctapipe.mytool.MyComponent] (<ipython-input-1-a087b1827cdf>.do_thing): Did thing\n"
     ]
    },
    {
     "name": "stderr",
     "output_type": "stream",
     "text": [
      "2021-02-23 12:33:54,278 \u001b[1;34mDEBUG\u001b[0m [ctapipe.mytool.SecondaryMyComponent] (<ipython-input-1-a087b1827cdf>.do_thing): Did thing\n"
     ]
    },
    {
     "name": "stderr",
     "output_type": "stream",
     "text": [
      "2021-02-23 12:33:54,379 \u001b[1;33mWARNING\u001b[0m [ctapipe.mytool] (<ipython-input-1-95ab3180bb34>.finish): Shutting down.\n"
     ]
    },
    {
     "name": "stderr",
     "output_type": "stream",
     "text": [
      "2021-02-23 12:33:54,380 \u001b[1;32mINFO\u001b[0m [ctapipe.mytool] (tool.run): Finished: mytool\n"
     ]
    },
    {
     "name": "stderr",
     "output_type": "stream",
     "text": [
      "2021-02-23 12:33:54,383 \u001b[1;34mDEBUG\u001b[0m [ctapipe.core.provenance] (provenance.finish_activity): finished activity: mytool\n"
     ]
    },
    {
     "name": "stderr",
     "output_type": "stream",
     "text": [
      "2021-02-23 12:33:54,384 \u001b[1;32mINFO\u001b[0m [ctapipe.mytool] (tool.write_provenance): Output: \n"
     ]
    },
    {
     "name": "stderr",
     "output_type": "stream",
     "text": [
      "2021-02-23 12:33:54,384 \u001b[1;32mINFO\u001b[0m [ctapipe.mytool] (tool.write_provenance): Output: \n"
     ]
    },
    {
     "name": "stderr",
     "output_type": "stream",
     "text": [
      "2021-02-23 12:33:54,385 \u001b[1;32mINFO\u001b[0m [ctapipe.mytool] (tool.write_provenance): Output: \n"
     ]
    },
    {
     "name": "stderr",
     "output_type": "stream",
     "text": [
      "2021-02-23 12:33:54,385 \u001b[1;32mINFO\u001b[0m [ctapipe.mytool] (tool.write_provenance): Output: \n"
     ]
    },
    {
     "name": "stderr",
     "output_type": "stream",
     "text": [
      "2021-02-23 12:33:54,386 \u001b[1;32mINFO\u001b[0m [ctapipe.mytool] (tool.write_provenance): Output: \n"
     ]
    },
    {
     "name": "stderr",
     "output_type": "stream",
     "text": [
      "2021-02-23 12:33:54,388 \u001b[1;34mDEBUG\u001b[0m [ctapipe.mytool] (tool.write_provenance): PROVENANCE: '[\n",
      "   {\n",
      "      \"activity_name\": \"mytool\",\n",
      "      \"activity_uuid\": \"87aeca95-d943-423d-aa66-d29d4b62bc07\",\n",
      "      \"start\": {\n",
      "         \"time_utc\": \"2021-02-23T12:33:52.203\"\n",
      "      },\n",
      "      \"stop\": {\n",
      "         \"time_utc\": \"2021-02-23T12:33:52.720\"\n",
      "      },\n",
      "      \"system\": {\n",
      "         \"ctapipe_version\": \"0.10.4.dev6+g833cd994\",\n",
      "         \"ctapipe_resources_version\": \"not installed\",\n",
      "         \"eventio_version\": \"1.5.1\",\n",
      "         \"ctapipe_svc_path\": null,\n",
      "         \"executable\": \"/usr/local/bin/python3\",\n",
      "         \"platform\": {\n",
      "            \"architecture_bits\": \"64bit\",\n",
      "            \"architecture_linkage\": \"\",\n",
      "            \"machine\": \"x86_64\",\n",
      "            \"processor\": \"\",\n",
      "            \"node\": \"87b2ba7cd546\",\n",
      "            \"version\": \"#41~18.04.1-Ubuntu SMP Mon Jan 18 14:00:01 UTC 2021\",\n",
      "            \"system\": \"Linux\",\n",
      "            \"release\": \"5.4.0-1039-azure\",\n",
      "            \"libcver\": [\n",
      "               \"glibc\",\n",
      "               \"2.28\"\n",
      "            ],\n",
      "            \"num_cpus\": 2,\n",
      "            \"boot_time\": \"2021-02-23T12:29:25.000\"\n",
      "         },\n",
      "         \"python\": {\n",
      "            \"version_string\": \"3.8.2 (default, Feb 26 2020, 15:09:34) \\n[GCC 8.3.0]\",\n",
      "            \"version\": [\n",
      "               \"3\",\n",
      "               \"8\",\n",
      "               \"2\"\n",
      "            ],\n",
      "            \"compiler\": \"GCC 8.3.0\",\n",
      "            \"implementation\": \"CPython\"\n",
      "         },\n",
      "         \"environment\": {\n",
      "            \"CONDA_DEFAULT_ENV\": null,\n",
      "            \"CONDA_PREFIX\": null,\n",
      "            \"CONDA_PYTHON_EXE\": null,\n",
      "            \"CONDA_EXE\": null,\n",
      "            \"CONDA_PROMPT_MODIFIER\": null,\n",
      "            \"CONDA_SHLVL\": null,\n",
      "            \"PATH\": \"/usr/local/bin:/usr/local/sbin:/usr/local/bin:/usr/sbin:/usr/bin:/sbin:/bin\",\n",
      "            \"LD_LIBRARY_PATH\": null,\n",
      "            \"DYLD_LIBRARY_PATH\": null,\n",
      "            \"USER\": null,\n",
      "            \"HOME\": \"/github/home\",\n",
      "            \"SHELL\": null\n",
      "         },\n",
      "         \"arguments\": [\n",
      "            \"/usr/local/lib/python3.8/site-packages/ipykernel_launcher.py\",\n",
      "            \"-f\",\n",
      "            \"/tmp/tmp0p5r20fe.json\",\n",
      "            \"--HistoryManager.hist_file=:memory:\"\n",
      "         ],\n",
      "         \"start_time_utc\": \"2021-02-23T12:33:52.209\"\n",
      "      },\n",
      "      \"input\": [],\n",
      "      \"output\": [],\n",
      "      \"config\": {\n",
      "         \"MyTool\": {\n",
      "            \"config_file\": null,\n",
      "            \"iterations\": 5,\n",
      "            \"log_config\": {\n",
      "               \"version\": 1,\n",
      "               \"disable_existing_loggers\": false,\n",
      "               \"formatters\": {\n",
      "                  \"file\": {\n",
      "                     \"()\": null,\n",
      "                     \"fmt\": \"%(asctime)s %(levelname)s [%(name)s] (%(module)s.%(funcName)s): %(message)s\"\n",
      "                  },\n",
      "                  \"console\": {\n",
      "                     \"()\": null,\n",
      "                     \"fmt\": \"%(asctime)s %(levelname)s [%(name)s] (%(module)s.%(funcName)s): %(message)s\"\n",
      "                  }\n",
      "               },\n",
      "               \"handlers\": {\n",
      "                  \"ctapipe-console\": {\n",
      "                     \"class\": \"logging.StreamHandler\",\n",
      "                     \"formatter\": \"console\",\n",
      "                     \"stream\": \"ext://sys.stderr\",\n",
      "                     \"level\": 10\n",
      "                  },\n",
      "                  \"console\": {\n",
      "                     \"class\": \"logging.StreamHandler\",\n",
      "                     \"formatter\": \"console\",\n",
      "                     \"stream\": \"ext://sys.stderr\",\n",
      "                     \"level\": \"NOTSET\"\n",
      "                  }\n",
      "               },\n",
      "               \"loggers\": {\n",
      "                  \"ctapipe\": {\n",
      "                     \"level\": 10,\n",
      "                     \"handlers\": [\n",
      "                        \"ctapipe-console\"\n",
      "                     ],\n",
      "                     \"propagate\": false\n",
      "                  }\n",
      "               }\n",
      "            },\n",
      "            \"log_datefmt\": \"%Y-%m-%d %H:%M:%S\",\n",
      "            \"log_file\": null,\n",
      "            \"log_file_level\": \"INFO\",\n",
      "            \"log_format\": \"[%(name)s]%(highlevel)s %(message)s\",\n",
      "            \"log_level\": 30,\n",
      "            \"provenance_log\": \"/github/workspace/docs/examples/mytool.provenance.log\",\n",
      "            \"quiet\": false,\n",
      "            \"show_config\": false,\n",
      "            \"show_config_json\": false,\n",
      "            \"MyComponent\": {\n",
      "               \"value\": -1\n",
      "            },\n",
      "            \"SecondaryMyComponent\": {\n",
      "               \"value\": -1\n",
      "            },\n",
      "            \"TelescopeWiseComponent\": {\n",
      "               \"param\": [\n",
      "                  [\n",
      "                     \"type\",\n",
      "                     \"*\",\n",
      "                     5.0\n",
      "                  ]\n",
      "               ]\n",
      "            },\n",
      "            \"AdvancedComponent\": {\n",
      "               \"infile\": \"/github/home/.cache/ctapipe/cccta-dataserver.in2p3.fr/data/ctapipe-extra/v0.3.3/gamma_test.simtel.gz\",\n",
      "               \"outfile\": null,\n",
      "               \"value1\": -1,\n",
      "               \"MyComponent\": {\n",
      "                  \"value\": -1\n",
      "               }\n",
      "            }\n",
      "         }\n",
      "      },\n",
      "      \"status\": \"completed\",\n",
      "      \"duration_min\": 0.0086166666667431\n",
      "   },\n",
      "   {\n",
      "      \"activity_name\": \"mytool\",\n",
      "      \"activity_uuid\": \"a80ef772-18dc-4179-9e0e-3f3bf71e4f53\",\n",
      "      \"start\": {\n",
      "         \"time_utc\": \"2021-02-23T12:33:52.743\"\n",
      "      },\n",
      "      \"stop\": {\n",
      "         \"time_utc\": \"2021-02-23T12:33:53.066\"\n",
      "      },\n",
      "      \"system\": {\n",
      "         \"ctapipe_version\": \"0.10.4.dev6+g833cd994\",\n",
      "         \"ctapipe_resources_version\": \"not installed\",\n",
      "         \"eventio_version\": \"1.5.1\",\n",
      "         \"ctapipe_svc_path\": null,\n",
      "         \"executable\": \"/usr/local/bin/python3\",\n",
      "         \"platform\": {\n",
      "            \"architecture_bits\": \"64bit\",\n",
      "            \"architecture_linkage\": \"\",\n",
      "            \"machine\": \"x86_64\",\n",
      "            \"processor\": \"\",\n",
      "            \"node\": \"87b2ba7cd546\",\n",
      "            \"version\": \"#41~18.04.1-Ubuntu SMP Mon Jan 18 14:00:01 UTC 2021\",\n",
      "            \"system\": \"Linux\",\n",
      "            \"release\": \"5.4.0-1039-azure\",\n",
      "            \"libcver\": [\n",
      "               \"glibc\",\n",
      "               \"2.28\"\n",
      "            ],\n",
      "            \"num_cpus\": 2,\n",
      "            \"boot_time\": \"2021-02-23T12:29:25.000\"\n",
      "         },\n",
      "         \"python\": {\n",
      "            \"version_string\": \"3.8.2 (default, Feb 26 2020, 15:09:34) \\n[GCC 8.3.0]\",\n",
      "            \"version\": [\n",
      "               \"3\",\n",
      "               \"8\",\n",
      "               \"2\"\n",
      "            ],\n",
      "            \"compiler\": \"GCC 8.3.0\",\n",
      "            \"implementation\": \"CPython\"\n",
      "         },\n",
      "         \"environment\": {\n",
      "            \"CONDA_DEFAULT_ENV\": null,\n",
      "            \"CONDA_PREFIX\": null,\n",
      "            \"CONDA_PYTHON_EXE\": null,\n",
      "            \"CONDA_EXE\": null,\n",
      "            \"CONDA_PROMPT_MODIFIER\": null,\n",
      "            \"CONDA_SHLVL\": null,\n",
      "            \"PATH\": \"/usr/local/bin:/usr/local/sbin:/usr/local/bin:/usr/sbin:/usr/bin:/sbin:/bin\",\n",
      "            \"LD_LIBRARY_PATH\": null,\n",
      "            \"DYLD_LIBRARY_PATH\": null,\n",
      "            \"USER\": null,\n",
      "            \"HOME\": \"/github/home\",\n",
      "            \"SHELL\": null\n",
      "         },\n",
      "         \"arguments\": [\n",
      "            \"/usr/local/lib/python3.8/site-packages/ipykernel_launcher.py\",\n",
      "            \"-f\",\n",
      "            \"/tmp/tmp0p5r20fe.json\",\n",
      "            \"--HistoryManager.hist_file=:memory:\"\n",
      "         ],\n",
      "         \"start_time_utc\": \"2021-02-23T12:33:52.752\"\n",
      "      },\n",
      "      \"input\": [],\n",
      "      \"output\": [],\n",
      "      \"config\": {\n",
      "         \"MyTool\": {\n",
      "            \"config_file\": null,\n",
      "            \"iterations\": 3,\n",
      "            \"log_config\": {\n",
      "               \"version\": 1,\n",
      "               \"disable_existing_loggers\": false,\n",
      "               \"formatters\": {\n",
      "                  \"file\": {\n",
      "                     \"()\": null,\n",
      "                     \"fmt\": \"%(asctime)s %(levelname)s [%(name)s] (%(module)s.%(funcName)s): %(message)s\"\n",
      "                  },\n",
      "                  \"console\": {\n",
      "                     \"()\": null,\n",
      "                     \"fmt\": \"%(asctime)s %(levelname)s [%(name)s] (%(module)s.%(funcName)s): %(message)s\"\n",
      "                  }\n",
      "               },\n",
      "               \"handlers\": {\n",
      "                  \"ctapipe-console\": {\n",
      "                     \"class\": \"logging.StreamHandler\",\n",
      "                     \"formatter\": \"console\",\n",
      "                     \"stream\": \"ext://sys.stderr\",\n",
      "                     \"level\": 10\n",
      "                  },\n",
      "                  \"console\": {\n",
      "                     \"class\": \"logging.StreamHandler\",\n",
      "                     \"formatter\": \"console\",\n",
      "                     \"stream\": \"ext://sys.stderr\",\n",
      "                     \"level\": \"NOTSET\"\n",
      "                  }\n",
      "               },\n",
      "               \"loggers\": {\n",
      "                  \"ctapipe\": {\n",
      "                     \"level\": 10,\n",
      "                     \"handlers\": [\n",
      "                        \"ctapipe-console\"\n",
      "                     ],\n",
      "                     \"propagate\": false\n",
      "                  }\n",
      "               }\n",
      "            },\n",
      "            \"log_datefmt\": \"%Y-%m-%d %H:%M:%S\",\n",
      "            \"log_file\": null,\n",
      "            \"log_file_level\": \"INFO\",\n",
      "            \"log_format\": \"%(asctime)s : %(levelname)s [%(name)s %(funcName)s] %(message)s\",\n",
      "            \"log_level\": 20,\n",
      "            \"provenance_log\": \"/github/workspace/docs/examples/mytool.provenance.log\",\n",
      "            \"quiet\": false,\n",
      "            \"show_config\": false,\n",
      "            \"show_config_json\": false,\n",
      "            \"MyComponent\": {\n",
      "               \"value\": -1\n",
      "            },\n",
      "            \"SecondaryMyComponent\": {\n",
      "               \"value\": -1\n",
      "            },\n",
      "            \"TelescopeWiseComponent\": {\n",
      "               \"param\": [\n",
      "                  [\n",
      "                     \"type\",\n",
      "                     \"*\",\n",
      "                     5.0\n",
      "                  ]\n",
      "               ]\n",
      "            },\n",
      "            \"AdvancedComponent\": {\n",
      "               \"infile\": \"/github/home/.cache/ctapipe/cccta-dataserver.in2p3.fr/data/ctapipe-extra/v0.3.3/gamma_test.simtel.gz\",\n",
      "               \"outfile\": null,\n",
      "               \"value1\": -1,\n",
      "               \"MyComponent\": {\n",
      "                  \"value\": -1\n",
      "               }\n",
      "            }\n",
      "         }\n",
      "      },\n",
      "      \"status\": \"completed\",\n",
      "      \"duration_min\": 0.0053833333331887445\n",
      "   },\n",
      "   {\n",
      "      \"activity_name\": \"mytool\",\n",
      "      \"activity_uuid\": \"ac0569f8-b2ae-4bea-b521-00d7a08d6132\",\n",
      "      \"start\": {\n",
      "         \"time_utc\": \"2021-02-23T12:33:53.094\"\n",
      "      },\n",
      "      \"stop\": {\n",
      "         \"time_utc\": \"2021-02-23T12:33:53.425\"\n",
      "      },\n",
      "      \"system\": {\n",
      "         \"ctapipe_version\": \"0.10.4.dev6+g833cd994\",\n",
      "         \"ctapipe_resources_version\": \"not installed\",\n",
      "         \"eventio_version\": \"1.5.1\",\n",
      "         \"ctapipe_svc_path\": null,\n",
      "         \"executable\": \"/usr/local/bin/python3\",\n",
      "         \"platform\": {\n",
      "            \"architecture_bits\": \"64bit\",\n",
      "            \"architecture_linkage\": \"\",\n",
      "            \"machine\": \"x86_64\",\n",
      "            \"processor\": \"\",\n",
      "            \"node\": \"87b2ba7cd546\",\n",
      "            \"version\": \"#41~18.04.1-Ubuntu SMP Mon Jan 18 14:00:01 UTC 2021\",\n",
      "            \"system\": \"Linux\",\n",
      "            \"release\": \"5.4.0-1039-azure\",\n",
      "            \"libcver\": [\n",
      "               \"glibc\",\n",
      "               \"2.28\"\n",
      "            ],\n",
      "            \"num_cpus\": 2,\n",
      "            \"boot_time\": \"2021-02-23T12:29:25.000\"\n",
      "         },\n",
      "         \"python\": {\n",
      "            \"version_string\": \"3.8.2 (default, Feb 26 2020, 15:09:34) \\n[GCC 8.3.0]\",\n",
      "            \"version\": [\n",
      "               \"3\",\n",
      "               \"8\",\n",
      "               \"2\"\n",
      "            ],\n",
      "            \"compiler\": \"GCC 8.3.0\",\n",
      "            \"implementation\": \"CPython\"\n",
      "         },\n",
      "         \"environment\": {\n",
      "            \"CONDA_DEFAULT_ENV\": null,\n",
      "            \"CONDA_PREFIX\": null,\n",
      "            \"CONDA_PYTHON_EXE\": null,\n",
      "            \"CONDA_EXE\": null,\n",
      "            \"CONDA_PROMPT_MODIFIER\": null,\n",
      "            \"CONDA_SHLVL\": null,\n",
      "            \"PATH\": \"/usr/local/bin:/usr/local/sbin:/usr/local/bin:/usr/sbin:/usr/bin:/sbin:/bin\",\n",
      "            \"LD_LIBRARY_PATH\": null,\n",
      "            \"DYLD_LIBRARY_PATH\": null,\n",
      "            \"USER\": null,\n",
      "            \"HOME\": \"/github/home\",\n",
      "            \"SHELL\": null\n",
      "         },\n",
      "         \"arguments\": [\n",
      "            \"/usr/local/lib/python3.8/site-packages/ipykernel_launcher.py\",\n",
      "            \"-f\",\n",
      "            \"/tmp/tmp0p5r20fe.json\",\n",
      "            \"--HistoryManager.hist_file=:memory:\"\n",
      "         ],\n",
      "         \"start_time_utc\": \"2021-02-23T12:33:53.101\"\n",
      "      },\n",
      "      \"input\": [],\n",
      "      \"output\": [],\n",
      "      \"config\": {\n",
      "         \"MyTool\": {\n",
      "            \"config_file\": null,\n",
      "            \"iterations\": 3,\n",
      "            \"log_config\": {\n",
      "               \"version\": 1,\n",
      "               \"disable_existing_loggers\": false,\n",
      "               \"formatters\": {\n",
      "                  \"file\": {\n",
      "                     \"()\": null,\n",
      "                     \"fmt\": \"%(asctime)s %(levelname)s [%(name)s] (%(module)s.%(funcName)s): %(message)s\"\n",
      "                  },\n",
      "                  \"console\": {\n",
      "                     \"()\": null,\n",
      "                     \"fmt\": \"%(asctime)s %(levelname)s [%(name)s] (%(module)s.%(funcName)s): %(message)s\"\n",
      "                  }\n",
      "               },\n",
      "               \"handlers\": {\n",
      "                  \"ctapipe-console\": {\n",
      "                     \"class\": \"logging.StreamHandler\",\n",
      "                     \"formatter\": \"console\",\n",
      "                     \"stream\": \"ext://sys.stderr\",\n",
      "                     \"level\": 10\n",
      "                  },\n",
      "                  \"console\": {\n",
      "                     \"class\": \"logging.StreamHandler\",\n",
      "                     \"formatter\": \"console\",\n",
      "                     \"stream\": \"ext://sys.stderr\",\n",
      "                     \"level\": \"NOTSET\"\n",
      "                  }\n",
      "               },\n",
      "               \"loggers\": {\n",
      "                  \"ctapipe\": {\n",
      "                     \"level\": 10,\n",
      "                     \"handlers\": [\n",
      "                        \"ctapipe-console\"\n",
      "                     ],\n",
      "                     \"propagate\": false\n",
      "                  }\n",
      "               }\n",
      "            },\n",
      "            \"log_datefmt\": \"%Y-%m-%d %H:%M:%S\",\n",
      "            \"log_file\": null,\n",
      "            \"log_file_level\": \"INFO\",\n",
      "            \"log_format\": \"%(asctime)s : %(levelname)s [%(name)s %(funcName)s] %(message)s\",\n",
      "            \"log_level\": 10,\n",
      "            \"provenance_log\": \"/github/workspace/docs/examples/mytool.provenance.log\",\n",
      "            \"quiet\": false,\n",
      "            \"show_config\": false,\n",
      "            \"show_config_json\": false,\n",
      "            \"MyComponent\": {\n",
      "               \"value\": -1\n",
      "            },\n",
      "            \"SecondaryMyComponent\": {\n",
      "               \"value\": -1\n",
      "            },\n",
      "            \"TelescopeWiseComponent\": {\n",
      "               \"param\": [\n",
      "                  [\n",
      "                     \"type\",\n",
      "                     \"*\",\n",
      "                     5.0\n",
      "                  ]\n",
      "               ]\n",
      "            },\n",
      "            \"AdvancedComponent\": {\n",
      "               \"infile\": \"/github/home/.cache/ctapipe/cccta-dataserver.in2p3.fr/data/ctapipe-extra/v0.3.3/gamma_test.simtel.gz\",\n",
      "               \"outfile\": null,\n",
      "               \"value1\": -1,\n",
      "               \"MyComponent\": {\n",
      "                  \"value\": -1\n",
      "               }\n",
      "            }\n",
      "         }\n",
      "      },\n",
      "      \"status\": \"completed\",\n",
      "      \"duration_min\": 0.005516666666842696\n",
      "   },\n",
      "   {\n",
      "      \"activity_name\": \"mytool\",\n",
      "      \"activity_uuid\": \"275bda36-b84a-454d-a991-9fd7372ff057\",\n",
      "      \"start\": {\n",
      "         \"time_utc\": \"2021-02-23T12:33:53.460\"\n",
      "      },\n",
      "      \"stop\": {\n",
      "         \"time_utc\": \"2021-02-23T12:33:53.792\"\n",
      "      },\n",
      "      \"system\": {\n",
      "         \"ctapipe_version\": \"0.10.4.dev6+g833cd994\",\n",
      "         \"ctapipe_resources_version\": \"not installed\",\n",
      "         \"eventio_version\": \"1.5.1\",\n",
      "         \"ctapipe_svc_path\": null,\n",
      "         \"executable\": \"/usr/local/bin/python3\",\n",
      "         \"platform\": {\n",
      "            \"architecture_bits\": \"64bit\",\n",
      "            \"architecture_linkage\": \"\",\n",
      "            \"machine\": \"x86_64\",\n",
      "            \"processor\": \"\",\n",
      "            \"node\": \"87b2ba7cd546\",\n",
      "            \"version\": \"#41~18.04.1-Ubuntu SMP Mon Jan 18 14:00:01 UTC 2021\",\n",
      "            \"system\": \"Linux\",\n",
      "            \"release\": \"5.4.0-1039-azure\",\n",
      "            \"libcver\": [\n",
      "               \"glibc\",\n",
      "               \"2.28\"\n",
      "            ],\n",
      "            \"num_cpus\": 2,\n",
      "            \"boot_time\": \"2021-02-23T12:29:25.000\"\n",
      "         },\n",
      "         \"python\": {\n",
      "            \"version_string\": \"3.8.2 (default, Feb 26 2020, 15:09:34) \\n[GCC 8.3.0]\",\n",
      "            \"version\": [\n",
      "               \"3\",\n",
      "               \"8\",\n",
      "               \"2\"\n",
      "            ],\n",
      "            \"compiler\": \"GCC 8.3.0\",\n",
      "            \"implementation\": \"CPython\"\n",
      "         },\n",
      "         \"environment\": {\n",
      "            \"CONDA_DEFAULT_ENV\": null,\n",
      "            \"CONDA_PREFIX\": null,\n",
      "            \"CONDA_PYTHON_EXE\": null,\n",
      "            \"CONDA_EXE\": null,\n",
      "            \"CONDA_PROMPT_MODIFIER\": null,\n",
      "            \"CONDA_SHLVL\": null,\n",
      "            \"PATH\": \"/usr/local/bin:/usr/local/sbin:/usr/local/bin:/usr/sbin:/usr/bin:/sbin:/bin\",\n",
      "            \"LD_LIBRARY_PATH\": null,\n",
      "            \"DYLD_LIBRARY_PATH\": null,\n",
      "            \"USER\": null,\n",
      "            \"HOME\": \"/github/home\",\n",
      "            \"SHELL\": null\n",
      "         },\n",
      "         \"arguments\": [\n",
      "            \"/usr/local/lib/python3.8/site-packages/ipykernel_launcher.py\",\n",
      "            \"-f\",\n",
      "            \"/tmp/tmp0p5r20fe.json\",\n",
      "            \"--HistoryManager.hist_file=:memory:\"\n",
      "         ],\n",
      "         \"start_time_utc\": \"2021-02-23T12:33:53.467\"\n",
      "      },\n",
      "      \"input\": [],\n",
      "      \"output\": [],\n",
      "      \"config\": {\n",
      "         \"MyTool\": {\n",
      "            \"config_file\": null,\n",
      "            \"iterations\": 3,\n",
      "            \"log_config\": {\n",
      "               \"version\": 1,\n",
      "               \"disable_existing_loggers\": false,\n",
      "               \"formatters\": {\n",
      "                  \"file\": {\n",
      "                     \"()\": null,\n",
      "                     \"fmt\": \"%(asctime)s %(levelname)s [%(name)s] (%(module)s.%(funcName)s): %(message)s\"\n",
      "                  },\n",
      "                  \"console\": {\n",
      "                     \"()\": null,\n",
      "                     \"fmt\": \"%(asctime)s %(levelname)s [%(name)s] (%(module)s.%(funcName)s): %(message)s\"\n",
      "                  }\n",
      "               },\n",
      "               \"handlers\": {\n",
      "                  \"ctapipe-console\": {\n",
      "                     \"class\": \"logging.StreamHandler\",\n",
      "                     \"formatter\": \"console\",\n",
      "                     \"stream\": \"ext://sys.stderr\",\n",
      "                     \"level\": 10\n",
      "                  },\n",
      "                  \"console\": {\n",
      "                     \"class\": \"logging.StreamHandler\",\n",
      "                     \"formatter\": \"console\",\n",
      "                     \"stream\": \"ext://sys.stderr\",\n",
      "                     \"level\": \"NOTSET\"\n",
      "                  }\n",
      "               },\n",
      "               \"loggers\": {\n",
      "                  \"ctapipe\": {\n",
      "                     \"level\": 10,\n",
      "                     \"handlers\": [\n",
      "                        \"ctapipe-console\"\n",
      "                     ],\n",
      "                     \"propagate\": false\n",
      "                  }\n",
      "               }\n",
      "            },\n",
      "            \"log_datefmt\": \"%Y-%m-%d %H:%M:%S\",\n",
      "            \"log_file\": null,\n",
      "            \"log_file_level\": \"INFO\",\n",
      "            \"log_format\": \"%(asctime)s : %(levelname)s [%(name)s %(funcName)s] %(message)s\",\n",
      "            \"log_level\": 10,\n",
      "            \"provenance_log\": \"/github/workspace/docs/examples/mytool.provenance.log\",\n",
      "            \"quiet\": false,\n",
      "            \"show_config\": false,\n",
      "            \"show_config_json\": false,\n",
      "            \"MyComponent\": {\n",
      "               \"value\": -1\n",
      "            },\n",
      "            \"SecondaryMyComponent\": {\n",
      "               \"value\": -1\n",
      "            },\n",
      "            \"TelescopeWiseComponent\": {\n",
      "               \"param\": [\n",
      "                  [\n",
      "                     \"type\",\n",
      "                     \"*\",\n",
      "                     5.0\n",
      "                  ]\n",
      "               ]\n",
      "            },\n",
      "            \"AdvancedComponent\": {\n",
      "               \"infile\": \"/github/home/.cache/ctapipe/cccta-dataserver.in2p3.fr/data/ctapipe-extra/v0.3.3/gamma_test.simtel.gz\",\n",
      "               \"outfile\": null,\n",
      "               \"value1\": -1,\n",
      "               \"MyComponent\": {\n",
      "                  \"value\": -1\n",
      "               }\n",
      "            }\n",
      "         }\n",
      "      },\n",
      "      \"status\": \"completed\",\n",
      "      \"duration_min\": 0.005533333333289647\n",
      "   },\n",
      "   {\n",
      "      \"activity_name\": \"mytool\",\n",
      "      \"activity_uuid\": \"0b7e8cda-912a-4fe5-aca0-ebc0bcb3d87a\",\n",
      "      \"start\": {\n",
      "         \"time_utc\": \"2021-02-23T12:33:53.843\"\n",
      "      },\n",
      "      \"stop\": {\n",
      "         \"time_utc\": \"2021-02-23T12:33:54.381\"\n",
      "      },\n",
      "      \"system\": {\n",
      "         \"ctapipe_version\": \"0.10.4.dev6+g833cd994\",\n",
      "         \"ctapipe_resources_version\": \"not installed\",\n",
      "         \"eventio_version\": \"1.5.1\",\n",
      "         \"ctapipe_svc_path\": null,\n",
      "         \"executable\": \"/usr/local/bin/python3\",\n",
      "         \"platform\": {\n",
      "            \"architecture_bits\": \"64bit\",\n",
      "            \"architecture_linkage\": \"\",\n",
      "            \"machine\": \"x86_64\",\n",
      "            \"processor\": \"\",\n",
      "            \"node\": \"87b2ba7cd546\",\n",
      "            \"version\": \"#41~18.04.1-Ubuntu SMP Mon Jan 18 14:00:01 UTC 2021\",\n",
      "            \"system\": \"Linux\",\n",
      "            \"release\": \"5.4.0-1039-azure\",\n",
      "            \"libcver\": [\n",
      "               \"glibc\",\n",
      "               \"2.28\"\n",
      "            ],\n",
      "            \"num_cpus\": 2,\n",
      "            \"boot_time\": \"2021-02-23T12:29:25.000\"\n",
      "         },\n",
      "         \"python\": {\n",
      "            \"version_string\": \"3.8.2 (default, Feb 26 2020, 15:09:34) \\n[GCC 8.3.0]\",\n",
      "            \"version\": [\n",
      "               \"3\",\n",
      "               \"8\",\n",
      "               \"2\"\n",
      "            ],\n",
      "            \"compiler\": \"GCC 8.3.0\",\n",
      "            \"implementation\": \"CPython\"\n",
      "         },\n",
      "         \"environment\": {\n",
      "            \"CONDA_DEFAULT_ENV\": null,\n",
      "            \"CONDA_PREFIX\": null,\n",
      "            \"CONDA_PYTHON_EXE\": null,\n",
      "            \"CONDA_EXE\": null,\n",
      "            \"CONDA_PROMPT_MODIFIER\": null,\n",
      "            \"CONDA_SHLVL\": null,\n",
      "            \"PATH\": \"/usr/local/bin:/usr/local/sbin:/usr/local/bin:/usr/sbin:/usr/bin:/sbin:/bin\",\n",
      "            \"LD_LIBRARY_PATH\": null,\n",
      "            \"DYLD_LIBRARY_PATH\": null,\n",
      "            \"USER\": null,\n",
      "            \"HOME\": \"/github/home\",\n",
      "            \"SHELL\": null\n",
      "         },\n",
      "         \"arguments\": [\n",
      "            \"/usr/local/lib/python3.8/site-packages/ipykernel_launcher.py\",\n",
      "            \"-f\",\n",
      "            \"/tmp/tmp0p5r20fe.json\",\n",
      "            \"--HistoryManager.hist_file=:memory:\"\n",
      "         ],\n",
      "         \"start_time_utc\": \"2021-02-23T12:33:53.851\"\n",
      "      },\n",
      "      \"input\": [],\n",
      "      \"output\": [],\n",
      "      \"config\": {\n",
      "         \"MyTool\": {\n",
      "            \"config_file\": \"/github/workspace/docs/examples/Tools.json\",\n",
      "            \"iterations\": 5,\n",
      "            \"log_config\": {\n",
      "               \"version\": 1,\n",
      "               \"disable_existing_loggers\": false,\n",
      "               \"formatters\": {\n",
      "                  \"file\": {\n",
      "                     \"()\": null,\n",
      "                     \"fmt\": \"%(asctime)s %(levelname)s [%(name)s] (%(module)s.%(funcName)s): %(message)s\"\n",
      "                  },\n",
      "                  \"console\": {\n",
      "                     \"()\": null,\n",
      "                     \"fmt\": \"%(asctime)s %(levelname)s [%(name)s] (%(module)s.%(funcName)s): %(message)s\"\n",
      "                  }\n",
      "               },\n",
      "               \"handlers\": {\n",
      "                  \"ctapipe-console\": {\n",
      "                     \"class\": \"logging.StreamHandler\",\n",
      "                     \"formatter\": \"console\",\n",
      "                     \"stream\": \"ext://sys.stderr\",\n",
      "                     \"level\": 10\n",
      "                  },\n",
      "                  \"console\": {\n",
      "                     \"class\": \"logging.StreamHandler\",\n",
      "                     \"formatter\": \"console\",\n",
      "                     \"stream\": \"ext://sys.stderr\",\n",
      "                     \"level\": \"NOTSET\"\n",
      "                  }\n",
      "               },\n",
      "               \"loggers\": {\n",
      "                  \"ctapipe\": {\n",
      "                     \"level\": 10,\n",
      "                     \"handlers\": [\n",
      "                        \"ctapipe-console\"\n",
      "                     ],\n",
      "                     \"propagate\": false\n",
      "                  }\n",
      "               }\n",
      "            },\n",
      "            \"log_datefmt\": \"%Y-%m-%d %H:%M:%S\",\n",
      "            \"log_file\": null,\n",
      "            \"log_file_level\": \"INFO\",\n",
      "            \"log_format\": \"[%(name)s]%(highlevel)s %(message)s\",\n",
      "            \"log_level\": 10,\n",
      "            \"provenance_log\": \"/github/workspace/docs/examples/mytool.provenance.log\",\n",
      "            \"quiet\": false,\n",
      "            \"show_config\": false,\n",
      "            \"show_config_json\": false,\n",
      "            \"MyComponent\": {\n",
      "               \"value\": -1\n",
      "            },\n",
      "            \"SecondaryMyComponent\": {\n",
      "               \"value\": -1\n",
      "            },\n",
      "            \"TelescopeWiseComponent\": {\n",
      "               \"param\": [\n",
      "                  [\n",
      "                     \"type\",\n",
      "                     \"*\",\n",
      "                     5.0\n",
      "                  ]\n",
      "               ]\n",
      "            },\n",
      "            \"AdvancedComponent\": {\n",
      "               \"infile\": \"/github/workspace/docs/examples/something.txt\",\n",
      "               \"outfile\": null,\n",
      "               \"value1\": -1,\n",
      "               \"MyComponent\": {\n",
      "                  \"value\": -1\n",
      "               }\n",
      "            }\n",
      "         }\n",
      "      },\n",
      "      \"status\": \"completed\",\n",
      "      \"duration_min\": 0.008966666666765377\n",
      "   }\n",
      "]'\n"
     ]
    },
    {
     "name": "stderr",
     "output_type": "stream",
     "text": [
      "2021-02-23 12:33:54,395 \u001b[1;34mDEBUG\u001b[0m [ctapipe.mytool] (application.exit): Exiting application: mytool\n"
     ]
    }
   ],
   "source": [
    "try:\n",
    "    tool2.run(argv=['--config', 'Tools.json'])\n",
    "except SystemExit as e:\n",
    "    assert e.code == 0, f'Tool returned with error status {e}'"
   ]
  },
  {
   "cell_type": "code",
   "execution_count": 20,
   "metadata": {
    "execution": {
     "iopub.execute_input": "2021-02-23T12:33:54.406254Z",
     "iopub.status.busy": "2021-02-23T12:33:54.405710Z",
     "iopub.status.idle": "2021-02-23T12:33:54.409327Z",
     "shell.execute_reply": "2021-02-23T12:33:54.409769Z"
    }
   },
   "outputs": [
    {
     "name": "stdout",
     "output_type": "stream",
     "text": [
      "/github/workspace/docs/examples/something.txt\n"
     ]
    }
   ],
   "source": [
    "print(tool2.advanced.infile)"
   ]
  },
  {
   "cell_type": "code",
   "execution_count": 21,
   "metadata": {
    "execution": {
     "iopub.execute_input": "2021-02-23T12:33:54.414636Z",
     "iopub.status.busy": "2021-02-23T12:33:54.413404Z",
     "iopub.status.idle": "2021-02-23T12:33:54.417213Z",
     "shell.execute_reply": "2021-02-23T12:33:54.416714Z"
    }
   },
   "outputs": [
    {
     "name": "stdout",
     "output_type": "stream",
     "text": [
      "{'MyTool': {'config_file': 'Tools.json', 'log_level': 'DEBUG'}, 'AdvancedComponent': {'infile': 'something.txt'}, 'attach_subarray': <LazyConfigValue {}>}\n"
     ]
    }
   ],
   "source": [
    "print(tool2.config)"
   ]
  },
  {
   "cell_type": "code",
   "execution_count": 22,
   "metadata": {
    "execution": {
     "iopub.execute_input": "2021-02-23T12:33:54.422145Z",
     "iopub.status.busy": "2021-02-23T12:33:54.421565Z",
     "iopub.status.idle": "2021-02-23T12:33:54.424178Z",
     "shell.execute_reply": "2021-02-23T12:33:54.424630Z"
    }
   },
   "outputs": [
    {
     "data": {
      "text/plain": [
       "True"
      ]
     },
     "execution_count": 1,
     "metadata": {},
     "output_type": "execute_result"
    }
   ],
   "source": [
    "tool2.is_setup"
   ]
  },
  {
   "cell_type": "code",
   "execution_count": 23,
   "metadata": {
    "execution": {
     "iopub.execute_input": "2021-02-23T12:33:54.429612Z",
     "iopub.status.busy": "2021-02-23T12:33:54.428601Z",
     "iopub.status.idle": "2021-02-23T12:33:54.431943Z",
     "shell.execute_reply": "2021-02-23T12:33:54.431453Z"
    }
   },
   "outputs": [],
   "source": [
    "tool3 = MyTool()"
   ]
  },
  {
   "cell_type": "code",
   "execution_count": 24,
   "metadata": {
    "execution": {
     "iopub.execute_input": "2021-02-23T12:33:54.436398Z",
     "iopub.status.busy": "2021-02-23T12:33:54.435631Z",
     "iopub.status.idle": "2021-02-23T12:33:54.438254Z",
     "shell.execute_reply": "2021-02-23T12:33:54.438695Z"
    }
   },
   "outputs": [
    {
     "data": {
      "text/plain": [
       "False"
      ]
     },
     "execution_count": 1,
     "metadata": {},
     "output_type": "execute_result"
    }
   ],
   "source": [
    "tool3.is_setup"
   ]
  },
  {
   "cell_type": "code",
   "execution_count": 25,
   "metadata": {
    "execution": {
     "iopub.execute_input": "2021-02-23T12:33:54.447130Z",
     "iopub.status.busy": "2021-02-23T12:33:54.446083Z",
     "iopub.status.idle": "2021-02-23T12:33:54.450517Z",
     "shell.execute_reply": "2021-02-23T12:33:54.449920Z"
    }
   },
   "outputs": [],
   "source": [
    "tool3.initialize(argv=[])"
   ]
  },
  {
   "cell_type": "code",
   "execution_count": 26,
   "metadata": {
    "execution": {
     "iopub.execute_input": "2021-02-23T12:33:54.454972Z",
     "iopub.status.busy": "2021-02-23T12:33:54.454428Z",
     "iopub.status.idle": "2021-02-23T12:33:54.457028Z",
     "shell.execute_reply": "2021-02-23T12:33:54.457466Z"
    }
   },
   "outputs": [
    {
     "data": {
      "text/plain": [
       "False"
      ]
     },
     "execution_count": 1,
     "metadata": {},
     "output_type": "execute_result"
    }
   ],
   "source": [
    "tool3.is_setup"
   ]
  },
  {
   "cell_type": "code",
   "execution_count": 27,
   "metadata": {
    "execution": {
     "iopub.execute_input": "2021-02-23T12:33:54.463090Z",
     "iopub.status.busy": "2021-02-23T12:33:54.462099Z",
     "iopub.status.idle": "2021-02-23T12:33:54.464834Z",
     "shell.execute_reply": "2021-02-23T12:33:54.465271Z"
    }
   },
   "outputs": [
    {
     "data": {
      "text/html": [
       "<b>MyTool</b>\n",
       "<p> do some things and stuff </p>\n",
       "<table>\n",
       "<tr><th>config_file</th>\n",
       "<td>None</td>\n",
       "<td style=\"text-align:left\"><i>name of a configuration file with parameters to load in addition to command-line parameters (default: None)</i></td></tr>\n",
       "<tr><th>iterations</th>\n",
       "<td>5</td>\n",
       "<td style=\"text-align:left\"><i>Number of times to run (default: 5)</i></td></tr>\n",
       "<tr><th>log_config</th>\n",
       "<td><span style='color:blue'>{'version': 1, 'disable_existing_loggers': False, 'formatters': {'file': {'()': <class 'ctapipe.core.logging.PlainFormatter'>, 'fmt': '%(asctime)s %(levelname)s [%(name)s] (%(module)s.%(funcName)s): %(message)s'}, 'console': {'()': <class 'ctapipe.core.logging.ColoredFormatter'>, 'fmt': '%(asctime)s %(levelname)s [%(name)s] (%(module)s.%(funcName)s): %(message)s'}}, 'handlers': {'ctapipe-console': {'class': 'logging.StreamHandler', 'formatter': 'console', 'stream': 'ext://sys.stderr', 'level': 30}, 'console': {'class': 'logging.StreamHandler', 'formatter': 'console', 'stream': 'ext://sys.stderr', 'level': 'NOTSET'}}, 'loggers': {'ctapipe': {'level': 30, 'handlers': ['ctapipe-console'], 'propagate': False}}}</span></td>\n",
       "<td style=\"text-align:left\"><i> (default: traitlets.Undefined)</i></td></tr>\n",
       "<tr><th>log_datefmt</th>\n",
       "<td>%Y-%m-%d %H:%M:%S</td>\n",
       "<td style=\"text-align:left\"><i>The date format used by logging formatters for %(asctime)s (default: %Y-%m-%d %H:%M:%S)</i></td></tr>\n",
       "<tr><th>log_file</th>\n",
       "<td>None</td>\n",
       "<td style=\"text-align:left\"><i>Filename for the log (default: None)</i></td></tr>\n",
       "<tr><th>log_file_level</th>\n",
       "<td>INFO</td>\n",
       "<td style=\"text-align:left\"><i>Logging Level for File Logging (default: INFO)</i></td></tr>\n",
       "<tr><th>log_format</th>\n",
       "<td>[%(name)s]%(highlevel)s %(message)s</td>\n",
       "<td style=\"text-align:left\"><i>The Logging format template (default: [%(name)s]%(highlevel)s %(message)s)</i></td></tr>\n",
       "<tr><th>log_level</th>\n",
       "<td>30</td>\n",
       "<td style=\"text-align:left\"><i>Set the log level by value or name. (default: 30)</i></td></tr>\n",
       "<tr><th>provenance_log</th>\n",
       "<td><span style='color:blue'>/github/workspace/docs/examples/mytool.provenance.log</span></td>\n",
       "<td style=\"text-align:left\"><i> (default: None)</i></td></tr>\n",
       "<tr><th>quiet</th>\n",
       "<td>False</td>\n",
       "<td style=\"text-align:left\"><i> (default: False)</i></td></tr>\n",
       "<tr><th>show_config</th>\n",
       "<td>False</td>\n",
       "<td style=\"text-align:left\"><i>Instead of starting the Application, dump configuration to stdout (default: False)</i></td></tr>\n",
       "<tr><th>show_config_json</th>\n",
       "<td>False</td>\n",
       "<td style=\"text-align:left\"><i>Instead of starting the Application, dump configuration to stdout (as JSON) (default: False)</i></td></tr>\n",
       "</table>\n",
       "<p><i>Components:</i>\n",
       "MyTool, MyComponent, AdvancedComponent, SecondaryMyComponent, TelescopeWiseComponent\n",
       "</p>"
      ],
      "text/plain": [
       "<__main__.MyTool at 0x7f1080a7c280>"
      ]
     },
     "execution_count": 1,
     "metadata": {},
     "output_type": "execute_result"
    }
   ],
   "source": [
    "tool3"
   ]
  },
  {
   "cell_type": "code",
   "execution_count": 28,
   "metadata": {
    "execution": {
     "iopub.execute_input": "2021-02-23T12:33:54.472143Z",
     "iopub.status.busy": "2021-02-23T12:33:54.471006Z",
     "iopub.status.idle": "2021-02-23T12:33:54.478391Z",
     "shell.execute_reply": "2021-02-23T12:33:54.478853Z"
    }
   },
   "outputs": [
    {
     "ename": "KeyError",
     "evalue": "'MyComponent'",
     "output_type": "error",
     "traceback": [
      "\u001b[0;31m---------------------------------------------------------------------------\u001b[0m",
      "\u001b[0;31mKeyError\u001b[0m                                  Traceback (most recent call last)",
      "\u001b[0;32m/usr/local/lib/python3.8/site-packages/IPython/core/formatters.py\u001b[0m in \u001b[0;36m__call__\u001b[0;34m(self, obj)\u001b[0m\n\u001b[1;32m    343\u001b[0m             \u001b[0mmethod\u001b[0m \u001b[0;34m=\u001b[0m \u001b[0mget_real_method\u001b[0m\u001b[0;34m(\u001b[0m\u001b[0mobj\u001b[0m\u001b[0;34m,\u001b[0m \u001b[0mself\u001b[0m\u001b[0;34m.\u001b[0m\u001b[0mprint_method\u001b[0m\u001b[0;34m)\u001b[0m\u001b[0;34m\u001b[0m\u001b[0;34m\u001b[0m\u001b[0m\n\u001b[1;32m    344\u001b[0m             \u001b[0;32mif\u001b[0m \u001b[0mmethod\u001b[0m \u001b[0;32mis\u001b[0m \u001b[0;32mnot\u001b[0m \u001b[0;32mNone\u001b[0m\u001b[0;34m:\u001b[0m\u001b[0;34m\u001b[0m\u001b[0;34m\u001b[0m\u001b[0m\n\u001b[0;32m--> 345\u001b[0;31m                 \u001b[0;32mreturn\u001b[0m \u001b[0mmethod\u001b[0m\u001b[0;34m(\u001b[0m\u001b[0;34m)\u001b[0m\u001b[0;34m\u001b[0m\u001b[0;34m\u001b[0m\u001b[0m\n\u001b[0m\u001b[1;32m    346\u001b[0m             \u001b[0;32mreturn\u001b[0m \u001b[0;32mNone\u001b[0m\u001b[0;34m\u001b[0m\u001b[0;34m\u001b[0m\u001b[0m\n\u001b[1;32m    347\u001b[0m         \u001b[0;32melse\u001b[0m\u001b[0;34m:\u001b[0m\u001b[0;34m\u001b[0m\u001b[0;34m\u001b[0m\u001b[0m\n",
      "\u001b[0;32m/github/workspace/ctapipe/core/tool.py\u001b[0m in \u001b[0;36m_repr_html_\u001b[0;34m(self)\u001b[0m\n\u001b[1;32m    320\u001b[0m         ]\n\u001b[1;32m    321\u001b[0m         \u001b[0;32mfor\u001b[0m \u001b[0mkey\u001b[0m\u001b[0;34m,\u001b[0m \u001b[0mval\u001b[0m \u001b[0;32min\u001b[0m \u001b[0mself\u001b[0m\u001b[0;34m.\u001b[0m\u001b[0mget_current_config\u001b[0m\u001b[0;34m(\u001b[0m\u001b[0;34m)\u001b[0m\u001b[0;34m[\u001b[0m\u001b[0mname\u001b[0m\u001b[0;34m]\u001b[0m\u001b[0;34m.\u001b[0m\u001b[0mitems\u001b[0m\u001b[0;34m(\u001b[0m\u001b[0;34m)\u001b[0m\u001b[0;34m:\u001b[0m\u001b[0;34m\u001b[0m\u001b[0;34m\u001b[0m\u001b[0m\n\u001b[0;32m--> 322\u001b[0;31m             \u001b[0mdefault\u001b[0m \u001b[0;34m=\u001b[0m \u001b[0mtraits\u001b[0m\u001b[0;34m[\u001b[0m\u001b[0mkey\u001b[0m\u001b[0;34m]\u001b[0m\u001b[0;34m.\u001b[0m\u001b[0mdefault_value\u001b[0m\u001b[0;34m\u001b[0m\u001b[0;34m\u001b[0m\u001b[0m\n\u001b[0m\u001b[1;32m    323\u001b[0m             \u001b[0mthehelp\u001b[0m \u001b[0;34m=\u001b[0m \u001b[0;34mf\"{traits[key].help} (default: {default})\"\u001b[0m\u001b[0;34m\u001b[0m\u001b[0;34m\u001b[0m\u001b[0m\n\u001b[1;32m    324\u001b[0m             \u001b[0mlines\u001b[0m\u001b[0;34m.\u001b[0m\u001b[0mappend\u001b[0m\u001b[0;34m(\u001b[0m\u001b[0;34mf\"<tr><th>{key}</th>\"\u001b[0m\u001b[0;34m)\u001b[0m\u001b[0;34m\u001b[0m\u001b[0;34m\u001b[0m\u001b[0m\n",
      "\u001b[0;31mKeyError\u001b[0m: 'MyComponent'"
     ]
    },
    {
     "data": {
      "text/plain": [
       "<__main__.MyTool at 0x7f108ca4f6a0>"
      ]
     },
     "execution_count": 1,
     "metadata": {},
     "output_type": "execute_result"
    }
   ],
   "source": [
    "tool"
   ]
  },
  {
   "cell_type": "code",
   "execution_count": 29,
   "metadata": {
    "execution": {
     "iopub.execute_input": "2021-02-23T12:33:54.484649Z",
     "iopub.status.busy": "2021-02-23T12:33:54.483005Z",
     "iopub.status.idle": "2021-02-23T12:33:54.486845Z",
     "shell.execute_reply": "2021-02-23T12:33:54.486375Z"
    }
   },
   "outputs": [
    {
     "data": {
      "text/html": [
       "<b>SecondaryMyComponent</b>\n",
       "<p> Undocumented! </p>\n",
       "<table>\n",
       "<tr><th>value</th>\n",
       "<td>-1</td>\n",
       "<td style=\"text-align:left\"><i>Value to use (default: -1)</i></td></tr>\n",
       "</table>"
      ],
      "text/plain": [
       "<__main__.SecondaryMyComponent at 0x7f1080a7cfa0>"
      ]
     },
     "execution_count": 1,
     "metadata": {},
     "output_type": "execute_result"
    }
   ],
   "source": [
    "tool.comp2"
   ]
  },
  {
   "cell_type": "markdown",
   "metadata": {},
   "source": [
    "## Getting the configuration of an instance"
   ]
  },
  {
   "cell_type": "code",
   "execution_count": 30,
   "metadata": {
    "execution": {
     "iopub.execute_input": "2021-02-23T12:33:54.493510Z",
     "iopub.status.busy": "2021-02-23T12:33:54.492756Z",
     "iopub.status.idle": "2021-02-23T12:33:54.496622Z",
     "shell.execute_reply": "2021-02-23T12:33:54.496149Z"
    }
   },
   "outputs": [
    {
     "data": {
      "text/plain": [
       "{'MyTool': {'config_file': None,\n",
       "  'iterations': 3,\n",
       "  'log_config': {'version': 1,\n",
       "   'disable_existing_loggers': False,\n",
       "   'formatters': {'file': {'()': ctapipe.core.logging.PlainFormatter,\n",
       "     'fmt': '%(asctime)s %(levelname)s [%(name)s] (%(module)s.%(funcName)s): %(message)s'},\n",
       "    'console': {'()': ctapipe.core.logging.ColoredFormatter,\n",
       "     'fmt': '%(asctime)s %(levelname)s [%(name)s] (%(module)s.%(funcName)s): %(message)s'}},\n",
       "   'handlers': {'ctapipe-console': {'class': 'logging.StreamHandler',\n",
       "     'formatter': 'console',\n",
       "     'stream': 'ext://sys.stderr',\n",
       "     'level': 30},\n",
       "    'console': {'class': 'logging.StreamHandler',\n",
       "     'formatter': 'console',\n",
       "     'stream': 'ext://sys.stderr',\n",
       "     'level': 'NOTSET'}},\n",
       "   'loggers': {'ctapipe': {'level': 30,\n",
       "     'handlers': ['ctapipe-console'],\n",
       "     'propagate': False}}},\n",
       "  'log_datefmt': '%Y-%m-%d %H:%M:%S',\n",
       "  'log_file': None,\n",
       "  'log_file_level': 'INFO',\n",
       "  'log_format': '%(asctime)s : %(levelname)s [%(name)s %(funcName)s] %(message)s',\n",
       "  'log_level': 10,\n",
       "  'provenance_log': PosixPath('/github/workspace/docs/examples/mytool.provenance.log'),\n",
       "  'quiet': False,\n",
       "  'show_config': False,\n",
       "  'show_config_json': False,\n",
       "  'MyComponent': {'value': -1},\n",
       "  'SecondaryMyComponent': {'value': -1},\n",
       "  'TelescopeWiseComponent': {'param': [('type', '*', 5.0)]},\n",
       "  'AdvancedComponent': {'infile': PosixPath('/github/home/.cache/ctapipe/cccta-dataserver.in2p3.fr/data/ctapipe-extra/v0.3.3/gamma_test.simtel.gz'),\n",
       "   'outfile': PosixPath('/github/workspace/docs/examples/Another.txt'),\n",
       "   'value1': -1,\n",
       "   'MyComponent': {'value': -1}}}}"
      ]
     },
     "execution_count": 1,
     "metadata": {},
     "output_type": "execute_result"
    }
   ],
   "source": [
    "tool.get_current_config()"
   ]
  },
  {
   "cell_type": "code",
   "execution_count": 31,
   "metadata": {
    "execution": {
     "iopub.execute_input": "2021-02-23T12:33:54.503641Z",
     "iopub.status.busy": "2021-02-23T12:33:54.502712Z",
     "iopub.status.idle": "2021-02-23T12:33:54.505304Z",
     "shell.execute_reply": "2021-02-23T12:33:54.505802Z"
    }
   },
   "outputs": [
    {
     "data": {
      "text/plain": [
       "{'MyTool': {'config_file': None,\n",
       "  'iterations': 12,\n",
       "  'log_config': {'version': 1,\n",
       "   'disable_existing_loggers': False,\n",
       "   'formatters': {'file': {'()': ctapipe.core.logging.PlainFormatter,\n",
       "     'fmt': '%(asctime)s %(levelname)s [%(name)s] (%(module)s.%(funcName)s): %(message)s'},\n",
       "    'console': {'()': ctapipe.core.logging.ColoredFormatter,\n",
       "     'fmt': '%(asctime)s %(levelname)s [%(name)s] (%(module)s.%(funcName)s): %(message)s'}},\n",
       "   'handlers': {'ctapipe-console': {'class': 'logging.StreamHandler',\n",
       "     'formatter': 'console',\n",
       "     'stream': 'ext://sys.stderr',\n",
       "     'level': 30},\n",
       "    'console': {'class': 'logging.StreamHandler',\n",
       "     'formatter': 'console',\n",
       "     'stream': 'ext://sys.stderr',\n",
       "     'level': 'NOTSET'}},\n",
       "   'loggers': {'ctapipe': {'level': 30,\n",
       "     'handlers': ['ctapipe-console'],\n",
       "     'propagate': False}}},\n",
       "  'log_datefmt': '%Y-%m-%d %H:%M:%S',\n",
       "  'log_file': None,\n",
       "  'log_file_level': 'INFO',\n",
       "  'log_format': '%(asctime)s : %(levelname)s [%(name)s %(funcName)s] %(message)s',\n",
       "  'log_level': 10,\n",
       "  'provenance_log': PosixPath('/github/workspace/docs/examples/mytool.provenance.log'),\n",
       "  'quiet': False,\n",
       "  'show_config': False,\n",
       "  'show_config_json': False,\n",
       "  'MyComponent': {'value': -1},\n",
       "  'SecondaryMyComponent': {'value': -1},\n",
       "  'TelescopeWiseComponent': {'param': [('type', '*', 5.0)]},\n",
       "  'AdvancedComponent': {'infile': PosixPath('/github/home/.cache/ctapipe/cccta-dataserver.in2p3.fr/data/ctapipe-extra/v0.3.3/gamma_test.simtel.gz'),\n",
       "   'outfile': PosixPath('/github/workspace/docs/examples/Another.txt'),\n",
       "   'value1': -1,\n",
       "   'MyComponent': {'value': -1}}}}"
      ]
     },
     "execution_count": 1,
     "metadata": {},
     "output_type": "execute_result"
    }
   ],
   "source": [
    "tool.iterations = 12\n",
    "tool.get_current_config()"
   ]
  },
  {
   "cell_type": "markdown",
   "metadata": {},
   "source": [
    "## Writing a Sample Config File"
   ]
  },
  {
   "cell_type": "code",
   "execution_count": 32,
   "metadata": {
    "execution": {
     "iopub.execute_input": "2021-02-23T12:33:54.526724Z",
     "iopub.status.busy": "2021-02-23T12:33:54.524541Z",
     "iopub.status.idle": "2021-02-23T12:33:54.528748Z",
     "shell.execute_reply": "2021-02-23T12:33:54.528262Z"
    }
   },
   "outputs": [
    {
     "name": "stdout",
     "output_type": "stream",
     "text": [
      "# Configuration file for mytool.\n",
      "\n",
      "#------------------------------------------------------------------------------\n",
      "# Application(SingletonConfigurable) configuration\n",
      "#------------------------------------------------------------------------------\n",
      "## This is an application.\n",
      "\n",
      "## The date format used by logging formatters for %(asctime)s\n",
      "#  Default: '%Y-%m-%d %H:%M:%S'\n",
      "# c.Application.log_datefmt = '%Y-%m-%d %H:%M:%S'\n",
      "\n",
      "## The Logging format template\n",
      "#  Default: '[%(name)s]%(highlevel)s %(message)s'\n",
      "# c.Application.log_format = '[%(name)s]%(highlevel)s %(message)s'\n",
      "\n",
      "## Set the log level by value or name.\n",
      "#  Choices: any of [0, 10, 20, 30, 40, 50, 'DEBUG', 'INFO', 'WARN', 'ERROR', 'CRITICAL']\n",
      "#  Default: 30\n",
      "# c.Application.log_level = 30\n",
      "\n",
      "## Instead of starting the Application, dump configuration to stdout\n",
      "#  Default: False\n",
      "# c.Application.show_config = False\n",
      "\n",
      "## Instead of starting the Application, dump configuration to stdout (as JSON)\n",
      "#  Default: False\n",
      "# c.Application.show_config_json = False\n",
      "\n",
      "#------------------------------------------------------------------------------\n",
      "# Tool(Application) configuration\n",
      "#------------------------------------------------------------------------------\n",
      "## This is an application.\n",
      "\n",
      "## name of a configuration file with parameters to load in addition to command-\n",
      "#  line parameters\n",
      "#  Default: None\n",
      "# c.Tool.config_file = None\n",
      "\n",
      "#  Default: {'version': 1, 'disable_existing_loggers': False, 'formatters': {'file': {'()': <class 'ctapipe.core.logging.PlainFormatter'>, 'fmt': '%(asctime)s %(levelname)s [%(name)s] (%(module)s.%(funcName)s): %(message)s'}, 'console': {'()': <class 'ctapipe.core.logging.ColoredFormatter'>, 'fmt': '%(asctime)s %(levelname)s [%(name)s] (%(module)s.%(funcName)s): %(message)s'}}, 'handlers': {'ctapipe-console': {'class': 'logging.StreamHandler', 'formatter': 'console', 'stream': 'ext://sys.stderr', 'level': 30}, 'console': {'class': 'logging.StreamHandler', 'formatter': 'console', 'stream': 'ext://sys.stderr', 'level': 'NOTSET'}}, 'loggers': {'ctapipe': {'level': 30, 'handlers': ['ctapipe-console'], 'propagate': False}}}\n",
      "# c.Tool.log_config = {'version': 1, 'disable_existing_loggers': False, 'formatters': {'file': {'()': <class 'ctapipe.core.logging.PlainFormatter'>, 'fmt': '%(asctime)s %(levelname)s [%(name)s] (%(module)s.%(funcName)s): %(message)s'}, 'console': {'()': <class 'ctapipe.core.logging.ColoredFormatter'>, 'fmt': '%(asctime)s %(levelname)s [%(name)s] (%(module)s.%(funcName)s): %(message)s'}}, 'handlers': {'ctapipe-console': {'class': 'logging.StreamHandler', 'formatter': 'console', 'stream': 'ext://sys.stderr', 'level': 30}, 'console': {'class': 'logging.StreamHandler', 'formatter': 'console', 'stream': 'ext://sys.stderr', 'level': 'NOTSET'}}, 'loggers': {'ctapipe': {'level': 30, 'handlers': ['ctapipe-console'], 'propagate': False}}}\n",
      "\n",
      "## The date format used by logging formatters for %(asctime)s\n",
      "#  See also: Application.log_datefmt\n",
      "# c.Tool.log_datefmt = '%Y-%m-%d %H:%M:%S'\n",
      "\n",
      "## Filename for the log\n",
      "#  Default: None\n",
      "# c.Tool.log_file = None\n",
      "\n",
      "## Logging Level for File Logging\n",
      "#  Choices: any of [0, 10, 20, 30, 40, 50, 'DEBUG', 'INFO', 'WARN', 'ERROR', 'CRITICAL']\n",
      "#  Default: 'INFO'\n",
      "# c.Tool.log_file_level = 'INFO'\n",
      "\n",
      "## The Logging format template\n",
      "#  See also: Application.log_format\n",
      "# c.Tool.log_format = '[%(name)s]%(highlevel)s %(message)s'\n",
      "\n",
      "## Set the log level by value or name.\n",
      "#  See also: Application.log_level\n",
      "# c.Tool.log_level = 30\n",
      "\n",
      "#  Default: None\n",
      "# c.Tool.provenance_log = None\n",
      "\n",
      "#  Default: False\n",
      "# c.Tool.quiet = False\n",
      "\n",
      "## Instead of starting the Application, dump configuration to stdout\n",
      "#  See also: Application.show_config\n",
      "# c.Tool.show_config = False\n",
      "\n",
      "## Instead of starting the Application, dump configuration to stdout (as JSON)\n",
      "#  See also: Application.show_config_json\n",
      "# c.Tool.show_config_json = False\n",
      "\n",
      "#------------------------------------------------------------------------------\n",
      "# MyTool(Tool) configuration\n",
      "#------------------------------------------------------------------------------\n",
      "## name of a configuration file with parameters to load in addition to command-\n",
      "#  line parameters\n",
      "#  See also: Tool.config_file\n",
      "# c.MyTool.config_file = None\n",
      "\n",
      "## Number of times to run\n",
      "#  Default: 5\n",
      "# c.MyTool.iterations = 5\n",
      "\n",
      "#  See also: Tool.log_config\n",
      "# c.MyTool.log_config = {'version': 1, 'disable_existing_loggers': False, 'formatters': {'file': {'()': <class 'ctapipe.core.logging.PlainFormatter'>, 'fmt': '%(asctime)s %(levelname)s [%(name)s] (%(module)s.%(funcName)s): %(message)s'}, 'console': {'()': <class 'ctapipe.core.logging.ColoredFormatter'>, 'fmt': '%(asctime)s %(levelname)s [%(name)s] (%(module)s.%(funcName)s): %(message)s'}}, 'handlers': {'ctapipe-console': {'class': 'logging.StreamHandler', 'formatter': 'console', 'stream': 'ext://sys.stderr', 'level': 30}, 'console': {'class': 'logging.StreamHandler', 'formatter': 'console', 'stream': 'ext://sys.stderr', 'level': 'NOTSET'}}, 'loggers': {'ctapipe': {'level': 30, 'handlers': ['ctapipe-console'], 'propagate': False}}}\n",
      "\n",
      "## The date format used by logging formatters for %(asctime)s\n",
      "#  See also: Application.log_datefmt\n",
      "# c.MyTool.log_datefmt = '%Y-%m-%d %H:%M:%S'\n",
      "\n",
      "## Filename for the log\n",
      "#  See also: Tool.log_file\n",
      "# c.MyTool.log_file = None\n",
      "\n",
      "## Logging Level for File Logging\n",
      "#  See also: Tool.log_file_level\n",
      "# c.MyTool.log_file_level = 'INFO'\n",
      "\n",
      "## The Logging format template\n",
      "#  See also: Application.log_format\n",
      "# c.MyTool.log_format = '[%(name)s]%(highlevel)s %(message)s'\n",
      "\n",
      "## Set the log level by value or name.\n",
      "#  See also: Application.log_level\n",
      "# c.MyTool.log_level = 30\n",
      "\n",
      "#  See also: Tool.provenance_log\n",
      "# c.MyTool.provenance_log = None\n",
      "\n",
      "#  See also: Tool.quiet\n",
      "# c.MyTool.quiet = False\n",
      "\n",
      "## Instead of starting the Application, dump configuration to stdout\n",
      "#  See also: Application.show_config\n",
      "# c.MyTool.show_config = False\n",
      "\n",
      "## Instead of starting the Application, dump configuration to stdout (as JSON)\n",
      "#  See also: Application.show_config_json\n",
      "# c.MyTool.show_config_json = False\n",
      "\n",
      "#------------------------------------------------------------------------------\n",
      "# MyComponent(Component) configuration\n",
      "#------------------------------------------------------------------------------\n",
      "## A Component that does stuff\n",
      "\n",
      "## Value to use\n",
      "#  Default: -1\n",
      "# c.MyComponent.value = -1\n",
      "\n",
      "#------------------------------------------------------------------------------\n",
      "# AdvancedComponent(Component) configuration\n",
      "#------------------------------------------------------------------------------\n",
      "## An advanced technique\n",
      "\n",
      "## input file name\n",
      "#  Default: None\n",
      "# c.AdvancedComponent.infile = None\n",
      "\n",
      "## output file name\n",
      "#  Default: None\n",
      "# c.AdvancedComponent.outfile = None\n",
      "\n",
      "## Value to use\n",
      "#  Default: -1\n",
      "# c.AdvancedComponent.value1 = -1\n",
      "\n",
      "#------------------------------------------------------------------------------\n",
      "# SecondaryMyComponent(MyComponent) configuration\n",
      "#------------------------------------------------------------------------------\n",
      "## Value to use\n",
      "#  See also: MyComponent.value\n",
      "# c.SecondaryMyComponent.value = -1\n",
      "\n",
      "#------------------------------------------------------------------------------\n",
      "# TelescopeWiseComponent(TelescopeComponent) configuration\n",
      "#------------------------------------------------------------------------------\n",
      "## a component that contains parameters that are per-telescope configurable\n",
      "\n",
      "## Something configurable with telescope patterns\n",
      "#  Default: [('type', '*', 5.0)]\n",
      "# c.TelescopeWiseComponent.param = [('type', '*', 5.0)]\n",
      "\n"
     ]
    }
   ],
   "source": [
    "print(tool.generate_config_file())"
   ]
  }
 ],
 "metadata": {
  "kernelspec": {
   "display_name": "Python 3",
   "language": "python",
   "name": "python3"
  },
  "language_info": {
   "codemirror_mode": {
    "name": "ipython",
    "version": 3
   },
   "file_extension": ".py",
   "mimetype": "text/x-python",
   "name": "python",
   "nbconvert_exporter": "python",
   "pygments_lexer": "ipython3",
   "version": "3.8.2"
  }
 },
 "nbformat": 4,
 "nbformat_minor": 4
}
