{
 "cells": [
  {
   "cell_type": "markdown",
   "metadata": {},
   "source": [
    "# containers_with_enums_and_table_writer\n"
   ]
  },
  {
   "cell_type": "markdown",
   "metadata": {},
   "source": [
    "## Create some example Containers"
   ]
  },
  {
   "cell_type": "code",
   "execution_count": 1,
   "metadata": {
    "execution": {
     "iopub.execute_input": "2021-02-23T12:34:09.914466Z",
     "iopub.status.busy": "2021-02-23T12:34:09.913509Z",
     "iopub.status.idle": "2021-02-23T12:34:13.526815Z",
     "shell.execute_reply": "2021-02-23T12:34:13.525872Z"
    }
   },
   "outputs": [],
   "source": [
    "import enum\n",
    "from ctapipe.io import HDF5TableWriter\n",
    "from ctapipe.core import Container, Field\n",
    "from astropy import units as u\n",
    "import numpy as np"
   ]
  },
  {
   "cell_type": "code",
   "execution_count": 2,
   "metadata": {
    "execution": {
     "iopub.execute_input": "2021-02-23T12:34:13.533265Z",
     "iopub.status.busy": "2021-02-23T12:34:13.531975Z",
     "iopub.status.idle": "2021-02-23T12:34:13.533916Z",
     "shell.execute_reply": "2021-02-23T12:34:13.534367Z"
    }
   },
   "outputs": [],
   "source": [
    "class WithEnum(Container):\n",
    "    \n",
    "    # this class could also be defined in global namespace \n",
    "    # outside this container, but this looks a bit tidier.\n",
    "    # both variants work however\n",
    "    class EventType(enum.Enum):\n",
    "        pedestal = 1\n",
    "        physics = 2\n",
    "        calibration = 3\n",
    "    \n",
    "    event_type = Field(\n",
    "        EventType.calibration, \n",
    "        f'type of event, one of: {list(EventType.__members__.keys())}'\n",
    "    )"
   ]
  },
  {
   "cell_type": "markdown",
   "metadata": {},
   "source": [
    "let's also make a dummy stream (generator) that will create a series of these containers"
   ]
  },
  {
   "cell_type": "code",
   "execution_count": 3,
   "metadata": {
    "execution": {
     "iopub.execute_input": "2021-02-23T12:34:13.539404Z",
     "iopub.status.busy": "2021-02-23T12:34:13.538466Z",
     "iopub.status.idle": "2021-02-23T12:34:13.540398Z",
     "shell.execute_reply": "2021-02-23T12:34:13.540817Z"
    }
   },
   "outputs": [],
   "source": [
    "def create_stream(n_event):\n",
    "    data = WithEnum()\n",
    "    for i in range(n_event):\n",
    "        data.event_type = WithEnum.EventType(i % 3 + 1)\n",
    "        yield data"
   ]
  },
  {
   "cell_type": "code",
   "execution_count": 4,
   "metadata": {
    "execution": {
     "iopub.execute_input": "2021-02-23T12:34:13.546970Z",
     "iopub.status.busy": "2021-02-23T12:34:13.545617Z",
     "iopub.status.idle": "2021-02-23T12:34:13.548995Z",
     "shell.execute_reply": "2021-02-23T12:34:13.548507Z"
    }
   },
   "outputs": [
    {
     "name": "stdout",
     "output_type": "stream",
     "text": [
      "event_type: EventType.pedestal, type : <enum 'EventType'>\n",
      "event_type: EventType.physics, type : <enum 'EventType'>\n",
      "event_type: EventType.calibration, type : <enum 'EventType'>\n"
     ]
    }
   ],
   "source": [
    "for data in create_stream(3):\n",
    "    for key, val in data.items():\n",
    "        print('{}: {}, type : {}'.format(key, val, type(val)))"
   ]
  },
  {
   "cell_type": "markdown",
   "metadata": {},
   "source": [
    "## Writing the Data"
   ]
  },
  {
   "cell_type": "code",
   "execution_count": 5,
   "metadata": {
    "execution": {
     "iopub.execute_input": "2021-02-23T12:34:13.560519Z",
     "iopub.status.busy": "2021-02-23T12:34:13.559923Z",
     "iopub.status.idle": "2021-02-23T12:34:13.562591Z",
     "shell.execute_reply": "2021-02-23T12:34:13.562119Z"
    }
   },
   "outputs": [],
   "source": [
    "with HDF5TableWriter('container.h5', group_name='data') as h5_table:\n",
    "    for data in create_stream(10):\n",
    "        h5_table.write('table', data)"
   ]
  },
  {
   "cell_type": "code",
   "execution_count": 6,
   "metadata": {
    "execution": {
     "iopub.execute_input": "2021-02-23T12:34:13.567337Z",
     "iopub.status.busy": "2021-02-23T12:34:13.566784Z",
     "iopub.status.idle": "2021-02-23T12:34:14.322274Z",
     "shell.execute_reply": "2021-02-23T12:34:14.321489Z"
    }
   },
   "outputs": [
    {
     "name": "stdout",
     "output_type": "stream",
     "text": [
      "container.h5\r\n"
     ]
    }
   ],
   "source": [
    "!ls container.h5"
   ]
  },
  {
   "cell_type": "markdown",
   "metadata": {},
   "source": [
    "## Reading the Data"
   ]
  },
  {
   "cell_type": "code",
   "execution_count": 7,
   "metadata": {
    "execution": {
     "iopub.execute_input": "2021-02-23T12:34:14.329325Z",
     "iopub.status.busy": "2021-02-23T12:34:14.327968Z",
     "iopub.status.idle": "2021-02-23T12:34:14.651286Z",
     "shell.execute_reply": "2021-02-23T12:34:14.650767Z"
    }
   },
   "outputs": [
    {
     "data": {
      "text/html": [
       "<div>\n",
       "<style scoped>\n",
       "    .dataframe tbody tr th:only-of-type {\n",
       "        vertical-align: middle;\n",
       "    }\n",
       "\n",
       "    .dataframe tbody tr th {\n",
       "        vertical-align: top;\n",
       "    }\n",
       "\n",
       "    .dataframe thead th {\n",
       "        text-align: right;\n",
       "    }\n",
       "</style>\n",
       "<table border=\"1\" class=\"dataframe\">\n",
       "  <thead>\n",
       "    <tr style=\"text-align: right;\">\n",
       "      <th></th>\n",
       "      <th>event_type</th>\n",
       "    </tr>\n",
       "  </thead>\n",
       "  <tbody>\n",
       "    <tr>\n",
       "      <th>0</th>\n",
       "      <td>1</td>\n",
       "    </tr>\n",
       "    <tr>\n",
       "      <th>1</th>\n",
       "      <td>2</td>\n",
       "    </tr>\n",
       "    <tr>\n",
       "      <th>2</th>\n",
       "      <td>3</td>\n",
       "    </tr>\n",
       "    <tr>\n",
       "      <th>3</th>\n",
       "      <td>1</td>\n",
       "    </tr>\n",
       "    <tr>\n",
       "      <th>4</th>\n",
       "      <td>2</td>\n",
       "    </tr>\n",
       "  </tbody>\n",
       "</table>\n",
       "</div>"
      ],
      "text/plain": [
       "   event_type\n",
       "0           1\n",
       "1           2\n",
       "2           3\n",
       "3           1\n",
       "4           2"
      ]
     },
     "execution_count": 1,
     "metadata": {},
     "output_type": "execute_result"
    }
   ],
   "source": [
    "import pandas as pd\n",
    "\n",
    "data = pd.read_hdf('container.h5', key='/data/table')\n",
    "data.head()"
   ]
  },
  {
   "cell_type": "markdown",
   "metadata": {},
   "source": [
    "#### Reading with PyTables"
   ]
  },
  {
   "cell_type": "code",
   "execution_count": 8,
   "metadata": {
    "execution": {
     "iopub.execute_input": "2021-02-23T12:34:14.661000Z",
     "iopub.status.busy": "2021-02-23T12:34:14.660447Z",
     "iopub.status.idle": "2021-02-23T12:34:14.666125Z",
     "shell.execute_reply": "2021-02-23T12:34:14.665608Z"
    }
   },
   "outputs": [
    {
     "data": {
      "text/plain": [
       "/data/table (Table(10,), fletcher32, shuffle, blosc:zstd(5)) 'Storage of WithEnum'\n",
       "  description := {\n",
       "  \"event_type\": Int64Col(shape=(), dflt=0, pos=0)}\n",
       "  byteorder := 'little'\n",
       "  chunkshape := (8192,)"
      ]
     },
     "execution_count": 1,
     "metadata": {},
     "output_type": "execute_result"
    }
   ],
   "source": [
    "import tables\n",
    "h5  = tables.open_file('container.h5')\n",
    "table = h5.root['data']['table']\n",
    "table"
   ]
  },
  {
   "cell_type": "code",
   "execution_count": 9,
   "metadata": {
    "execution": {
     "iopub.execute_input": "2021-02-23T12:34:14.670637Z",
     "iopub.status.busy": "2021-02-23T12:34:14.670113Z",
     "iopub.status.idle": "2021-02-23T12:34:14.673950Z",
     "shell.execute_reply": "2021-02-23T12:34:14.674406Z"
    }
   },
   "outputs": [
    {
     "data": {
      "text/plain": [
       "/data/table._v_attrs (AttributeSet), 10 attributes:\n",
       "   [CLASS := 'TABLE',\n",
       "    CTAPIPE_VERSION := '0.10.4.dev6+g833cd994',\n",
       "    FIELD_0_FILL := 0,\n",
       "    FIELD_0_NAME := 'event_type',\n",
       "    NROWS := 10,\n",
       "    TITLE := 'Storage of WithEnum',\n",
       "    VERSION := '2.7',\n",
       "    event_type_DESC := \"type of event, one of: ['pedestal', 'physics', 'calibration']\",\n",
       "    event_type_ENUM := <enum 'EventType'>,\n",
       "    event_type_TRANSFORM := 'enum']"
      ]
     },
     "execution_count": 1,
     "metadata": {},
     "output_type": "execute_result"
    }
   ],
   "source": [
    "table.attrs"
   ]
  },
  {
   "cell_type": "code",
   "execution_count": 10,
   "metadata": {
    "execution": {
     "iopub.execute_input": "2021-02-23T12:34:14.680374Z",
     "iopub.status.busy": "2021-02-23T12:34:14.679230Z",
     "iopub.status.idle": "2021-02-23T12:34:14.680975Z",
     "shell.execute_reply": "2021-02-23T12:34:14.681421Z"
    }
   },
   "outputs": [],
   "source": [
    "from ctapipe.io import HDF5TableReader\n",
    "\n",
    "def read(mode):\n",
    "    \n",
    "    print('reading mode {}'.format(mode))\n",
    "\n",
    "    with HDF5TableReader('container.h5', mode=mode) as h5_table:\n",
    "\n",
    "        for group_name in ['data/']:\n",
    "\n",
    "            group_name = '/{}table'.format(group_name)\n",
    "            print(group_name)\n",
    "\n",
    "            for data in h5_table.read(group_name, WithEnum()):\n",
    "\n",
    "                print(data.as_dict())"
   ]
  },
  {
   "cell_type": "code",
   "execution_count": 11,
   "metadata": {
    "execution": {
     "iopub.execute_input": "2021-02-23T12:34:14.685644Z",
     "iopub.status.busy": "2021-02-23T12:34:14.685074Z",
     "iopub.status.idle": "2021-02-23T12:34:14.692528Z",
     "shell.execute_reply": "2021-02-23T12:34:14.692042Z"
    }
   },
   "outputs": [
    {
     "name": "stdout",
     "output_type": "stream",
     "text": [
      "reading mode r\n",
      "/data/table\n",
      "{'event_type': <EventType.pedestal: 1>}\n",
      "{'event_type': <EventType.physics: 2>}\n",
      "{'event_type': <EventType.calibration: 3>}\n",
      "{'event_type': <EventType.pedestal: 1>}\n",
      "{'event_type': <EventType.physics: 2>}\n",
      "{'event_type': <EventType.calibration: 3>}\n",
      "{'event_type': <EventType.pedestal: 1>}\n",
      "{'event_type': <EventType.physics: 2>}\n",
      "{'event_type': <EventType.calibration: 3>}\n",
      "{'event_type': <EventType.pedestal: 1>}\n"
     ]
    }
   ],
   "source": [
    "read('r')"
   ]
  }
 ],
 "metadata": {
  "kernelspec": {
   "display_name": "Python 3",
   "language": "python",
   "name": "python3"
  },
  "language_info": {
   "codemirror_mode": {
    "name": "ipython",
    "version": 3
   },
   "file_extension": ".py",
   "mimetype": "text/x-python",
   "name": "python",
   "nbconvert_exporter": "python",
   "pygments_lexer": "ipython3",
   "version": "3.8.2"
  }
 },
 "nbformat": 4,
 "nbformat_minor": 2
}
