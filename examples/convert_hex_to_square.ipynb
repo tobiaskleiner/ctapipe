{
 "cells": [
  {
   "cell_type": "markdown",
   "metadata": {},
   "source": [
    "# Convert hexagonal cameras into square grid and back"
   ]
  },
  {
   "cell_type": "code",
   "execution_count": 1,
   "metadata": {
    "execution": {
     "iopub.execute_input": "2021-02-23T12:34:18.257413Z",
     "iopub.status.busy": "2021-02-23T12:34:18.256470Z",
     "iopub.status.idle": "2021-02-23T12:34:21.879728Z",
     "shell.execute_reply": "2021-02-23T12:34:21.878768Z"
    }
   },
   "outputs": [],
   "source": [
    "from ctapipe.utils import get_dataset_path\n",
    "from ctapipe.image.geometry_converter import convert_geometry_hex1d_to_rect2d, convert_geometry_rect2d_back_to_hexe1d\n",
    "from ctapipe.visualization import CameraDisplay\n",
    "from ctapipe.io import EventSource\n",
    "import copy\n",
    "import matplotlib.pyplot as plt"
   ]
  },
  {
   "cell_type": "markdown",
   "metadata": {},
   "source": [
    "## Setup"
   ]
  },
  {
   "cell_type": "code",
   "execution_count": 2,
   "metadata": {
    "execution": {
     "iopub.execute_input": "2021-02-23T12:34:21.884344Z",
     "iopub.status.busy": "2021-02-23T12:34:21.883804Z",
     "iopub.status.idle": "2021-02-23T12:34:21.891269Z",
     "shell.execute_reply": "2021-02-23T12:34:21.890739Z"
    }
   },
   "outputs": [],
   "source": [
    "filename = get_dataset_path('gamma_test_large.simtel.gz')"
   ]
  },
  {
   "cell_type": "code",
   "execution_count": 3,
   "metadata": {
    "execution": {
     "iopub.execute_input": "2021-02-23T12:34:21.895767Z",
     "iopub.status.busy": "2021-02-23T12:34:21.895229Z",
     "iopub.status.idle": "2021-02-23T12:34:24.119004Z",
     "shell.execute_reply": "2021-02-23T12:34:24.118468Z"
    }
   },
   "outputs": [],
   "source": [
    "source = EventSource(filename, max_events=10, allowed_tels={1})"
   ]
  },
  {
   "cell_type": "code",
   "execution_count": 4,
   "metadata": {
    "execution": {
     "iopub.execute_input": "2021-02-23T12:34:24.141934Z",
     "iopub.status.busy": "2021-02-23T12:34:24.141318Z",
     "iopub.status.idle": "2021-02-23T12:34:26.704224Z",
     "shell.execute_reply": "2021-02-23T12:34:26.703264Z"
    }
   },
   "outputs": [],
   "source": [
    "events = [copy.deepcopy(event) for event in source]"
   ]
  },
  {
   "cell_type": "code",
   "execution_count": 5,
   "metadata": {
    "execution": {
     "iopub.execute_input": "2021-02-23T12:34:26.708795Z",
     "iopub.status.busy": "2021-02-23T12:34:26.708167Z",
     "iopub.status.idle": "2021-02-23T12:34:26.711557Z",
     "shell.execute_reply": "2021-02-23T12:34:26.711980Z"
    }
   },
   "outputs": [],
   "source": [
    "event = events[0]"
   ]
  },
  {
   "cell_type": "code",
   "execution_count": 6,
   "metadata": {
    "execution": {
     "iopub.execute_input": "2021-02-23T12:34:26.821485Z",
     "iopub.status.busy": "2021-02-23T12:34:26.740306Z",
     "iopub.status.idle": "2021-02-23T12:34:27.092782Z",
     "shell.execute_reply": "2021-02-23T12:34:27.093571Z"
    }
   },
   "outputs": [
    {
     "data": {
      "text/plain": [
       "<ctapipe.visualization.mpl_camera.CameraDisplay at 0x7f1b1a33bc10>"
      ]
     },
     "execution_count": 1,
     "metadata": {},
     "output_type": "execute_result"
    }
   ],
   "source": [
    "geometry = source.subarray.tel[1].camera.geometry\n",
    "image = event.r0.tel[1].waveform[0].sum(axis=1)\n",
    "CameraDisplay(geometry, image)"
   ]
  },
  {
   "cell_type": "markdown",
   "metadata": {},
   "source": [
    "## Conversion into square geometry"
   ]
  },
  {
   "cell_type": "markdown",
   "metadata": {},
   "source": [
    "**A key must be speficied to be able to convert back to hexagonal afterwards**   \n",
    "The conversion geometry is stored in `ctapipe.image.geometry_convert.rot_buffer`"
   ]
  },
  {
   "cell_type": "code",
   "execution_count": 7,
   "metadata": {
    "execution": {
     "iopub.execute_input": "2021-02-23T12:34:27.102194Z",
     "iopub.status.busy": "2021-02-23T12:34:27.096063Z",
     "iopub.status.idle": "2021-02-23T12:34:27.584741Z",
     "shell.execute_reply": "2021-02-23T12:34:27.583600Z"
    }
   },
   "outputs": [],
   "source": [
    "key = 0\n",
    "square_geom, square_image = convert_geometry_hex1d_to_rect2d(geometry, image, key=key)"
   ]
  },
  {
   "cell_type": "code",
   "execution_count": 8,
   "metadata": {
    "execution": {
     "iopub.execute_input": "2021-02-23T12:34:27.590446Z",
     "iopub.status.busy": "2021-02-23T12:34:27.589835Z",
     "iopub.status.idle": "2021-02-23T12:34:27.594954Z",
     "shell.execute_reply": "2021-02-23T12:34:27.594474Z"
    }
   },
   "outputs": [
    {
     "data": {
      "text/plain": [
       "<matplotlib.image.AxesImage at 0x7f1b1a1bd610>"
      ]
     },
     "execution_count": 1,
     "metadata": {},
     "output_type": "execute_result"
    }
   ],
   "source": [
    "plt.imshow(square_image)"
   ]
  },
  {
   "cell_type": "markdown",
   "metadata": {},
   "source": [
    "## Conversion back to hexagonal geometry"
   ]
  },
  {
   "cell_type": "code",
   "execution_count": 9,
   "metadata": {
    "execution": {
     "iopub.execute_input": "2021-02-23T12:34:27.599554Z",
     "iopub.status.busy": "2021-02-23T12:34:27.598649Z",
     "iopub.status.idle": "2021-02-23T12:34:27.600975Z",
     "shell.execute_reply": "2021-02-23T12:34:27.600531Z"
    }
   },
   "outputs": [],
   "source": [
    "hex_geom, hex_image = convert_geometry_rect2d_back_to_hexe1d(square_geom, square_image, key=key)"
   ]
  },
  {
   "cell_type": "code",
   "execution_count": 10,
   "metadata": {
    "execution": {
     "iopub.execute_input": "2021-02-23T12:34:27.606370Z",
     "iopub.status.busy": "2021-02-23T12:34:27.604045Z",
     "iopub.status.idle": "2021-02-23T12:34:28.067174Z",
     "shell.execute_reply": "2021-02-23T12:34:28.066599Z"
    }
   },
   "outputs": [
    {
     "data": {
      "text/plain": [
       "<ctapipe.visualization.mpl_camera.CameraDisplay at 0x7f1b1a1bd550>"
      ]
     },
     "execution_count": 1,
     "metadata": {},
     "output_type": "execute_result"
    }
   ],
   "source": [
    "CameraDisplay(hex_geom, hex_image)"
   ]
  },
  {
   "cell_type": "markdown",
   "metadata": {},
   "source": [
    "Let's check that the images are exactly the same:"
   ]
  },
  {
   "cell_type": "code",
   "execution_count": 11,
   "metadata": {
    "execution": {
     "iopub.execute_input": "2021-02-23T12:34:28.071637Z",
     "iopub.status.busy": "2021-02-23T12:34:28.071102Z",
     "iopub.status.idle": "2021-02-23T12:34:28.074361Z",
     "shell.execute_reply": "2021-02-23T12:34:28.074989Z"
    }
   },
   "outputs": [],
   "source": [
    "assert (hex_image == image).all()"
   ]
  },
  {
   "cell_type": "code",
   "execution_count": 12,
   "metadata": {
    "execution": {
     "iopub.execute_input": "2021-02-23T12:34:28.079439Z",
     "iopub.status.busy": "2021-02-23T12:34:28.078862Z",
     "iopub.status.idle": "2021-02-23T12:34:28.081405Z",
     "shell.execute_reply": "2021-02-23T12:34:28.080829Z"
    }
   },
   "outputs": [],
   "source": [
    "assert hex_geom == geometry"
   ]
  }
 ],
 "metadata": {
  "kernelspec": {
   "display_name": "Python 3",
   "language": "python",
   "name": "python3"
  },
  "language_info": {
   "codemirror_mode": {
    "name": "ipython",
    "version": 3
   },
   "file_extension": ".py",
   "mimetype": "text/x-python",
   "name": "python",
   "nbconvert_exporter": "python",
   "pygments_lexer": "ipython3",
   "version": "3.8.2"
  }
 },
 "nbformat": 4,
 "nbformat_minor": 2
}
